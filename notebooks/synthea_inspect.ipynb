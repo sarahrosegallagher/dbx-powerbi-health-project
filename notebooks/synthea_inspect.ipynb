{
 "cells": [
  {
   "cell_type": "code",
   "execution_count": 0,
   "metadata": {
    "application/vnd.databricks.v1+cell": {
     "cellMetadata": {
      "byteLimit": 2048000,
      "rowLimit": 10000
     },
     "inputWidgets": {},
     "nuid": "2c3d8b8b-83d9-43b7-8bbe-fa7d8fe0b851",
     "showTitle": false,
     "tableResultSettingsMap": {},
     "title": ""
    }
   },
   "outputs": [],
   "source": [
    "# Imports\n",
    "from pyspark.sql.types import *\n",
    "from pyspark.sql.functions import (\n",
    "    col,\n",
    "    length,\n",
    "    trim,\n",
    "    regexp_replace,\n",
    "    regexp_extract,\n",
    "    to_date,\n",
    "    to_timestamp,\n",
    "    when,\n",
    "    lpad\n",
    ")\n",
    "from pyspark.sql import DataFrame\n"
   ]
  },
  {
   "cell_type": "code",
   "execution_count": 0,
   "metadata": {
    "application/vnd.databricks.v1+cell": {
     "cellMetadata": {
      "byteLimit": 2048000,
      "rowLimit": 10000
     },
     "inputWidgets": {},
     "nuid": "4359732b-ec11-4e3e-94eb-67002e9fcc3f",
     "showTitle": false,
     "tableResultSettingsMap": {},
     "title": ""
    }
   },
   "outputs": [],
   "source": [
    "# path = \"/FileStore/bronze/encounters\"\n",
    "# path = \"/FileStore/bronze/patients\"\n",
    "# path = \"/FileStore/bronze/providers\"\n",
    "path = \"/FileStore/bronze/conditions\"\n",
    "# path = \"/FileStore/bronze/organizations\""
   ]
  },
  {
   "cell_type": "code",
   "execution_count": 0,
   "metadata": {
    "application/vnd.databricks.v1+cell": {
     "cellMetadata": {
      "byteLimit": 2048000,
      "rowLimit": 10000
     },
     "inputWidgets": {},
     "nuid": "dbc0bcd4-7fa9-4d55-addc-984fa8dd5d5f",
     "showTitle": false,
     "tableResultSettingsMap": {},
     "title": ""
    }
   },
   "outputs": [],
   "source": [
    "# Load the bronze Delta table\n",
    "df = spark.read.format(\"delta\").load(path)\n",
    "\n",
    "# Alternatively, use the Hive table if registered\n",
    "# encounters_bronze = spark.table(\"bronze_encounters\")\n"
   ]
  },
  {
   "cell_type": "code",
   "execution_count": 0,
   "metadata": {
    "application/vnd.databricks.v1+cell": {
     "cellMetadata": {
      "byteLimit": 2048000,
      "rowLimit": 10000
     },
     "inputWidgets": {},
     "nuid": "53d635c5-c3ba-43c7-8ab1-55064839173e",
     "showTitle": false,
     "tableResultSettingsMap": {},
     "title": ""
    }
   },
   "outputs": [
    {
     "output_type": "stream",
     "name": "stdout",
     "output_type": "stream",
     "text": [
      "root\n |-- start: date (nullable = true)\n |-- stop: date (nullable = true)\n |-- patient: string (nullable = true)\n |-- encounter: string (nullable = true)\n |-- system: string (nullable = true)\n |-- code: long (nullable = true)\n |-- description: string (nullable = true)\n |-- ingestion_timestamp: timestamp (nullable = true)\n |-- source_file: string (nullable = true)\n\n"
     ]
    },
    {
     "output_type": "display_data",
     "data": {
      "text/html": [
       "<style scoped>\n",
       "  .table-result-container {\n",
       "    max-height: 300px;\n",
       "    overflow: auto;\n",
       "  }\n",
       "  table, th, td {\n",
       "    border: 1px solid black;\n",
       "    border-collapse: collapse;\n",
       "  }\n",
       "  th, td {\n",
       "    padding: 5px;\n",
       "  }\n",
       "  th {\n",
       "    text-align: left;\n",
       "  }\n",
       "</style><div class='table-result-container'><table class='table-result'><thead style='background-color: white'><tr><th>start</th><th>stop</th><th>patient</th><th>encounter</th><th>system</th><th>code</th><th>description</th><th>ingestion_timestamp</th><th>source_file</th></tr></thead><tbody><tr><td>2015-05-29</td><td>2016-05-27</td><td>8a4869c4-4545-219f-2c65-fc44f98f3edf</td><td>4f7d84f3-8207-7c46-3291-3e5ed0bfe0df</td><td>SNOMED-CT</td><td>314529007</td><td>Medication review due (situation)</td><td>2025-06-16T02:50:32.469+0000</td><td>/FileStore/tables/conditions.csv</td></tr><tr><td>2021-10-14</td><td>2021-11-18</td><td>0e4068e0-4312-9a70-8f4d-46d1ddb9ae7c</td><td>96c9dae7-5534-9b62-ff62-f9070d16cccc</td><td>SNOMED-CT</td><td>314529007</td><td>Medication review due (situation)</td><td>2025-06-16T02:50:32.469+0000</td><td>/FileStore/tables/conditions.csv</td></tr><tr><td>2015-06-13</td><td>2015-11-27</td><td>8a4869c4-4545-219f-2c65-fc44f98f3edf</td><td>b7d27489-fe6c-bd22-a90c-789c1aa2a7ce</td><td>SNOMED-CT</td><td>65363002</td><td>Otitis media (disorder)</td><td>2025-06-16T02:50:32.469+0000</td><td>/FileStore/tables/conditions.csv</td></tr><tr><td>2016-10-06</td><td>2016-12-05</td><td>8a4869c4-4545-219f-2c65-fc44f98f3edf</td><td>23998ffd-5bca-e28e-915c-42763fd6e7f0</td><td>SNOMED-CT</td><td>110030002</td><td>Concussion injury of brain (disorder)</td><td>2025-06-16T02:50:32.469+0000</td><td>/FileStore/tables/conditions.csv</td></tr><tr><td>2016-10-06</td><td>2016-12-05</td><td>8a4869c4-4545-219f-2c65-fc44f98f3edf</td><td>23998ffd-5bca-e28e-915c-42763fd6e7f0</td><td>SNOMED-CT</td><td>62106007</td><td>Concussion with no loss of consciousness (disorder)</td><td>2025-06-16T02:50:32.469+0000</td><td>/FileStore/tables/conditions.csv</td></tr><tr><td>2016-11-25</td><td>2019-12-06</td><td>8a4869c4-4545-219f-2c65-fc44f98f3edf</td><td>1a82bcb4-4af2-1e09-5d17-1b9de6e50323</td><td>SNOMED-CT</td><td>314529007</td><td>Medication review due (situation)</td><td>2025-06-16T02:50:32.469+0000</td><td>/FileStore/tables/conditions.csv</td></tr><tr><td>2022-01-20</td><td>2022-01-20</td><td>0e4068e0-4312-9a70-8f4d-46d1ddb9ae7c</td><td>dabf85d7-5cdf-ff0b-1374-9b14f06893e5</td><td>SNOMED-CT</td><td>314529007</td><td>Medication review due (situation)</td><td>2025-06-16T02:50:32.469+0000</td><td>/FileStore/tables/conditions.csv</td></tr><tr><td>2006-02-19</td><td>2020-04-08</td><td>c0ec9264-5dda-fea6-ddea-edf27c0e846b</td><td>1d0b7aa1-cb2a-1b69-acb5-39aac257236c</td><td>SNOMED-CT</td><td>232353008</td><td>Perennial allergic rhinitis with seasonal variation (disorder)</td><td>2025-06-16T02:50:32.469+0000</td><td>/FileStore/tables/conditions.csv</td></tr><tr><td>2016-05-11</td><td>2016-05-11</td><td>c0ec9264-5dda-fea6-ddea-edf27c0e846b</td><td>3ec5e7c4-4362-eedf-aa7e-5bddcacba3c4</td><td>SNOMED-CT</td><td>314529007</td><td>Medication review due (situation)</td><td>2025-06-16T02:50:32.469+0000</td><td>/FileStore/tables/conditions.csv</td></tr><tr><td>2016-05-11</td><td>2016-05-26</td><td>c0ec9264-5dda-fea6-ddea-edf27c0e846b</td><td>3ec5e7c4-4362-eedf-aa7e-5bddcacba3c4</td><td>SNOMED-CT</td><td>66383009</td><td>Gingivitis (disorder)</td><td>2025-06-16T02:50:32.469+0000</td><td>/FileStore/tables/conditions.csv</td></tr></tbody></table></div>"
      ]
     },
     "metadata": {
      "application/vnd.databricks.v1+output": {
       "addedWidgets": {},
       "aggData": [],
       "aggError": "",
       "aggOverflow": false,
       "aggSchema": [],
       "aggSeriesLimitReached": false,
       "aggType": "",
       "arguments": {},
       "columnCustomDisplayInfos": {},
       "data": [
        [
         "2015-05-29",
         "2016-05-27",
         "8a4869c4-4545-219f-2c65-fc44f98f3edf",
         "4f7d84f3-8207-7c46-3291-3e5ed0bfe0df",
         "SNOMED-CT",
         314529007,
         "Medication review due (situation)",
         "2025-06-16T02:50:32.469+0000",
         "/FileStore/tables/conditions.csv"
        ],
        [
         "2021-10-14",
         "2021-11-18",
         "0e4068e0-4312-9a70-8f4d-46d1ddb9ae7c",
         "96c9dae7-5534-9b62-ff62-f9070d16cccc",
         "SNOMED-CT",
         314529007,
         "Medication review due (situation)",
         "2025-06-16T02:50:32.469+0000",
         "/FileStore/tables/conditions.csv"
        ],
        [
         "2015-06-13",
         "2015-11-27",
         "8a4869c4-4545-219f-2c65-fc44f98f3edf",
         "b7d27489-fe6c-bd22-a90c-789c1aa2a7ce",
         "SNOMED-CT",
         65363002,
         "Otitis media (disorder)",
         "2025-06-16T02:50:32.469+0000",
         "/FileStore/tables/conditions.csv"
        ],
        [
         "2016-10-06",
         "2016-12-05",
         "8a4869c4-4545-219f-2c65-fc44f98f3edf",
         "23998ffd-5bca-e28e-915c-42763fd6e7f0",
         "SNOMED-CT",
         110030002,
         "Concussion injury of brain (disorder)",
         "2025-06-16T02:50:32.469+0000",
         "/FileStore/tables/conditions.csv"
        ],
        [
         "2016-10-06",
         "2016-12-05",
         "8a4869c4-4545-219f-2c65-fc44f98f3edf",
         "23998ffd-5bca-e28e-915c-42763fd6e7f0",
         "SNOMED-CT",
         62106007,
         "Concussion with no loss of consciousness (disorder)",
         "2025-06-16T02:50:32.469+0000",
         "/FileStore/tables/conditions.csv"
        ],
        [
         "2016-11-25",
         "2019-12-06",
         "8a4869c4-4545-219f-2c65-fc44f98f3edf",
         "1a82bcb4-4af2-1e09-5d17-1b9de6e50323",
         "SNOMED-CT",
         314529007,
         "Medication review due (situation)",
         "2025-06-16T02:50:32.469+0000",
         "/FileStore/tables/conditions.csv"
        ],
        [
         "2022-01-20",
         "2022-01-20",
         "0e4068e0-4312-9a70-8f4d-46d1ddb9ae7c",
         "dabf85d7-5cdf-ff0b-1374-9b14f06893e5",
         "SNOMED-CT",
         314529007,
         "Medication review due (situation)",
         "2025-06-16T02:50:32.469+0000",
         "/FileStore/tables/conditions.csv"
        ],
        [
         "2006-02-19",
         "2020-04-08",
         "c0ec9264-5dda-fea6-ddea-edf27c0e846b",
         "1d0b7aa1-cb2a-1b69-acb5-39aac257236c",
         "SNOMED-CT",
         232353008,
         "Perennial allergic rhinitis with seasonal variation (disorder)",
         "2025-06-16T02:50:32.469+0000",
         "/FileStore/tables/conditions.csv"
        ],
        [
         "2016-05-11",
         "2016-05-11",
         "c0ec9264-5dda-fea6-ddea-edf27c0e846b",
         "3ec5e7c4-4362-eedf-aa7e-5bddcacba3c4",
         "SNOMED-CT",
         314529007,
         "Medication review due (situation)",
         "2025-06-16T02:50:32.469+0000",
         "/FileStore/tables/conditions.csv"
        ],
        [
         "2016-05-11",
         "2016-05-26",
         "c0ec9264-5dda-fea6-ddea-edf27c0e846b",
         "3ec5e7c4-4362-eedf-aa7e-5bddcacba3c4",
         "SNOMED-CT",
         66383009,
         "Gingivitis (disorder)",
         "2025-06-16T02:50:32.469+0000",
         "/FileStore/tables/conditions.csv"
        ]
       ],
       "datasetInfos": [],
       "dbfsResultPath": null,
       "isJsonSchema": true,
       "metadata": {},
       "overflow": false,
       "plotOptions": {
        "customPlotOptions": {},
        "displayType": "table",
        "pivotAggregation": null,
        "pivotColumns": null,
        "xColumns": null,
        "yColumns": null
       },
       "removedWidgets": [],
       "schema": [
        {
         "metadata": "{\"__detected_date_formats\":\"yyyy-M-d\"}",
         "name": "start",
         "type": "\"date\""
        },
        {
         "metadata": "{\"__detected_date_formats\":\"yyyy-M-d\"}",
         "name": "stop",
         "type": "\"date\""
        },
        {
         "metadata": "{}",
         "name": "patient",
         "type": "\"string\""
        },
        {
         "metadata": "{}",
         "name": "encounter",
         "type": "\"string\""
        },
        {
         "metadata": "{}",
         "name": "system",
         "type": "\"string\""
        },
        {
         "metadata": "{}",
         "name": "code",
         "type": "\"long\""
        },
        {
         "metadata": "{}",
         "name": "description",
         "type": "\"string\""
        },
        {
         "metadata": "{}",
         "name": "ingestion_timestamp",
         "type": "\"timestamp\""
        },
        {
         "metadata": "{}",
         "name": "source_file",
         "type": "\"string\""
        }
       ],
       "type": "table"
      }
     },
     "output_type": "display_data"
    }
   ],
   "source": [
    "# schema with data types and nullability\n",
    "df.printSchema()\n",
    "\n",
    "# inspect values and formatting\n",
    "display(df.limit(10))\n"
   ]
  },
  {
   "cell_type": "code",
   "execution_count": 0,
   "metadata": {
    "application/vnd.databricks.v1+cell": {
     "cellMetadata": {
      "byteLimit": 2048000,
      "rowLimit": 10000
     },
     "inputWidgets": {},
     "nuid": "8f2cadfc-84d3-435e-a355-7de59d81d7a3",
     "showTitle": false,
     "tableResultSettingsMap": {},
     "title": ""
    }
   },
   "outputs": [
    {
     "output_type": "display_data",
     "data": {
      "text/html": [
       "<style scoped>\n",
       "  .table-result-container {\n",
       "    max-height: 300px;\n",
       "    overflow: auto;\n",
       "  }\n",
       "  table, th, td {\n",
       "    border: 1px solid black;\n",
       "    border-collapse: collapse;\n",
       "  }\n",
       "  th, td {\n",
       "    padding: 5px;\n",
       "  }\n",
       "  th {\n",
       "    text-align: left;\n",
       "  }\n",
       "</style><div class='table-result-container'><table class='table-result'><thead style='background-color: white'><tr><th>start_nulls</th><th>stop_nulls</th><th>patient_nulls</th><th>encounter_nulls</th><th>system_nulls</th><th>code_nulls</th><th>description_nulls</th><th>ingestion_timestamp_nulls</th><th>source_file_nulls</th></tr></thead><tbody><tr><td>0</td><td>27429</td><td>0</td><td>0</td><td>0</td><td>0</td><td>0</td><td>0</td><td>0</td></tr></tbody></table></div>"
      ]
     },
     "metadata": {
      "application/vnd.databricks.v1+output": {
       "addedWidgets": {},
       "aggData": [],
       "aggError": "",
       "aggOverflow": false,
       "aggSchema": [],
       "aggSeriesLimitReached": false,
       "aggType": "",
       "arguments": {},
       "columnCustomDisplayInfos": {},
       "data": [
        [
         0,
         27429,
         0,
         0,
         0,
         0,
         0,
         0,
         0
        ]
       ],
       "datasetInfos": [],
       "dbfsResultPath": null,
       "isJsonSchema": true,
       "metadata": {},
       "overflow": false,
       "plotOptions": {
        "customPlotOptions": {},
        "displayType": "table",
        "pivotAggregation": null,
        "pivotColumns": null,
        "xColumns": null,
        "yColumns": null
       },
       "removedWidgets": [],
       "schema": [
        {
         "metadata": "{}",
         "name": "start_nulls",
         "type": "\"long\""
        },
        {
         "metadata": "{}",
         "name": "stop_nulls",
         "type": "\"long\""
        },
        {
         "metadata": "{}",
         "name": "patient_nulls",
         "type": "\"long\""
        },
        {
         "metadata": "{}",
         "name": "encounter_nulls",
         "type": "\"long\""
        },
        {
         "metadata": "{}",
         "name": "system_nulls",
         "type": "\"long\""
        },
        {
         "metadata": "{}",
         "name": "code_nulls",
         "type": "\"long\""
        },
        {
         "metadata": "{}",
         "name": "description_nulls",
         "type": "\"long\""
        },
        {
         "metadata": "{}",
         "name": "ingestion_timestamp_nulls",
         "type": "\"long\""
        },
        {
         "metadata": "{}",
         "name": "source_file_nulls",
         "type": "\"long\""
        }
       ],
       "type": "table"
      }
     },
     "output_type": "display_data"
    }
   ],
   "source": [
    "display(df.select([\n",
    "    sum(col(c).isNull().cast(\"int\")).alias(c + \"_nulls\") for c in df.columns\n",
    "]))"
   ]
  },
  {
   "cell_type": "markdown",
   "metadata": {
    "application/vnd.databricks.v1+cell": {
     "cellMetadata": {},
     "inputWidgets": {},
     "nuid": "2c872b7a-98e3-4db4-9b13-eaa5546254d9",
     "showTitle": false,
     "tableResultSettingsMap": {},
     "title": ""
    }
   },
   "source": [
    "Encounters"
   ]
  },
  {
   "cell_type": "code",
   "execution_count": 0,
   "metadata": {
    "application/vnd.databricks.v1+cell": {
     "cellMetadata": {
      "byteLimit": 2048000,
      "rowLimit": 10000
     },
     "inputWidgets": {},
     "nuid": "d09eee3f-2186-4398-9a40-a70ffea8309e",
     "showTitle": false,
     "tableResultSettingsMap": {},
     "title": ""
    }
   },
   "outputs": [
    {
     "output_type": "stream",
     "name": "stdout",
     "output_type": "stream",
     "text": [
      "+--------------+\n|encounterclass|\n+--------------+\n|      wellness|\n|    outpatient|\n|     emergency|\n|       virtual|\n|     inpatient|\n|          home|\n|    urgentcare|\n|       hospice|\n|    ambulatory|\n|           snf|\n+--------------+\n\n+--------------------+-----+\n|            provider|count|\n+--------------------+-----+\n|b4fddf7d-8270-355...| 4586|\n|960489e1-19d9-39b...| 3289|\n|6a8867c7-d162-343...| 3034|\n|b8ff6ff2-d278-336...| 2905|\n|019d7b1f-8b17-3b6...| 2824|\n|17e1fc8a-cfb2-37a...| 2820|\n|90be9325-b802-306...| 2668|\n|5f479285-fe2c-369...| 2571|\n|90d0f098-88e8-3f4...| 2513|\n|40f1fbee-320e-3a0...| 2393|\n+--------------------+-----+\nonly showing top 10 rows\n\n"
     ]
    }
   ],
   "source": [
    "# Distinct values of encounter class\n",
    "df.select(\"encounterclass\").distinct().show()\n",
    "\n",
    "# Count by provider (check for skew)\n",
    "df.groupBy(\"provider\").count().orderBy(\"count\", ascending=False).show(10)\n"
   ]
  },
  {
   "cell_type": "code",
   "execution_count": 0,
   "metadata": {
    "application/vnd.databricks.v1+cell": {
     "cellMetadata": {
      "byteLimit": 2048000,
      "rowLimit": 10000
     },
     "inputWidgets": {},
     "nuid": "a7a74b31-ec85-4adc-9be6-0aebb2f633d5",
     "showTitle": false,
     "tableResultSettingsMap": {},
     "title": ""
    }
   },
   "outputs": [
    {
     "output_type": "display_data",
     "data": {
      "text/html": [
       "<style scoped>\n",
       "  .table-result-container {\n",
       "    max-height: 300px;\n",
       "    overflow: auto;\n",
       "  }\n",
       "  table, th, td {\n",
       "    border: 1px solid black;\n",
       "    border-collapse: collapse;\n",
       "  }\n",
       "  th, td {\n",
       "    padding: 5px;\n",
       "  }\n",
       "  th {\n",
       "    text-align: left;\n",
       "  }\n",
       "</style><div class='table-result-container'><table class='table-result'><thead style='background-color: white'><tr><th>id</th><th>start</th><th>stop</th><th>patient</th><th>organization</th><th>provider</th><th>payer</th><th>encounterclass</th><th>code</th><th>description</th><th>base_encounter_cost</th><th>total_claim_cost</th><th>payer_coverage</th><th>reasoncode</th><th>reasondescription</th><th>ingestion_timestamp</th><th>source_file</th></tr></thead><tbody></tbody></table></div>"
      ]
     },
     "metadata": {
      "application/vnd.databricks.v1+output": {
       "addedWidgets": {},
       "aggData": [],
       "aggError": "",
       "aggOverflow": false,
       "aggSchema": [],
       "aggSeriesLimitReached": false,
       "aggType": "",
       "arguments": {},
       "columnCustomDisplayInfos": {},
       "data": [],
       "datasetInfos": [],
       "dbfsResultPath": null,
       "isJsonSchema": true,
       "metadata": {},
       "overflow": false,
       "plotOptions": {
        "customPlotOptions": {},
        "displayType": "table",
        "pivotAggregation": null,
        "pivotColumns": null,
        "xColumns": null,
        "yColumns": null
       },
       "removedWidgets": [],
       "schema": [
        {
         "metadata": "{}",
         "name": "id",
         "type": "\"string\""
        },
        {
         "metadata": "{}",
         "name": "start",
         "type": "\"timestamp\""
        },
        {
         "metadata": "{}",
         "name": "stop",
         "type": "\"timestamp\""
        },
        {
         "metadata": "{}",
         "name": "patient",
         "type": "\"string\""
        },
        {
         "metadata": "{}",
         "name": "organization",
         "type": "\"string\""
        },
        {
         "metadata": "{}",
         "name": "provider",
         "type": "\"string\""
        },
        {
         "metadata": "{}",
         "name": "payer",
         "type": "\"string\""
        },
        {
         "metadata": "{}",
         "name": "encounterclass",
         "type": "\"string\""
        },
        {
         "metadata": "{}",
         "name": "code",
         "type": "\"long\""
        },
        {
         "metadata": "{}",
         "name": "description",
         "type": "\"string\""
        },
        {
         "metadata": "{}",
         "name": "base_encounter_cost",
         "type": "\"double\""
        },
        {
         "metadata": "{}",
         "name": "total_claim_cost",
         "type": "\"double\""
        },
        {
         "metadata": "{}",
         "name": "payer_coverage",
         "type": "\"double\""
        },
        {
         "metadata": "{}",
         "name": "reasoncode",
         "type": "\"long\""
        },
        {
         "metadata": "{}",
         "name": "reasondescription",
         "type": "\"string\""
        },
        {
         "metadata": "{}",
         "name": "ingestion_timestamp",
         "type": "\"timestamp\""
        },
        {
         "metadata": "{}",
         "name": "source_file",
         "type": "\"string\""
        }
       ],
       "type": "table"
      }
     },
     "output_type": "display_data"
    },
    {
     "output_type": "display_data",
     "data": {
      "text/html": [
       "<style scoped>\n",
       "  .table-result-container {\n",
       "    max-height: 300px;\n",
       "    overflow: auto;\n",
       "  }\n",
       "  table, th, td {\n",
       "    border: 1px solid black;\n",
       "    border-collapse: collapse;\n",
       "  }\n",
       "  th, td {\n",
       "    padding: 5px;\n",
       "  }\n",
       "  th {\n",
       "    text-align: left;\n",
       "  }\n",
       "</style><div class='table-result-container'><table class='table-result'><thead style='background-color: white'><tr><th>id</th><th>count</th></tr></thead><tbody></tbody></table></div>"
      ]
     },
     "metadata": {
      "application/vnd.databricks.v1+output": {
       "addedWidgets": {},
       "aggData": [],
       "aggError": "",
       "aggOverflow": false,
       "aggSchema": [],
       "aggSeriesLimitReached": false,
       "aggType": "",
       "arguments": {},
       "columnCustomDisplayInfos": {},
       "data": [],
       "datasetInfos": [],
       "dbfsResultPath": null,
       "isJsonSchema": true,
       "metadata": {},
       "overflow": false,
       "plotOptions": {
        "customPlotOptions": {},
        "displayType": "table",
        "pivotAggregation": null,
        "pivotColumns": null,
        "xColumns": null,
        "yColumns": null
       },
       "removedWidgets": [],
       "schema": [
        {
         "metadata": "{}",
         "name": "id",
         "type": "\"string\""
        },
        {
         "metadata": "{}",
         "name": "count",
         "type": "\"long\""
        }
       ],
       "type": "table"
      }
     },
     "output_type": "display_data"
    }
   ],
   "source": [
    "# Check how many rows have missing or malformed costs\n",
    "display(df.filter(col(\"total_claim_cost\").rlike(\"^[0-9.]+$\") == False))\n",
    "\n",
    "# Check for duplicate encounter IDs\n",
    "display(df.groupBy(\"id\").count().filter(\"count > 1\"))"
   ]
  },
  {
   "cell_type": "markdown",
   "metadata": {
    "application/vnd.databricks.v1+cell": {
     "cellMetadata": {},
     "inputWidgets": {},
     "nuid": "08b3f565-c718-43ee-804a-afd6d3bc1fb9",
     "showTitle": false,
     "tableResultSettingsMap": {},
     "title": ""
    }
   },
   "source": [
    "Working on Fxn for Processing All Synthea Bronze Tables"
   ]
  },
  {
   "cell_type": "code",
   "execution_count": 0,
   "metadata": {
    "application/vnd.databricks.v1+cell": {
     "cellMetadata": {
      "byteLimit": 2048000,
      "rowLimit": 10000
     },
     "inputWidgets": {},
     "nuid": "f0aa124a-7d2e-4838-8b57-6cda01241637",
     "showTitle": false,
     "tableResultSettingsMap": {},
     "title": ""
    }
   },
   "outputs": [],
   "source": [
    "# Set widgets for use in a Databricks job\n",
    "dbutils.widgets.text(\"source\", \"\")  # Leave blank for manual multi-table mode\n",
    "dbutils.widgets.text(\"bronze_base_path\", \"/FileStore/bronze\")\n",
    "dbutils.widgets.text(\"silver_base_path\", \"/FileStore/silver\")\n",
    "\n",
    "# Retrieve widget values\n",
    "source = dbutils.widgets.get(\"source\")\n",
    "bronze_base_path = dbutils.widgets.get(\"bronze_base_path\")\n",
    "silver_base_path = dbutils.widgets.get(\"silver_base_path\")\n",
    "\n",
    "# Default to all tables if source is blank\n",
    "if source:\n",
    "    sources_to_process = [source]\n",
    "else:\n",
    "    sources_to_process = [\"patients\", \"encounters\", \"providers\", \"organizations\", \"conditions\"]\n",
    "    # sources_to_process = \"encounters\"\n"
   ]
  },
  {
   "cell_type": "code",
   "execution_count": 0,
   "metadata": {
    "application/vnd.databricks.v1+cell": {
     "cellMetadata": {
      "byteLimit": 2048000,
      "rowLimit": 10000
     },
     "inputWidgets": {},
     "nuid": "9b44973c-c8d8-4f09-b155-29bea1ffb994",
     "showTitle": false,
     "tableResultSettingsMap": {},
     "title": ""
    }
   },
   "outputs": [],
   "source": [
    "def silver_transform(df: DataFrame, source: str) -> DataFrame:\n",
    "    \"\"\"\n",
    "    Applies source-specific transformation logic for Silver layer.\n",
    "    \n",
    "    Parameters:\n",
    "        df (DataFrame): Input DataFrame from Bronze layer\n",
    "        source (str): Source name (e.g., 'patients', 'encounters', etc.)\n",
    "        \n",
    "    Returns:\n",
    "        DataFrame: Transformed DataFrame ready for Silver layer\n",
    "    \"\"\"\n",
    "    \n",
    "    if source == \"patients\":\n",
    "        # Synthea adds digits to end of names — regex to trim\n",
    "        df = df.withColumn(\"first\", regexp_replace(trim(col(\"first\")), r\"\\d+$\", \"\")) \\\n",
    "               .withColumn(\"middle\", regexp_replace(trim(col(\"middle\")), r\"\\d+$\", \"\")) \\\n",
    "               .withColumn(\"last\", regexp_replace(trim(col(\"last\")), r\"\\d+$\", \"\")) \\\n",
    "               .withColumn(\"maiden\", regexp_replace(trim(col(\"maiden\")), r\"\\d+$\", \"\")) \\\n",
    "               .withColumn(\"suffix\", regexp_replace(trim(col(\"suffix\")), r\"\\d+$\", \"\")) \\\n",
    "               .withColumn(\"birthdate\", to_date(\"birthdate\")) \\\n",
    "               .withColumn(\"deathdate\", to_date(\"deathdate\"))\n",
    "\n",
    "    elif source == \"encounters\":\n",
    "        # Timestamp cast and text field cleanup\n",
    "        df = df.withColumn(\"start\", to_timestamp(\"start\")) \\\n",
    "               .withColumn(\"stop\", to_timestamp(\"stop\")) \\\n",
    "               .withColumn(\"encounterclass\", trim(col(\"encounterclass\"))) \\\n",
    "               .withColumn(\"description\", trim(col(\"description\"))) \\\n",
    "               .withColumn(\"reasondescription\", trim(col(\"reasondescription\"))) \\\n",
    "               .withColumn(\"base_encounter_cost\", col(\"base_encounter_cost\").cast(\"double\")) \\\n",
    "               .withColumn(\"total_claim_cost\", col(\"total_claim_cost\").cast(\"double\")) \\\n",
    "               .withColumn(\"payer_coverage\", col(\"payer_coverage\").cast(\"double\"))\n",
    "\n",
    "    elif source == \"providers\":\n",
    "        # Trim digits from names and clean location fields\n",
    "        df = df.withColumn(\"name\", regexp_replace(trim(col(\"name\")), r\"(\\D+)\\d+\\s+(\\D+)\\d+\", r\"\\1 \\2\")) \\\n",
    "               .withColumn(\"speciality\", trim(col(\"speciality\"))) \\\n",
    "               .withColumn(\"address\", trim(col(\"address\"))) \\\n",
    "               .withColumn(\"city\", trim(col(\"city\"))) \\\n",
    "               .withColumn(\"state\", trim(col(\"state\"))) \\\n",
    "               .withColumn(\"zip_clean\",\n",
    "                    when(length(col(\"zip\")) < 5, lpad(col(\"zip\").cast(\"string\"), 5, \"0\"))\n",
    "                    .otherwise(col(\"zip\").cast(\"string\").substr(1, 5)))\n",
    "\n",
    "    elif source == \"organizations\":\n",
    "        # Clean contact and location info, fix ZIPs and phone format\n",
    "        df = df.withColumn(\"name\", trim(col(\"name\"))) \\\n",
    "               .withColumn(\"address\", trim(col(\"address\"))) \\\n",
    "               .withColumn(\"city\", trim(col(\"city\"))) \\\n",
    "               .withColumn(\"state\", trim(col(\"state\"))) \\\n",
    "               .withColumn(\"phone\", trim(col(\"phone\"))) \\\n",
    "               .withColumn(\"zip_cleaned\",\n",
    "                    when(length(col(\"zip\")) < 5, lpad(col(\"zip\").cast(\"string\"), 5, \"0\"))\n",
    "                    .otherwise(col(\"zip\").cast(\"string\").substr(1, 5))) \\\n",
    "               .withColumn(\"phone\",\n",
    "                    regexp_replace(col(\"phone\"), r\"[^0-9]\", \"\").substr(1, 10)) \\\n",
    "               .withColumn(\"revenue\", col(\"revenue\").cast(\"double\")) \\\n",
    "               .withColumn(\"utilization\", col(\"utilization\").cast(\"int\"))\n",
    "\n",
    "    elif source == \"conditions\":\n",
    "        # Cast dates and extract condition type from description\n",
    "        df = df.withColumn(\"start\", to_date(\"start\")) \\\n",
    "               .withColumn(\"stop\", to_date(\"stop\")) \\\n",
    "               .withColumn(\"description\", trim(col(\"description\"))) \\\n",
    "               .withColumn(\"condition_type\", regexp_extract(col(\"description\"), r\"\\((.*?)\\)\", 1))\n",
    "\n",
    "    else:\n",
    "        raise ValueError(f\"Unknown source: {source}\")\n",
    "\n",
    "    return df\n"
   ]
  },
  {
   "cell_type": "code",
   "execution_count": 0,
   "metadata": {
    "application/vnd.databricks.v1+cell": {
     "cellMetadata": {
      "byteLimit": 2048000,
      "rowLimit": 10000
     },
     "inputWidgets": {},
     "nuid": "a89f4303-9919-439e-bd33-75d2556d7c3f",
     "showTitle": false,
     "tableResultSettingsMap": {},
     "title": ""
    }
   },
   "outputs": [
    {
     "output_type": "stream",
     "name": "stdout",
     "output_type": "stream",
     "text": [
      "🔄 Processing patients from /FileStore/bronze/patients → /FileStore/silver/patients\n✅ Successfully wrote Silver table: patients\n🔄 Processing encounters from /FileStore/bronze/encounters → /FileStore/silver/encounters\n✅ Successfully wrote Silver table: encounters\n🔄 Processing providers from /FileStore/bronze/providers → /FileStore/silver/providers\n✅ Successfully wrote Silver table: providers\n🔄 Processing organizations from /FileStore/bronze/organizations → /FileStore/silver/organizations\n✅ Successfully wrote Silver table: organizations\n🔄 Processing conditions from /FileStore/bronze/conditions → /FileStore/silver/conditions\n✅ Successfully wrote Silver table: conditions\n"
     ]
    }
   ],
   "source": [
    "for src in sources_to_process:\n",
    "    input_path = f\"{bronze_base_path}/{src}\"\n",
    "    output_path = f\"{silver_base_path}/{src}\"\n",
    "    \n",
    "    print(f\"🔄 Processing {src} from {input_path} → {output_path}\")\n",
    "    \n",
    "    try:\n",
    "        df_bronze = spark.read.format(\"delta\").load(input_path)\n",
    "        df_silver = silver_transform(df_bronze, src)\n",
    "        df_silver.write.format(\"delta\").mode(\"overwrite\").save(output_path)\n",
    "        print(f\"✅ Successfully wrote Silver table: {src}\")\n",
    "    except Exception as e:\n",
    "        print(f\"❌ Error processing {src}: {e}\")\n"
   ]
  },
  {
   "cell_type": "code",
   "execution_count": 0,
   "metadata": {
    "application/vnd.databricks.v1+cell": {
     "cellMetadata": {},
     "inputWidgets": {},
     "nuid": "a98a588d-1013-43b2-bdce-c99679d634c3",
     "showTitle": false,
     "tableResultSettingsMap": {},
     "title": ""
    }
   },
   "outputs": [],
   "source": []
  }
 ],
 "metadata": {
  "application/vnd.databricks.v1+notebook": {
   "computePreferences": null,
   "dashboards": [],
   "environmentMetadata": {
    "base_environment": "",
    "environment_version": "1"
   },
   "inputWidgetPreferences": null,
   "language": "python",
   "notebookMetadata": {
    "pythonIndentUnit": 4
   },
   "notebookName": "inspect_silver_prep",
   "widgets": {
    "bronze_base_path": {
     "currentValue": "/FileStore/bronze",
     "nuid": "46051baa-10e4-47fd-95ac-b54349d7f8c5",
     "typedWidgetInfo": {
      "autoCreated": false,
      "defaultValue": "/FileStore/bronze",
      "label": null,
      "name": "bronze_base_path",
      "options": {
       "widgetDisplayType": "Text",
       "validationRegex": null
      },
      "parameterDataType": "String"
     },
     "widgetInfo": {
      "widgetType": "text",
      "defaultValue": "/FileStore/bronze",
      "label": null,
      "name": "bronze_base_path",
      "options": {
       "widgetType": "text",
       "autoCreated": false,
       "validationRegex": null
      }
     }
    },
    "silver_base_path": {
     "currentValue": "/FileStore/silver",
     "nuid": "0c61bb87-7ad6-4ccb-9b78-0964f1d8afc7",
     "typedWidgetInfo": {
      "autoCreated": false,
      "defaultValue": "/FileStore/silver",
      "label": null,
      "name": "silver_base_path",
      "options": {
       "widgetDisplayType": "Text",
       "validationRegex": null
      },
      "parameterDataType": "String"
     },
     "widgetInfo": {
      "widgetType": "text",
      "defaultValue": "/FileStore/silver",
      "label": null,
      "name": "silver_base_path",
      "options": {
       "widgetType": "text",
       "autoCreated": false,
       "validationRegex": null
      }
     }
    },
    "source": {
     "currentValue": "",
     "nuid": "000db22e-b2f9-4aae-bcfe-fd3892b7bc09",
     "typedWidgetInfo": {
      "autoCreated": false,
      "defaultValue": "",
      "label": null,
      "name": "source",
      "options": {
       "widgetDisplayType": "Text",
       "validationRegex": null
      },
      "parameterDataType": "String"
     },
     "widgetInfo": {
      "widgetType": "text",
      "defaultValue": "",
      "label": null,
      "name": "source",
      "options": {
       "widgetType": "text",
       "autoCreated": false,
       "validationRegex": null
      }
     }
    }
   }
  }
 },
 "nbformat": 4,
 "nbformat_minor": 0
}