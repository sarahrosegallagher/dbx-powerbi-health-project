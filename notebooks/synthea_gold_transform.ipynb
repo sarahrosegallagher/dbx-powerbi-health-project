{
 "cells": [
  {
   "cell_type": "markdown",
   "metadata": {
    "application/vnd.databricks.v1+cell": {
     "cellMetadata": {
      "byteLimit": 2048000,
      "rowLimit": 10000
     },
     "inputWidgets": {},
     "nuid": "548abda2-8e51-41b6-9747-2f5860a94be6",
     "showTitle": false,
     "tableResultSettingsMap": {},
     "title": ""
    }
   },
   "source": [
    "# Synthea Gold Transformations\n",
    "Transforms cleaned Silver-layer tables into curated Gold-layer tables ready for reporting and dashboarding.\n"
   ]
  },
  {
   "cell_type": "code",
   "execution_count": 0,
   "metadata": {
    "application/vnd.databricks.v1+cell": {
     "cellMetadata": {
      "byteLimit": 2048000,
      "rowLimit": 10000
     },
     "inputWidgets": {},
     "nuid": "991e96e0-8875-45d2-a4e0-6c46364b9b75",
     "showTitle": false,
     "tableResultSettingsMap": {},
     "title": ""
    }
   },
   "outputs": [],
   "source": [
    "from pyspark.sql.functions import (\n",
    "    col, to_date, year, month, dayofmonth,\n",
    "    datediff, when, lpad, length, lit,\n",
    "    current_date, floor, broadcast, trim,\n",
    "    countDistinct, sum as spark_sum\n",
    ")"
   ]
  },
  {
   "cell_type": "code",
   "execution_count": 0,
   "metadata": {
    "application/vnd.databricks.v1+cell": {
     "cellMetadata": {
      "byteLimit": 2048000,
      "rowLimit": 10000
     },
     "inputWidgets": {},
     "nuid": "55448e1f-b08b-4e8a-86ce-38aa0668a063",
     "showTitle": false,
     "tableResultSettingsMap": {},
     "title": ""
    }
   },
   "outputs": [],
   "source": [
    "# Widgets for workflow compatibility\n",
    "dbutils.widgets.text(\"silver_base_path\", \"/FileStore/silver\")\n",
    "dbutils.widgets.text(\"gold_base_path\", \"/FileStore/gold\")\n",
    "\n",
    "silver_base = dbutils.widgets.get(\"silver_base_path\")\n",
    "gold_base = dbutils.widgets.get(\"gold_base_path\")\n"
   ]
  },
  {
   "cell_type": "markdown",
   "metadata": {
    "application/vnd.databricks.v1+cell": {
     "cellMetadata": {
      "byteLimit": 2048000,
      "rowLimit": 10000
     },
     "inputWidgets": {},
     "nuid": "86601b8d-c2d5-4345-92f6-b5dabe38cbaf",
     "showTitle": false,
     "tableResultSettingsMap": {},
     "title": ""
    }
   },
   "source": [
    "Function and call to create fact_encounters_gold table (enriched fields from patients and organizations.)"
   ]
  },
  {
   "cell_type": "code",
   "execution_count": 0,
   "metadata": {
    "application/vnd.databricks.v1+cell": {
     "cellMetadata": {
      "byteLimit": 2048000,
      "rowLimit": 10000
     },
     "inputWidgets": {},
     "nuid": "fcf00b4b-dd02-4529-ac55-610ca9f4c3cf",
     "showTitle": false,
     "tableResultSettingsMap": {},
     "title": ""
    }
   },
   "outputs": [],
   "source": [
    "def transform_fact_encounters_gold(\n",
    "    encounters_path: str,\n",
    "    patients_path: str,\n",
    "    organizations_path: str,\n",
    "    output_path: str\n",
    "):\n",
    "    \"\"\"\n",
    "    Creates Gold fact_encounters table with \n",
    "    \"\"\"\n",
    "    print(\"📥 Loading Silver tables...\")\n",
    "    encounters = spark.read.format(\"delta\").load(encounters_path)\n",
    "    patients = spark.read.format(\"delta\").load(patients_path)\n",
    "    organizations = spark.read.format(\"delta\").load(organizations_path)\n",
    "\n",
    "    print(\"🔄 Transforming data...\")\n",
    "    df = encounters.withColumn(\"start_date\", to_date(\"start\")) \\\n",
    "                   .withColumn(\"year\", year(\"start\")) \\\n",
    "                   .withColumn(\"month\", month(\"start\")) \\\n",
    "                   .withColumn(\"day\", dayofmonth(\"start\")) \\\n",
    "                   .withColumn(\"encounter_duration_minutes\", \n",
    "                               (col(\"stop\").cast(\"long\") - col(\"start\").cast(\"long\")) / 60) \\\n",
    "                   .withColumn(\"cost_bucket\", when(col(\"total_claim_cost\") < 100, \"<$100\")\n",
    "                                               .when(col(\"total_claim_cost\") < 500, \"$100–499\")\n",
    "                                               .otherwise(\"$500+\"))\n",
    "\n",
    "    df = df.join(\n",
    "        broadcast(patients.select(\"id\", \"birthdate\")), #broadcast to send silver patient info to all nodes, small table relative to encounters\n",
    "        df.patient == patients.id,\n",
    "        \"left\"\n",
    "    ).withColumn(\"age_at_encounter\", \n",
    "        (datediff(col(\"start_date\"), col(\"birthdate\")) / 365.25).cast(\"int\")\n",
    "    ).drop(patients.id)\n",
    "\n",
    "    df = df.join(\n",
    "        broadcast(organizations.select(\"id\", \"city\", \"state\", \"zip_cleaned\")), #broadcast again (optimize bcs smaller table organization, reduce shuffle)\n",
    "        df.organization == organizations.id,\n",
    "        \"left\"\n",
    "    ).withColumnRenamed(\"zip_cleaned\", \"org_zip\").drop(organizations.id)\n",
    "\n",
    "    # testing output \n",
    "    display(df.limit(10))\n",
    "\n",
    "    # uncomment when ready to write delta table \n",
    "    print(f\"📝 Writing to Gold path: {output_path}\")\n",
    "    df.write.format(\"delta\").mode(\"overwrite\").save(output_path)\n",
    "\n",
    "    print(f\"✅ Done! Row count: {df.count()}\")\n"
   ]
  },
  {
   "cell_type": "code",
   "execution_count": 0,
   "metadata": {
    "application/vnd.databricks.v1+cell": {
     "cellMetadata": {
      "byteLimit": 2048000,
      "rowLimit": 10000
     },
     "inputWidgets": {},
     "nuid": "7f99e7ca-b449-4bdb-b437-729a13c45b07",
     "showTitle": false,
     "tableResultSettingsMap": {},
     "title": ""
    }
   },
   "outputs": [
    {
     "output_type": "stream",
     "name": "stdout",
     "output_type": "stream",
     "text": [
      "📥 Loading Silver tables...\n🔄 Transforming data...\n"
     ]
    },
    {
     "output_type": "display_data",
     "data": {
      "text/html": [
       "<style scoped>\n",
       "  .table-result-container {\n",
       "    max-height: 300px;\n",
       "    overflow: auto;\n",
       "  }\n",
       "  table, th, td {\n",
       "    border: 1px solid black;\n",
       "    border-collapse: collapse;\n",
       "  }\n",
       "  th, td {\n",
       "    padding: 5px;\n",
       "  }\n",
       "  th {\n",
       "    text-align: left;\n",
       "  }\n",
       "</style><div class='table-result-container'><table class='table-result'><thead style='background-color: white'><tr><th>id</th><th>start</th><th>stop</th><th>patient</th><th>organization</th><th>provider</th><th>payer</th><th>encounterclass</th><th>code</th><th>description</th><th>base_encounter_cost</th><th>total_claim_cost</th><th>payer_coverage</th><th>reasoncode</th><th>reasondescription</th><th>ingestion_timestamp</th><th>source_file</th><th>start_date</th><th>year</th><th>month</th><th>day</th><th>encounter_duration_minutes</th><th>cost_bucket</th><th>birthdate</th><th>age_at_encounter</th><th>city</th><th>state</th><th>org_zip</th></tr></thead><tbody><tr><td>96c9dae7-5534-9b62-ff62-f9070d16cccc</td><td>2021-10-15T04:28:53.000+0000</td><td>2021-10-15T04:43:53.000+0000</td><td>0e4068e0-4312-9a70-8f4d-46d1ddb9ae7c</td><td>87f3b181-1c52-3161-a15a-ea2d9a04b35f</td><td>ade28ca4-9796-33b6-91d2-5656ecd6b2a5</td><td>26aab0cd-6aba-3e1b-ac5b-05c8867e762c</td><td>wellness</td><td>410620009</td><td>Well child visit (procedure)</td><td>136.8</td><td>347.38</td><td>0.0</td><td>null</td><td>null</td><td>2025-06-16T02:50:02.257+0000</td><td>/FileStore/tables/encounters.csv</td><td>2021-10-15</td><td>2021</td><td>10</td><td>15</td><td>15.0</td><td>$100–499</td><td>2021-10-14</td><td>0</td><td>NORTH ANDOVER</td><td>MA</td><td>18455</td></tr><tr><td>4f7d84f3-8207-7c46-3291-3e5ed0bfe0df</td><td>2015-05-29T11:05:06.000+0000</td><td>2015-05-29T11:20:06.000+0000</td><td>8a4869c4-4545-219f-2c65-fc44f98f3edf</td><td>e7b77e8f-b607-3273-aef9-ad1bca48813f</td><td>5e4867ba-cd40-310b-bcc8-13320f4a81ed</td><td>e03e23c9-4df1-3eb6-a62d-f70f02301496</td><td>wellness</td><td>410620009</td><td>Well child visit (procedure)</td><td>136.8</td><td>272.8</td><td>0.0</td><td>null</td><td>null</td><td>2025-06-16T02:50:02.257+0000</td><td>/FileStore/tables/encounters.csv</td><td>2015-05-29</td><td>2015</td><td>5</td><td>29</td><td>15.0</td><td>$100–499</td><td>2013-12-20</td><td>1</td><td>NATICK</td><td>MA</td><td>17603</td></tr><tr><td>b7d27489-fe6c-bd22-a90c-789c1aa2a7ce</td><td>2015-06-13T11:05:06.000+0000</td><td>2015-06-13T11:20:06.000+0000</td><td>8a4869c4-4545-219f-2c65-fc44f98f3edf</td><td>05fcf001-ab24-3d7d-85f7-f64942d82738</td><td>40f1fbee-320e-3a02-902f-bb55d650ac67</td><td>e03e23c9-4df1-3eb6-a62d-f70f02301496</td><td>outpatient</td><td>185345009</td><td>Encounter for symptom (procedure)</td><td>85.55</td><td>85.55</td><td>0.0</td><td>65363002</td><td>Otitis media (disorder)</td><td>2025-06-16T02:50:02.257+0000</td><td>/FileStore/tables/encounters.csv</td><td>2015-06-13</td><td>2015</td><td>6</td><td>13</td><td>15.0</td><td><$100</td><td>2013-12-20</td><td>1</td><td>FRAMINGHAM</td><td>MA</td><td>17014</td></tr><tr><td>92f15155-d985-4d86-caef-feeac8a22454</td><td>2015-11-27T11:05:06.000+0000</td><td>2015-11-27T11:20:06.000+0000</td><td>8a4869c4-4545-219f-2c65-fc44f98f3edf</td><td>e7b77e8f-b607-3273-aef9-ad1bca48813f</td><td>5e4867ba-cd40-310b-bcc8-13320f4a81ed</td><td>e03e23c9-4df1-3eb6-a62d-f70f02301496</td><td>wellness</td><td>410620009</td><td>Well child visit (procedure)</td><td>136.8</td><td>272.8</td><td>0.0</td><td>null</td><td>null</td><td>2025-06-16T02:50:02.257+0000</td><td>/FileStore/tables/encounters.csv</td><td>2015-11-27</td><td>2015</td><td>11</td><td>27</td><td>15.0</td><td>$100–499</td><td>2013-12-20</td><td>1</td><td>NATICK</td><td>MA</td><td>17603</td></tr><tr><td>e8085e9a-5531-0fae-2d81-a3ee076fc878</td><td>2016-05-27T11:05:06.000+0000</td><td>2016-05-27T11:20:06.000+0000</td><td>8a4869c4-4545-219f-2c65-fc44f98f3edf</td><td>e7b77e8f-b607-3273-aef9-ad1bca48813f</td><td>5e4867ba-cd40-310b-bcc8-13320f4a81ed</td><td>e03e23c9-4df1-3eb6-a62d-f70f02301496</td><td>wellness</td><td>410620009</td><td>Well child visit (procedure)</td><td>136.8</td><td>1135.6</td><td>0.0</td><td>null</td><td>null</td><td>2025-06-16T02:50:02.257+0000</td><td>/FileStore/tables/encounters.csv</td><td>2016-05-27</td><td>2016</td><td>5</td><td>27</td><td>15.0</td><td>$500+</td><td>2013-12-20</td><td>2</td><td>NATICK</td><td>MA</td><td>17603</td></tr><tr><td>01d9dc5f-d51d-bf34-7198-dbf8f52e6052</td><td>2021-11-19T04:28:53.000+0000</td><td>2021-11-19T04:43:53.000+0000</td><td>0e4068e0-4312-9a70-8f4d-46d1ddb9ae7c</td><td>87f3b181-1c52-3161-a15a-ea2d9a04b35f</td><td>ade28ca4-9796-33b6-91d2-5656ecd6b2a5</td><td>26aab0cd-6aba-3e1b-ac5b-05c8867e762c</td><td>wellness</td><td>410620009</td><td>Well child visit (procedure)</td><td>136.8</td><td>1135.6</td><td>0.0</td><td>null</td><td>null</td><td>2025-06-16T02:50:02.257+0000</td><td>/FileStore/tables/encounters.csv</td><td>2021-11-19</td><td>2021</td><td>11</td><td>19</td><td>15.0</td><td>$500+</td><td>2021-10-14</td><td>0</td><td>NORTH ANDOVER</td><td>MA</td><td>18455</td></tr><tr><td>23998ffd-5bca-e28e-915c-42763fd6e7f0</td><td>2016-10-06T11:05:06.000+0000</td><td>2016-10-06T12:05:06.000+0000</td><td>8a4869c4-4545-219f-2c65-fc44f98f3edf</td><td>4887dc20-9ef6-3cc2-9c56-858388049a50</td><td>3d93c4aa-a703-3538-b7c9-1e9950006112</td><td>e03e23c9-4df1-3eb6-a62d-f70f02301496</td><td>emergency</td><td>50849002</td><td>Emergency room admission (procedure)</td><td>146.18</td><td>146.18</td><td>0.0</td><td>110030002</td><td>Concussion injury of brain (disorder)</td><td>2025-06-16T02:50:02.257+0000</td><td>/FileStore/tables/encounters.csv</td><td>2016-10-06</td><td>2016</td><td>10</td><td>6</td><td>60.0</td><td>$100–499</td><td>2013-12-20</td><td>2</td><td>NATICK</td><td>MA</td><td>17604</td></tr><tr><td>1a82bcb4-4af2-1e09-5d17-1b9de6e50323</td><td>2016-11-25T11:05:06.000+0000</td><td>2016-11-25T11:20:06.000+0000</td><td>8a4869c4-4545-219f-2c65-fc44f98f3edf</td><td>e7b77e8f-b607-3273-aef9-ad1bca48813f</td><td>5e4867ba-cd40-310b-bcc8-13320f4a81ed</td><td>e03e23c9-4df1-3eb6-a62d-f70f02301496</td><td>wellness</td><td>410620009</td><td>Well child visit (procedure)</td><td>136.8</td><td>272.8</td><td>0.0</td><td>null</td><td>null</td><td>2025-06-16T02:50:02.257+0000</td><td>/FileStore/tables/encounters.csv</td><td>2016-11-25</td><td>2016</td><td>11</td><td>25</td><td>15.0</td><td>$100–499</td><td>2013-12-20</td><td>2</td><td>NATICK</td><td>MA</td><td>17603</td></tr><tr><td>d88400c9-90d5-5244-a5e8-beef337c655c</td><td>2016-12-05T11:05:06.000+0000</td><td>2016-12-05T11:20:06.000+0000</td><td>8a4869c4-4545-219f-2c65-fc44f98f3edf</td><td>05fcf001-ab24-3d7d-85f7-f64942d82738</td><td>40f1fbee-320e-3a02-902f-bb55d650ac67</td><td>e03e23c9-4df1-3eb6-a62d-f70f02301496</td><td>ambulatory</td><td>185349003</td><td>Encounter for check up (procedure)</td><td>85.55</td><td>85.55</td><td>0.0</td><td>62106007</td><td>Concussion with no loss of consciousness (disorder)</td><td>2025-06-16T02:50:02.257+0000</td><td>/FileStore/tables/encounters.csv</td><td>2016-12-05</td><td>2016</td><td>12</td><td>5</td><td>15.0</td><td><$100</td><td>2013-12-20</td><td>2</td><td>FRAMINGHAM</td><td>MA</td><td>17014</td></tr><tr><td>b31c0b80-b8bc-8dad-7361-fefb4cf784d3</td><td>2017-05-26T11:05:06.000+0000</td><td>2017-05-26T11:20:06.000+0000</td><td>8a4869c4-4545-219f-2c65-fc44f98f3edf</td><td>e7b77e8f-b607-3273-aef9-ad1bca48813f</td><td>5e4867ba-cd40-310b-bcc8-13320f4a81ed</td><td>e03e23c9-4df1-3eb6-a62d-f70f02301496</td><td>wellness</td><td>410620009</td><td>Well child visit (procedure)</td><td>136.8</td><td>136.8</td><td>0.0</td><td>null</td><td>null</td><td>2025-06-16T02:50:02.257+0000</td><td>/FileStore/tables/encounters.csv</td><td>2017-05-26</td><td>2017</td><td>5</td><td>26</td><td>15.0</td><td>$100–499</td><td>2013-12-20</td><td>3</td><td>NATICK</td><td>MA</td><td>17603</td></tr></tbody></table></div>"
      ]
     },
     "metadata": {
      "application/vnd.databricks.v1+output": {
       "addedWidgets": {},
       "aggData": [],
       "aggError": "",
       "aggOverflow": false,
       "aggSchema": [],
       "aggSeriesLimitReached": false,
       "aggType": "",
       "arguments": {},
       "columnCustomDisplayInfos": {},
       "data": [
        [
         "96c9dae7-5534-9b62-ff62-f9070d16cccc",
         "2021-10-15T04:28:53.000+0000",
         "2021-10-15T04:43:53.000+0000",
         "0e4068e0-4312-9a70-8f4d-46d1ddb9ae7c",
         "87f3b181-1c52-3161-a15a-ea2d9a04b35f",
         "ade28ca4-9796-33b6-91d2-5656ecd6b2a5",
         "26aab0cd-6aba-3e1b-ac5b-05c8867e762c",
         "wellness",
         410620009,
         "Well child visit (procedure)",
         136.8,
         347.38,
         0.0,
         null,
         null,
         "2025-06-16T02:50:02.257+0000",
         "/FileStore/tables/encounters.csv",
         "2021-10-15",
         2021,
         10,
         15,
         15.0,
         "$100–499",
         "2021-10-14",
         0,
         "NORTH ANDOVER",
         "MA",
         "18455"
        ],
        [
         "4f7d84f3-8207-7c46-3291-3e5ed0bfe0df",
         "2015-05-29T11:05:06.000+0000",
         "2015-05-29T11:20:06.000+0000",
         "8a4869c4-4545-219f-2c65-fc44f98f3edf",
         "e7b77e8f-b607-3273-aef9-ad1bca48813f",
         "5e4867ba-cd40-310b-bcc8-13320f4a81ed",
         "e03e23c9-4df1-3eb6-a62d-f70f02301496",
         "wellness",
         410620009,
         "Well child visit (procedure)",
         136.8,
         272.8,
         0.0,
         null,
         null,
         "2025-06-16T02:50:02.257+0000",
         "/FileStore/tables/encounters.csv",
         "2015-05-29",
         2015,
         5,
         29,
         15.0,
         "$100–499",
         "2013-12-20",
         1,
         "NATICK",
         "MA",
         "17603"
        ],
        [
         "b7d27489-fe6c-bd22-a90c-789c1aa2a7ce",
         "2015-06-13T11:05:06.000+0000",
         "2015-06-13T11:20:06.000+0000",
         "8a4869c4-4545-219f-2c65-fc44f98f3edf",
         "05fcf001-ab24-3d7d-85f7-f64942d82738",
         "40f1fbee-320e-3a02-902f-bb55d650ac67",
         "e03e23c9-4df1-3eb6-a62d-f70f02301496",
         "outpatient",
         185345009,
         "Encounter for symptom (procedure)",
         85.55,
         85.55,
         0.0,
         65363002,
         "Otitis media (disorder)",
         "2025-06-16T02:50:02.257+0000",
         "/FileStore/tables/encounters.csv",
         "2015-06-13",
         2015,
         6,
         13,
         15.0,
         "<$100",
         "2013-12-20",
         1,
         "FRAMINGHAM",
         "MA",
         "17014"
        ],
        [
         "92f15155-d985-4d86-caef-feeac8a22454",
         "2015-11-27T11:05:06.000+0000",
         "2015-11-27T11:20:06.000+0000",
         "8a4869c4-4545-219f-2c65-fc44f98f3edf",
         "e7b77e8f-b607-3273-aef9-ad1bca48813f",
         "5e4867ba-cd40-310b-bcc8-13320f4a81ed",
         "e03e23c9-4df1-3eb6-a62d-f70f02301496",
         "wellness",
         410620009,
         "Well child visit (procedure)",
         136.8,
         272.8,
         0.0,
         null,
         null,
         "2025-06-16T02:50:02.257+0000",
         "/FileStore/tables/encounters.csv",
         "2015-11-27",
         2015,
         11,
         27,
         15.0,
         "$100–499",
         "2013-12-20",
         1,
         "NATICK",
         "MA",
         "17603"
        ],
        [
         "e8085e9a-5531-0fae-2d81-a3ee076fc878",
         "2016-05-27T11:05:06.000+0000",
         "2016-05-27T11:20:06.000+0000",
         "8a4869c4-4545-219f-2c65-fc44f98f3edf",
         "e7b77e8f-b607-3273-aef9-ad1bca48813f",
         "5e4867ba-cd40-310b-bcc8-13320f4a81ed",
         "e03e23c9-4df1-3eb6-a62d-f70f02301496",
         "wellness",
         410620009,
         "Well child visit (procedure)",
         136.8,
         1135.6,
         0.0,
         null,
         null,
         "2025-06-16T02:50:02.257+0000",
         "/FileStore/tables/encounters.csv",
         "2016-05-27",
         2016,
         5,
         27,
         15.0,
         "$500+",
         "2013-12-20",
         2,
         "NATICK",
         "MA",
         "17603"
        ],
        [
         "01d9dc5f-d51d-bf34-7198-dbf8f52e6052",
         "2021-11-19T04:28:53.000+0000",
         "2021-11-19T04:43:53.000+0000",
         "0e4068e0-4312-9a70-8f4d-46d1ddb9ae7c",
         "87f3b181-1c52-3161-a15a-ea2d9a04b35f",
         "ade28ca4-9796-33b6-91d2-5656ecd6b2a5",
         "26aab0cd-6aba-3e1b-ac5b-05c8867e762c",
         "wellness",
         410620009,
         "Well child visit (procedure)",
         136.8,
         1135.6,
         0.0,
         null,
         null,
         "2025-06-16T02:50:02.257+0000",
         "/FileStore/tables/encounters.csv",
         "2021-11-19",
         2021,
         11,
         19,
         15.0,
         "$500+",
         "2021-10-14",
         0,
         "NORTH ANDOVER",
         "MA",
         "18455"
        ],
        [
         "23998ffd-5bca-e28e-915c-42763fd6e7f0",
         "2016-10-06T11:05:06.000+0000",
         "2016-10-06T12:05:06.000+0000",
         "8a4869c4-4545-219f-2c65-fc44f98f3edf",
         "4887dc20-9ef6-3cc2-9c56-858388049a50",
         "3d93c4aa-a703-3538-b7c9-1e9950006112",
         "e03e23c9-4df1-3eb6-a62d-f70f02301496",
         "emergency",
         50849002,
         "Emergency room admission (procedure)",
         146.18,
         146.18,
         0.0,
         110030002,
         "Concussion injury of brain (disorder)",
         "2025-06-16T02:50:02.257+0000",
         "/FileStore/tables/encounters.csv",
         "2016-10-06",
         2016,
         10,
         6,
         60.0,
         "$100–499",
         "2013-12-20",
         2,
         "NATICK",
         "MA",
         "17604"
        ],
        [
         "1a82bcb4-4af2-1e09-5d17-1b9de6e50323",
         "2016-11-25T11:05:06.000+0000",
         "2016-11-25T11:20:06.000+0000",
         "8a4869c4-4545-219f-2c65-fc44f98f3edf",
         "e7b77e8f-b607-3273-aef9-ad1bca48813f",
         "5e4867ba-cd40-310b-bcc8-13320f4a81ed",
         "e03e23c9-4df1-3eb6-a62d-f70f02301496",
         "wellness",
         410620009,
         "Well child visit (procedure)",
         136.8,
         272.8,
         0.0,
         null,
         null,
         "2025-06-16T02:50:02.257+0000",
         "/FileStore/tables/encounters.csv",
         "2016-11-25",
         2016,
         11,
         25,
         15.0,
         "$100–499",
         "2013-12-20",
         2,
         "NATICK",
         "MA",
         "17603"
        ],
        [
         "d88400c9-90d5-5244-a5e8-beef337c655c",
         "2016-12-05T11:05:06.000+0000",
         "2016-12-05T11:20:06.000+0000",
         "8a4869c4-4545-219f-2c65-fc44f98f3edf",
         "05fcf001-ab24-3d7d-85f7-f64942d82738",
         "40f1fbee-320e-3a02-902f-bb55d650ac67",
         "e03e23c9-4df1-3eb6-a62d-f70f02301496",
         "ambulatory",
         185349003,
         "Encounter for check up (procedure)",
         85.55,
         85.55,
         0.0,
         62106007,
         "Concussion with no loss of consciousness (disorder)",
         "2025-06-16T02:50:02.257+0000",
         "/FileStore/tables/encounters.csv",
         "2016-12-05",
         2016,
         12,
         5,
         15.0,
         "<$100",
         "2013-12-20",
         2,
         "FRAMINGHAM",
         "MA",
         "17014"
        ],
        [
         "b31c0b80-b8bc-8dad-7361-fefb4cf784d3",
         "2017-05-26T11:05:06.000+0000",
         "2017-05-26T11:20:06.000+0000",
         "8a4869c4-4545-219f-2c65-fc44f98f3edf",
         "e7b77e8f-b607-3273-aef9-ad1bca48813f",
         "5e4867ba-cd40-310b-bcc8-13320f4a81ed",
         "e03e23c9-4df1-3eb6-a62d-f70f02301496",
         "wellness",
         410620009,
         "Well child visit (procedure)",
         136.8,
         136.8,
         0.0,
         null,
         null,
         "2025-06-16T02:50:02.257+0000",
         "/FileStore/tables/encounters.csv",
         "2017-05-26",
         2017,
         5,
         26,
         15.0,
         "$100–499",
         "2013-12-20",
         3,
         "NATICK",
         "MA",
         "17603"
        ]
       ],
       "datasetInfos": [],
       "dbfsResultPath": null,
       "isJsonSchema": true,
       "metadata": {},
       "overflow": false,
       "plotOptions": {
        "customPlotOptions": {},
        "displayType": "table",
        "pivotAggregation": null,
        "pivotColumns": null,
        "xColumns": null,
        "yColumns": null
       },
       "removedWidgets": [],
       "schema": [
        {
         "metadata": "{}",
         "name": "id",
         "type": "\"string\""
        },
        {
         "metadata": "{}",
         "name": "start",
         "type": "\"timestamp\""
        },
        {
         "metadata": "{}",
         "name": "stop",
         "type": "\"timestamp\""
        },
        {
         "metadata": "{}",
         "name": "patient",
         "type": "\"string\""
        },
        {
         "metadata": "{}",
         "name": "organization",
         "type": "\"string\""
        },
        {
         "metadata": "{}",
         "name": "provider",
         "type": "\"string\""
        },
        {
         "metadata": "{}",
         "name": "payer",
         "type": "\"string\""
        },
        {
         "metadata": "{}",
         "name": "encounterclass",
         "type": "\"string\""
        },
        {
         "metadata": "{}",
         "name": "code",
         "type": "\"long\""
        },
        {
         "metadata": "{}",
         "name": "description",
         "type": "\"string\""
        },
        {
         "metadata": "{}",
         "name": "base_encounter_cost",
         "type": "\"double\""
        },
        {
         "metadata": "{}",
         "name": "total_claim_cost",
         "type": "\"double\""
        },
        {
         "metadata": "{}",
         "name": "payer_coverage",
         "type": "\"double\""
        },
        {
         "metadata": "{}",
         "name": "reasoncode",
         "type": "\"long\""
        },
        {
         "metadata": "{}",
         "name": "reasondescription",
         "type": "\"string\""
        },
        {
         "metadata": "{}",
         "name": "ingestion_timestamp",
         "type": "\"timestamp\""
        },
        {
         "metadata": "{}",
         "name": "source_file",
         "type": "\"string\""
        },
        {
         "metadata": "{}",
         "name": "start_date",
         "type": "\"date\""
        },
        {
         "metadata": "{}",
         "name": "year",
         "type": "\"integer\""
        },
        {
         "metadata": "{}",
         "name": "month",
         "type": "\"integer\""
        },
        {
         "metadata": "{}",
         "name": "day",
         "type": "\"integer\""
        },
        {
         "metadata": "{}",
         "name": "encounter_duration_minutes",
         "type": "\"double\""
        },
        {
         "metadata": "{}",
         "name": "cost_bucket",
         "type": "\"string\""
        },
        {
         "metadata": "{}",
         "name": "birthdate",
         "type": "\"date\""
        },
        {
         "metadata": "{}",
         "name": "age_at_encounter",
         "type": "\"integer\""
        },
        {
         "metadata": "{}",
         "name": "city",
         "type": "\"string\""
        },
        {
         "metadata": "{}",
         "name": "state",
         "type": "\"string\""
        },
        {
         "metadata": "{}",
         "name": "org_zip",
         "type": "\"string\""
        }
       ],
       "type": "table"
      }
     },
     "output_type": "display_data"
    },
    {
     "output_type": "stream",
     "name": "stdout",
     "output_type": "stream",
     "text": [
      "📝 Writing to Gold path: /FileStore/gold/fact_encounters\n✅ Done! Row count: 176093\n"
     ]
    }
   ],
   "source": [
    "transform_fact_encounters_gold(\n",
    "    encounters_path=f\"{silver_base}/encounters\",\n",
    "    patients_path=f\"{silver_base}/patients\",\n",
    "    organizations_path=f\"{silver_base}/organizations\",\n",
    "    output_path=f\"{gold_base}/fact_encounters\"\n",
    ")\n"
   ]
  },
  {
   "cell_type": "markdown",
   "metadata": {
    "application/vnd.databricks.v1+cell": {
     "cellMetadata": {
      "byteLimit": 2048000,
      "rowLimit": 10000
     },
     "inputWidgets": {},
     "nuid": "32625ad2-39c9-4ba7-af78-a662c183d5f8",
     "showTitle": false,
     "tableResultSettingsMap": {},
     "title": ""
    }
   },
   "source": [
    "Function and call to create fact_conditions table (enriched with age at condition and date parts)."
   ]
  },
  {
   "cell_type": "code",
   "execution_count": 0,
   "metadata": {
    "application/vnd.databricks.v1+cell": {
     "cellMetadata": {
      "byteLimit": 2048000,
      "rowLimit": 10000
     },
     "inputWidgets": {},
     "nuid": "1366e039-115e-4dec-8d57-920fe2150621",
     "showTitle": false,
     "tableResultSettingsMap": {},
     "title": ""
    }
   },
   "outputs": [],
   "source": [
    "\n",
    "def transform_fact_conditions_gold(\n",
    "    conditions_path: str,\n",
    "    patients_path: str,\n",
    "    output_path: str\n",
    "):\n",
    "    \"\"\"\n",
    "    Creates Gold \n",
    "    \"\"\"\n",
    "    print(\"📥 Loading Silver tables...\")\n",
    "    conditions = spark.read.format(\"delta\").load(conditions_path)\n",
    "    patients = spark.read.format(\"delta\").load(patients_path)\n",
    "\n",
    "    print(\"🔄 Transforming data...\")\n",
    "    df = conditions.withColumn(\"start_date\", to_date(\"start\")) \\\n",
    "                   .withColumn(\"year\", year(\"start\")) \\\n",
    "                   .withColumn(\"month\", month(\"start\")) \\\n",
    "                   .withColumn(\"day\", dayofmonth(\"start\"))\n",
    "\n",
    "    df = df.join(\n",
    "        broadcast(patients.select(\"id\", \"birthdate\")),\n",
    "        df.patient == patients.id,\n",
    "        \"left\"\n",
    "    ).withColumn(\"age_at_condition\", \n",
    "        (datediff(col(\"start_date\"), col(\"birthdate\")) / 365.25).cast(\"int\")\n",
    "    ).drop(patients.id)\n",
    "\n",
    "    # Optional display for dev inspection\n",
    "    display(df.limit(10))\n",
    "\n",
    "    # Uncomment when ready to write\n",
    "    print(f\"📝 Writing to Gold path: {output_path}\")\n",
    "    df.write.format(\"delta\").mode(\"overwrite\").save(output_path)\n",
    "\n",
    "    print(f\"✅ Done! Row count: {df.count()}\")\n"
   ]
  },
  {
   "cell_type": "code",
   "execution_count": 0,
   "metadata": {
    "application/vnd.databricks.v1+cell": {
     "cellMetadata": {
      "byteLimit": 2048000,
      "rowLimit": 10000
     },
     "inputWidgets": {},
     "nuid": "758cb467-8a70-4b35-9c1a-4540742ddde1",
     "showTitle": false,
     "tableResultSettingsMap": {},
     "title": ""
    }
   },
   "outputs": [
    {
     "output_type": "stream",
     "name": "stdout",
     "output_type": "stream",
     "text": [
      "📥 Loading Silver tables...\n🔄 Transforming data...\n"
     ]
    },
    {
     "output_type": "display_data",
     "data": {
      "text/html": [
       "<style scoped>\n",
       "  .table-result-container {\n",
       "    max-height: 300px;\n",
       "    overflow: auto;\n",
       "  }\n",
       "  table, th, td {\n",
       "    border: 1px solid black;\n",
       "    border-collapse: collapse;\n",
       "  }\n",
       "  th, td {\n",
       "    padding: 5px;\n",
       "  }\n",
       "  th {\n",
       "    text-align: left;\n",
       "  }\n",
       "</style><div class='table-result-container'><table class='table-result'><thead style='background-color: white'><tr><th>start</th><th>stop</th><th>patient</th><th>encounter</th><th>system</th><th>code</th><th>description</th><th>ingestion_timestamp</th><th>source_file</th><th>condition_type</th><th>start_date</th><th>year</th><th>month</th><th>day</th><th>birthdate</th><th>age_at_condition</th></tr></thead><tbody><tr><td>2015-05-29</td><td>2016-05-27</td><td>8a4869c4-4545-219f-2c65-fc44f98f3edf</td><td>4f7d84f3-8207-7c46-3291-3e5ed0bfe0df</td><td>SNOMED-CT</td><td>314529007</td><td>Medication review due (situation)</td><td>2025-06-16T02:50:32.469+0000</td><td>/FileStore/tables/conditions.csv</td><td>situation</td><td>2015-05-29</td><td>2015</td><td>5</td><td>29</td><td>2013-12-20</td><td>1</td></tr><tr><td>2021-10-14</td><td>2021-11-18</td><td>0e4068e0-4312-9a70-8f4d-46d1ddb9ae7c</td><td>96c9dae7-5534-9b62-ff62-f9070d16cccc</td><td>SNOMED-CT</td><td>314529007</td><td>Medication review due (situation)</td><td>2025-06-16T02:50:32.469+0000</td><td>/FileStore/tables/conditions.csv</td><td>situation</td><td>2021-10-14</td><td>2021</td><td>10</td><td>14</td><td>2021-10-14</td><td>0</td></tr><tr><td>2015-06-13</td><td>2015-11-27</td><td>8a4869c4-4545-219f-2c65-fc44f98f3edf</td><td>b7d27489-fe6c-bd22-a90c-789c1aa2a7ce</td><td>SNOMED-CT</td><td>65363002</td><td>Otitis media (disorder)</td><td>2025-06-16T02:50:32.469+0000</td><td>/FileStore/tables/conditions.csv</td><td>disorder</td><td>2015-06-13</td><td>2015</td><td>6</td><td>13</td><td>2013-12-20</td><td>1</td></tr><tr><td>2016-10-06</td><td>2016-12-05</td><td>8a4869c4-4545-219f-2c65-fc44f98f3edf</td><td>23998ffd-5bca-e28e-915c-42763fd6e7f0</td><td>SNOMED-CT</td><td>110030002</td><td>Concussion injury of brain (disorder)</td><td>2025-06-16T02:50:32.469+0000</td><td>/FileStore/tables/conditions.csv</td><td>disorder</td><td>2016-10-06</td><td>2016</td><td>10</td><td>6</td><td>2013-12-20</td><td>2</td></tr><tr><td>2016-10-06</td><td>2016-12-05</td><td>8a4869c4-4545-219f-2c65-fc44f98f3edf</td><td>23998ffd-5bca-e28e-915c-42763fd6e7f0</td><td>SNOMED-CT</td><td>62106007</td><td>Concussion with no loss of consciousness (disorder)</td><td>2025-06-16T02:50:32.469+0000</td><td>/FileStore/tables/conditions.csv</td><td>disorder</td><td>2016-10-06</td><td>2016</td><td>10</td><td>6</td><td>2013-12-20</td><td>2</td></tr><tr><td>2016-11-25</td><td>2019-12-06</td><td>8a4869c4-4545-219f-2c65-fc44f98f3edf</td><td>1a82bcb4-4af2-1e09-5d17-1b9de6e50323</td><td>SNOMED-CT</td><td>314529007</td><td>Medication review due (situation)</td><td>2025-06-16T02:50:32.469+0000</td><td>/FileStore/tables/conditions.csv</td><td>situation</td><td>2016-11-25</td><td>2016</td><td>11</td><td>25</td><td>2013-12-20</td><td>2</td></tr><tr><td>2022-01-20</td><td>2022-01-20</td><td>0e4068e0-4312-9a70-8f4d-46d1ddb9ae7c</td><td>dabf85d7-5cdf-ff0b-1374-9b14f06893e5</td><td>SNOMED-CT</td><td>314529007</td><td>Medication review due (situation)</td><td>2025-06-16T02:50:32.469+0000</td><td>/FileStore/tables/conditions.csv</td><td>situation</td><td>2022-01-20</td><td>2022</td><td>1</td><td>20</td><td>2021-10-14</td><td>0</td></tr><tr><td>2006-02-19</td><td>2020-04-08</td><td>c0ec9264-5dda-fea6-ddea-edf27c0e846b</td><td>1d0b7aa1-cb2a-1b69-acb5-39aac257236c</td><td>SNOMED-CT</td><td>232353008</td><td>Perennial allergic rhinitis with seasonal variation (disorder)</td><td>2025-06-16T02:50:32.469+0000</td><td>/FileStore/tables/conditions.csv</td><td>disorder</td><td>2006-02-19</td><td>2006</td><td>2</td><td>19</td><td>2001-04-04</td><td>4</td></tr><tr><td>2016-05-11</td><td>2016-05-11</td><td>c0ec9264-5dda-fea6-ddea-edf27c0e846b</td><td>3ec5e7c4-4362-eedf-aa7e-5bddcacba3c4</td><td>SNOMED-CT</td><td>314529007</td><td>Medication review due (situation)</td><td>2025-06-16T02:50:32.469+0000</td><td>/FileStore/tables/conditions.csv</td><td>situation</td><td>2016-05-11</td><td>2016</td><td>5</td><td>11</td><td>2001-04-04</td><td>15</td></tr><tr><td>2016-05-11</td><td>2016-05-26</td><td>c0ec9264-5dda-fea6-ddea-edf27c0e846b</td><td>3ec5e7c4-4362-eedf-aa7e-5bddcacba3c4</td><td>SNOMED-CT</td><td>66383009</td><td>Gingivitis (disorder)</td><td>2025-06-16T02:50:32.469+0000</td><td>/FileStore/tables/conditions.csv</td><td>disorder</td><td>2016-05-11</td><td>2016</td><td>5</td><td>11</td><td>2001-04-04</td><td>15</td></tr></tbody></table></div>"
      ]
     },
     "metadata": {
      "application/vnd.databricks.v1+output": {
       "addedWidgets": {},
       "aggData": [],
       "aggError": "",
       "aggOverflow": false,
       "aggSchema": [],
       "aggSeriesLimitReached": false,
       "aggType": "",
       "arguments": {},
       "columnCustomDisplayInfos": {},
       "data": [
        [
         "2015-05-29",
         "2016-05-27",
         "8a4869c4-4545-219f-2c65-fc44f98f3edf",
         "4f7d84f3-8207-7c46-3291-3e5ed0bfe0df",
         "SNOMED-CT",
         314529007,
         "Medication review due (situation)",
         "2025-06-16T02:50:32.469+0000",
         "/FileStore/tables/conditions.csv",
         "situation",
         "2015-05-29",
         2015,
         5,
         29,
         "2013-12-20",
         1
        ],
        [
         "2021-10-14",
         "2021-11-18",
         "0e4068e0-4312-9a70-8f4d-46d1ddb9ae7c",
         "96c9dae7-5534-9b62-ff62-f9070d16cccc",
         "SNOMED-CT",
         314529007,
         "Medication review due (situation)",
         "2025-06-16T02:50:32.469+0000",
         "/FileStore/tables/conditions.csv",
         "situation",
         "2021-10-14",
         2021,
         10,
         14,
         "2021-10-14",
         0
        ],
        [
         "2015-06-13",
         "2015-11-27",
         "8a4869c4-4545-219f-2c65-fc44f98f3edf",
         "b7d27489-fe6c-bd22-a90c-789c1aa2a7ce",
         "SNOMED-CT",
         65363002,
         "Otitis media (disorder)",
         "2025-06-16T02:50:32.469+0000",
         "/FileStore/tables/conditions.csv",
         "disorder",
         "2015-06-13",
         2015,
         6,
         13,
         "2013-12-20",
         1
        ],
        [
         "2016-10-06",
         "2016-12-05",
         "8a4869c4-4545-219f-2c65-fc44f98f3edf",
         "23998ffd-5bca-e28e-915c-42763fd6e7f0",
         "SNOMED-CT",
         110030002,
         "Concussion injury of brain (disorder)",
         "2025-06-16T02:50:32.469+0000",
         "/FileStore/tables/conditions.csv",
         "disorder",
         "2016-10-06",
         2016,
         10,
         6,
         "2013-12-20",
         2
        ],
        [
         "2016-10-06",
         "2016-12-05",
         "8a4869c4-4545-219f-2c65-fc44f98f3edf",
         "23998ffd-5bca-e28e-915c-42763fd6e7f0",
         "SNOMED-CT",
         62106007,
         "Concussion with no loss of consciousness (disorder)",
         "2025-06-16T02:50:32.469+0000",
         "/FileStore/tables/conditions.csv",
         "disorder",
         "2016-10-06",
         2016,
         10,
         6,
         "2013-12-20",
         2
        ],
        [
         "2016-11-25",
         "2019-12-06",
         "8a4869c4-4545-219f-2c65-fc44f98f3edf",
         "1a82bcb4-4af2-1e09-5d17-1b9de6e50323",
         "SNOMED-CT",
         314529007,
         "Medication review due (situation)",
         "2025-06-16T02:50:32.469+0000",
         "/FileStore/tables/conditions.csv",
         "situation",
         "2016-11-25",
         2016,
         11,
         25,
         "2013-12-20",
         2
        ],
        [
         "2022-01-20",
         "2022-01-20",
         "0e4068e0-4312-9a70-8f4d-46d1ddb9ae7c",
         "dabf85d7-5cdf-ff0b-1374-9b14f06893e5",
         "SNOMED-CT",
         314529007,
         "Medication review due (situation)",
         "2025-06-16T02:50:32.469+0000",
         "/FileStore/tables/conditions.csv",
         "situation",
         "2022-01-20",
         2022,
         1,
         20,
         "2021-10-14",
         0
        ],
        [
         "2006-02-19",
         "2020-04-08",
         "c0ec9264-5dda-fea6-ddea-edf27c0e846b",
         "1d0b7aa1-cb2a-1b69-acb5-39aac257236c",
         "SNOMED-CT",
         232353008,
         "Perennial allergic rhinitis with seasonal variation (disorder)",
         "2025-06-16T02:50:32.469+0000",
         "/FileStore/tables/conditions.csv",
         "disorder",
         "2006-02-19",
         2006,
         2,
         19,
         "2001-04-04",
         4
        ],
        [
         "2016-05-11",
         "2016-05-11",
         "c0ec9264-5dda-fea6-ddea-edf27c0e846b",
         "3ec5e7c4-4362-eedf-aa7e-5bddcacba3c4",
         "SNOMED-CT",
         314529007,
         "Medication review due (situation)",
         "2025-06-16T02:50:32.469+0000",
         "/FileStore/tables/conditions.csv",
         "situation",
         "2016-05-11",
         2016,
         5,
         11,
         "2001-04-04",
         15
        ],
        [
         "2016-05-11",
         "2016-05-26",
         "c0ec9264-5dda-fea6-ddea-edf27c0e846b",
         "3ec5e7c4-4362-eedf-aa7e-5bddcacba3c4",
         "SNOMED-CT",
         66383009,
         "Gingivitis (disorder)",
         "2025-06-16T02:50:32.469+0000",
         "/FileStore/tables/conditions.csv",
         "disorder",
         "2016-05-11",
         2016,
         5,
         11,
         "2001-04-04",
         15
        ]
       ],
       "datasetInfos": [],
       "dbfsResultPath": null,
       "isJsonSchema": true,
       "metadata": {},
       "overflow": false,
       "plotOptions": {
        "customPlotOptions": {},
        "displayType": "table",
        "pivotAggregation": null,
        "pivotColumns": null,
        "xColumns": null,
        "yColumns": null
       },
       "removedWidgets": [],
       "schema": [
        {
         "metadata": "{}",
         "name": "start",
         "type": "\"date\""
        },
        {
         "metadata": "{}",
         "name": "stop",
         "type": "\"date\""
        },
        {
         "metadata": "{}",
         "name": "patient",
         "type": "\"string\""
        },
        {
         "metadata": "{}",
         "name": "encounter",
         "type": "\"string\""
        },
        {
         "metadata": "{}",
         "name": "system",
         "type": "\"string\""
        },
        {
         "metadata": "{}",
         "name": "code",
         "type": "\"long\""
        },
        {
         "metadata": "{}",
         "name": "description",
         "type": "\"string\""
        },
        {
         "metadata": "{}",
         "name": "ingestion_timestamp",
         "type": "\"timestamp\""
        },
        {
         "metadata": "{}",
         "name": "source_file",
         "type": "\"string\""
        },
        {
         "metadata": "{}",
         "name": "condition_type",
         "type": "\"string\""
        },
        {
         "metadata": "{}",
         "name": "start_date",
         "type": "\"date\""
        },
        {
         "metadata": "{}",
         "name": "year",
         "type": "\"integer\""
        },
        {
         "metadata": "{}",
         "name": "month",
         "type": "\"integer\""
        },
        {
         "metadata": "{}",
         "name": "day",
         "type": "\"integer\""
        },
        {
         "metadata": "{}",
         "name": "birthdate",
         "type": "\"date\""
        },
        {
         "metadata": "{}",
         "name": "age_at_condition",
         "type": "\"integer\""
        }
       ],
       "type": "table"
      }
     },
     "output_type": "display_data"
    },
    {
     "output_type": "stream",
     "name": "stdout",
     "output_type": "stream",
     "text": [
      "📝 Writing to Gold path: /FileStore/gold/fact_conditions\n✅ Done! Row count: 106336\n"
     ]
    }
   ],
   "source": [
    "transform_fact_conditions_gold(\n",
    "    patients_path=f\"{silver_base}/patients\",\n",
    "    conditions_path=f\"{silver_base}/conditions\",\n",
    "    output_path=f\"{gold_base}/fact_conditions\"\n",
    ") "
   ]
  },
  {
   "cell_type": "markdown",
   "metadata": {
    "application/vnd.databricks.v1+cell": {
     "cellMetadata": {
      "byteLimit": 2048000,
      "rowLimit": 10000
     },
     "inputWidgets": {},
     "nuid": "daac2410-43b4-4b4f-94a7-4a731253dbe3",
     "showTitle": false,
     "tableResultSettingsMap": {},
     "title": ""
    }
   },
   "source": [
    "Function and call to create fact_patient_summary_gold table (aggregating total cost, conditions, and encounters per patient).\n"
   ]
  },
  {
   "cell_type": "code",
   "execution_count": 0,
   "metadata": {
    "application/vnd.databricks.v1+cell": {
     "cellMetadata": {
      "byteLimit": 2048000,
      "rowLimit": 10000
     },
     "inputWidgets": {},
     "nuid": "37eca189-396f-49b8-a103-a8b1a730304f",
     "showTitle": false,
     "tableResultSettingsMap": {},
     "title": ""
    }
   },
   "outputs": [],
   "source": [
    "\n",
    "def transform_fact_patient_summary_gold(\n",
    "    encounters_path: str,\n",
    "    conditions_path: str,\n",
    "    patients_path: str,\n",
    "    output_path: str\n",
    "):\n",
    "\n",
    "    print(\"📥 Loading Silver tables...\")\n",
    "    encounters = spark.read.format(\"delta\").load(encounters_path)\n",
    "    conditions = spark.read.format(\"delta\").load(conditions_path)\n",
    "    patients = spark.read.format(\"delta\").load(patients_path)\n",
    "\n",
    "    print(\"🔄 Aggregating patient-level metrics...\")\n",
    "\n",
    "    # Reference date for age calc (e.g., snapshot of Jan 1, 2025)\n",
    "    reference_date = to_date(lit(\"2025-01-01\"))\n",
    "\n",
    "    # Aggregate encounters\n",
    "    #repartition to support parallelism, reshuffling data across partitions based on patient, avoid skew  \n",
    "    encounter_agg = encounters \\\n",
    "        .repartition(\"patient\") \\\n",
    "        .groupBy(\"patient\") \\\n",
    "        .agg(spark_sum(\"total_claim_cost\").alias(\"total_claim_cost\"),\n",
    "        countDistinct(\"id\").alias(\"num_encounters\"))\n",
    "\n",
    "    # Aggregate conditions\n",
    "    condition_agg = conditions \\\n",
    "        .repartition(\"patient\") \\\n",
    "        .groupBy(\"patient\") \\\n",
    "        .agg(countDistinct(\"code\").alias(\"num_conditions\"))\n",
    "\n",
    "    # Build patient summary\n",
    "    df = patients.select(\"id\", \"birthdate\", \"gender\") \\\n",
    "        .join(encounter_agg, patients.id == encounter_agg.patient, \"left\") \\\n",
    "        .join(condition_agg, patients.id == condition_agg.patient, \"left\") \\\n",
    "        .drop(encounter_agg.patient) \\\n",
    "        .drop(condition_agg.patient)\n",
    "\n",
    "    # Add age and bucket\n",
    "    df = df.withColumn(\"age\", (datediff(reference_date, col(\"birthdate\")) / 365.25).cast(\"int\")) \\\n",
    "        .withColumn(\"age_bucket\", when(col(\"age\") < 18, \"<18\")\n",
    "                                    .when(col(\"age\") < 30, \"18-29\")\n",
    "                                    .when(col(\"age\") < 45, \"30-44\")\n",
    "                                    .when(col(\"age\") < 65, \"45-64\")\n",
    "                                    .otherwise(\"65+\")) \\\n",
    "        .withColumnRenamed(\"id\", \"patient_id\") \\\n",
    "        .fillna(0)\n",
    "    # Optional display for dev inspection\n",
    "    display(df.limit(10))\n",
    "\n",
    "    # Uncomment when ready to write\n",
    "    print(f\"📝 Writing to Gold path: {output_path}\")\n",
    "    df.write.format(\"delta\").mode(\"overwrite\").save(output_path)\n",
    "\n",
    "    print(f\"✅ Done! Row count: {df.count()}\")\n"
   ]
  },
  {
   "cell_type": "code",
   "execution_count": 0,
   "metadata": {
    "application/vnd.databricks.v1+cell": {
     "cellMetadata": {
      "byteLimit": 2048000,
      "rowLimit": 10000
     },
     "inputWidgets": {},
     "nuid": "f6aa0260-728e-4fc2-8c9d-836e4152de11",
     "showTitle": false,
     "tableResultSettingsMap": {},
     "title": ""
    }
   },
   "outputs": [
    {
     "output_type": "stream",
     "name": "stdout",
     "output_type": "stream",
     "text": [
      "📥 Loading Silver tables...\n🔄 Aggregating patient-level metrics...\n"
     ]
    },
    {
     "output_type": "display_data",
     "data": {
      "text/html": [
       "<style scoped>\n",
       "  .table-result-container {\n",
       "    max-height: 300px;\n",
       "    overflow: auto;\n",
       "  }\n",
       "  table, th, td {\n",
       "    border: 1px solid black;\n",
       "    border-collapse: collapse;\n",
       "  }\n",
       "  th, td {\n",
       "    padding: 5px;\n",
       "  }\n",
       "  th {\n",
       "    text-align: left;\n",
       "  }\n",
       "</style><div class='table-result-container'><table class='table-result'><thead style='background-color: white'><tr><th>patient_id</th><th>birthdate</th><th>gender</th><th>total_claim_cost</th><th>num_encounters</th><th>num_conditions</th><th>age</th><th>age_bucket</th></tr></thead><tbody><tr><td>0e4068e0-4312-9a70-8f4d-46d1ddb9ae7c</td><td>2021-10-14</td><td>M</td><td>8631.600000000002</td><td>14</td><td>4</td><td>3</td><td><18</td></tr><tr><td>8a4869c4-4545-219f-2c65-fc44f98f3edf</td><td>2013-12-20</td><td>F</td><td>26143.670000000002</td><td>24</td><td>6</td><td>11</td><td><18</td></tr><tr><td>c0ec9264-5dda-fea6-ddea-edf27c0e846b</td><td>2001-04-04</td><td>M</td><td>464309.51999999996</td><td>64</td><td>12</td><td>23</td><td>18-29</td></tr><tr><td>44efb83f-e2f9-d51f-4c9c-f246c94a6836</td><td>2007-04-22</td><td>F</td><td>135240.73999999996</td><td>41</td><td>16</td><td>17</td><td><18</td></tr><tr><td>4d14f82e-4161-579c-0229-4be23711676b</td><td>2010-07-07</td><td>M</td><td>28308.99</td><td>22</td><td>6</td><td>14</td><td><18</td></tr><tr><td>9e8bdf4c-12c3-d7ed-7aa6-93ac1a9d8aba</td><td>1974-05-16</td><td>F</td><td>80042.07</td><td>42</td><td>19</td><td>50</td><td>45-64</td></tr><tr><td>347be68f-7625-f7cd-1171-a0031767dfe8</td><td>1964-01-19</td><td>F</td><td>224522.62000000008</td><td>53</td><td>35</td><td>60</td><td>45-64</td></tr><tr><td>eeb5567d-5663-1ba9-b028-32c50a6fb5ba</td><td>1962-04-14</td><td>M</td><td>133423.64999999994</td><td>48</td><td>20</td><td>62</td><td>45-64</td></tr><tr><td>24746653-4b85-e66c-bfbe-b7f7e936e06d</td><td>2003-05-14</td><td>M</td><td>17113.83</td><td>15</td><td>12</td><td>21</td><td>18-29</td></tr><tr><td>bff652a6-0d09-2c89-2642-976aad2ca872</td><td>1964-03-14</td><td>F</td><td>53515.01</td><td>30</td><td>17</td><td>60</td><td>45-64</td></tr></tbody></table></div>"
      ]
     },
     "metadata": {
      "application/vnd.databricks.v1+output": {
       "addedWidgets": {},
       "aggData": [],
       "aggError": "",
       "aggOverflow": false,
       "aggSchema": [],
       "aggSeriesLimitReached": false,
       "aggType": "",
       "arguments": {},
       "columnCustomDisplayInfos": {},
       "data": [
        [
         "0e4068e0-4312-9a70-8f4d-46d1ddb9ae7c",
         "2021-10-14",
         "M",
         8631.600000000002,
         14,
         4,
         3,
         "<18"
        ],
        [
         "8a4869c4-4545-219f-2c65-fc44f98f3edf",
         "2013-12-20",
         "F",
         26143.670000000002,
         24,
         6,
         11,
         "<18"
        ],
        [
         "c0ec9264-5dda-fea6-ddea-edf27c0e846b",
         "2001-04-04",
         "M",
         464309.51999999996,
         64,
         12,
         23,
         "18-29"
        ],
        [
         "44efb83f-e2f9-d51f-4c9c-f246c94a6836",
         "2007-04-22",
         "F",
         135240.73999999996,
         41,
         16,
         17,
         "<18"
        ],
        [
         "4d14f82e-4161-579c-0229-4be23711676b",
         "2010-07-07",
         "M",
         28308.99,
         22,
         6,
         14,
         "<18"
        ],
        [
         "9e8bdf4c-12c3-d7ed-7aa6-93ac1a9d8aba",
         "1974-05-16",
         "F",
         80042.07,
         42,
         19,
         50,
         "45-64"
        ],
        [
         "347be68f-7625-f7cd-1171-a0031767dfe8",
         "1964-01-19",
         "F",
         224522.62000000008,
         53,
         35,
         60,
         "45-64"
        ],
        [
         "eeb5567d-5663-1ba9-b028-32c50a6fb5ba",
         "1962-04-14",
         "M",
         133423.64999999994,
         48,
         20,
         62,
         "45-64"
        ],
        [
         "24746653-4b85-e66c-bfbe-b7f7e936e06d",
         "2003-05-14",
         "M",
         17113.83,
         15,
         12,
         21,
         "18-29"
        ],
        [
         "bff652a6-0d09-2c89-2642-976aad2ca872",
         "1964-03-14",
         "F",
         53515.01,
         30,
         17,
         60,
         "45-64"
        ]
       ],
       "datasetInfos": [],
       "dbfsResultPath": null,
       "isJsonSchema": true,
       "metadata": {},
       "overflow": false,
       "plotOptions": {
        "customPlotOptions": {},
        "displayType": "table",
        "pivotAggregation": null,
        "pivotColumns": null,
        "xColumns": null,
        "yColumns": null
       },
       "removedWidgets": [],
       "schema": [
        {
         "metadata": "{}",
         "name": "patient_id",
         "type": "\"string\""
        },
        {
         "metadata": "{}",
         "name": "birthdate",
         "type": "\"date\""
        },
        {
         "metadata": "{}",
         "name": "gender",
         "type": "\"string\""
        },
        {
         "metadata": "{}",
         "name": "total_claim_cost",
         "type": "\"double\""
        },
        {
         "metadata": "{}",
         "name": "num_encounters",
         "type": "\"long\""
        },
        {
         "metadata": "{}",
         "name": "num_conditions",
         "type": "\"long\""
        },
        {
         "metadata": "{}",
         "name": "age",
         "type": "\"integer\""
        },
        {
         "metadata": "{}",
         "name": "age_bucket",
         "type": "\"string\""
        }
       ],
       "type": "table"
      }
     },
     "output_type": "display_data"
    },
    {
     "output_type": "stream",
     "name": "stdout",
     "output_type": "stream",
     "text": [
      "📝 Writing to Gold path: /FileStore/gold/fact_patient_summary\n✅ Done! Row count: 2920\n"
     ]
    }
   ],
   "source": [
    "transform_fact_patient_summary_gold(\n",
    "    encounters_path = f\"{silver_base}/encounters\",\n",
    "    conditions_path= f\"{silver_base}/conditions\",\n",
    "    patients_path= f\"{silver_base}/patients\",\n",
    "    output_path= f\"{gold_base}/fact_patient_summary\"\n",
    ")"
   ]
  },
  {
   "cell_type": "markdown",
   "metadata": {
    "application/vnd.databricks.v1+cell": {
     "cellMetadata": {
      "byteLimit": 2048000,
      "rowLimit": 10000
     },
     "inputWidgets": {},
     "nuid": "69b4cbcf-06de-4886-b547-2841b4e805f3",
     "showTitle": false,
     "tableResultSettingsMap": {},
     "title": ""
    }
   },
   "source": [
    "Dimension gold tables - patient, provider, and organization. "
   ]
  },
  {
   "cell_type": "code",
   "execution_count": 0,
   "metadata": {
    "application/vnd.databricks.v1+cell": {
     "cellMetadata": {
      "byteLimit": 2048000,
      "rowLimit": 10000
     },
     "inputWidgets": {},
     "nuid": "67364383-ddbf-4069-ac45-cb6cbd7258ab",
     "showTitle": false,
     "tableResultSettingsMap": {},
     "title": ""
    }
   },
   "outputs": [],
   "source": [
    "def transform_dim_patient_gold(patients_path: str, output_path: str):\n",
    "\n",
    "    print(\"📥 Loading Silver patients table...\")\n",
    "    df = spark.read.format(\"delta\").load(patients_path)\n",
    "\n",
    "    print(\"🔄 Transforming patient dimension...\")\n",
    "\n",
    "    df = df.select(\n",
    "        col(\"id\").alias(\"patient_id\"),\n",
    "        trim(col(\"gender\")).alias(\"gender\"),\n",
    "        to_date(\"birthdate\").alias(\"birthdate\"),\n",
    "        to_date(\"deathdate\").alias(\"deathdate\"),\n",
    "        trim(col(\"ethnicity\")).alias(\"ethnicity\"),\n",
    "        trim(col(\"race\")).alias(\"race\"),\n",
    "        col(\"income\").cast(\"int\"),\n",
    "        trim(col(\"county\")).alias(\"county\"),\n",
    "        trim(col(\"state\")).alias(\"state\"),\n",
    "        col(\"zip_clean\").cast(\"string\").alias(\"zip\")\n",
    "    ).withColumn(\n",
    "        \"age\",\n",
    "        floor(\n",
    "            datediff(\n",
    "                when(col(\"deathdate\").isNotNull(), col(\"deathdate\")).otherwise(current_date()),\n",
    "                col(\"birthdate\")\n",
    "            ) / 365.25\n",
    "        )\n",
    "    ).withColumn(\n",
    "        \"age_group\",\n",
    "        when(col(\"age\") < 18, \"0–17\")\n",
    "        .when(col(\"age\") < 35, \"18–34\")\n",
    "        .when(col(\"age\") < 50, \"35–49\")\n",
    "        .when(col(\"age\") < 65, \"50–64\")\n",
    "        .otherwise(\"65+\")\n",
    "    )\n",
    "\n",
    "\n",
    "    # Optional preview\n",
    "    display(df.limit(10))\n",
    "\n",
    "    # Uncomment to write to disk\n",
    "    print(f\"💾 Writing to: {output_path}\")\n",
    "    df.write.format(\"delta\").mode(\"overwrite\").save(output_path)\n",
    "\n",
    "    print(f\"✅ dim_patient_gold written! Row count: {df.count()}\")\n"
   ]
  },
  {
   "cell_type": "code",
   "execution_count": 0,
   "metadata": {
    "application/vnd.databricks.v1+cell": {
     "cellMetadata": {
      "byteLimit": 2048000,
      "rowLimit": 10000
     },
     "inputWidgets": {},
     "nuid": "b11da807-2fd9-406e-b7a1-2149bc41d7d1",
     "showTitle": false,
     "tableResultSettingsMap": {},
     "title": ""
    }
   },
   "outputs": [
    {
     "output_type": "stream",
     "name": "stdout",
     "output_type": "stream",
     "text": [
      "📥 Loading Silver patients table...\n🔄 Transforming patient dimension...\n"
     ]
    },
    {
     "output_type": "display_data",
     "data": {
      "text/html": [
       "<style scoped>\n",
       "  .table-result-container {\n",
       "    max-height: 300px;\n",
       "    overflow: auto;\n",
       "  }\n",
       "  table, th, td {\n",
       "    border: 1px solid black;\n",
       "    border-collapse: collapse;\n",
       "  }\n",
       "  th, td {\n",
       "    padding: 5px;\n",
       "  }\n",
       "  th {\n",
       "    text-align: left;\n",
       "  }\n",
       "</style><div class='table-result-container'><table class='table-result'><thead style='background-color: white'><tr><th>patient_id</th><th>gender</th><th>birthdate</th><th>deathdate</th><th>ethnicity</th><th>race</th><th>income</th><th>county</th><th>state</th><th>zip</th><th>age</th><th>age_group</th></tr></thead><tbody><tr><td>0e4068e0-4312-9a70-8f4d-46d1ddb9ae7c</td><td>M</td><td>2021-10-14</td><td>null</td><td>nonhispanic</td><td>white</td><td>466824</td><td>Essex County</td><td>Massachusetts</td><td>01810</td><td>3</td><td>0–17</td></tr><tr><td>8a4869c4-4545-219f-2c65-fc44f98f3edf</td><td>F</td><td>2013-12-20</td><td>null</td><td>nonhispanic</td><td>white</td><td>39521</td><td>Middlesex County</td><td>Massachusetts</td><td>01702</td><td>11</td><td>0–17</td></tr><tr><td>c0ec9264-5dda-fea6-ddea-edf27c0e846b</td><td>M</td><td>2001-04-04</td><td>null</td><td>nonhispanic</td><td>white</td><td>18695</td><td>Hampden County</td><td>Massachusetts</td><td>01085</td><td>24</td><td>18–34</td></tr><tr><td>44efb83f-e2f9-d51f-4c9c-f246c94a6836</td><td>F</td><td>2007-04-22</td><td>null</td><td>nonhispanic</td><td>white</td><td>169528</td><td>Plymouth County</td><td>Massachusetts</td><td>02341</td><td>18</td><td>18–34</td></tr><tr><td>4d14f82e-4161-579c-0229-4be23711676b</td><td>M</td><td>2010-07-07</td><td>null</td><td>hispanic</td><td>asian</td><td>534744</td><td>Middlesex County</td><td>Massachusetts</td><td>01852</td><td>14</td><td>0–17</td></tr><tr><td>9e8bdf4c-12c3-d7ed-7aa6-93ac1a9d8aba</td><td>F</td><td>1974-05-16</td><td>null</td><td>nonhispanic</td><td>white</td><td>83939</td><td>Middlesex County</td><td>Massachusetts</td><td>00000</td><td>51</td><td>50–64</td></tr><tr><td>347be68f-7625-f7cd-1171-a0031767dfe8</td><td>F</td><td>1964-01-19</td><td>null</td><td>nonhispanic</td><td>white</td><td>60987</td><td>Hampden County</td><td>Massachusetts</td><td>01009</td><td>61</td><td>50–64</td></tr><tr><td>eeb5567d-5663-1ba9-b028-32c50a6fb5ba</td><td>M</td><td>1962-04-14</td><td>1997-05-26</td><td>nonhispanic</td><td>white</td><td>301</td><td>Bristol County</td><td>Massachusetts</td><td>02723</td><td>35</td><td>35–49</td></tr><tr><td>24746653-4b85-e66c-bfbe-b7f7e936e06d</td><td>M</td><td>2003-05-14</td><td>null</td><td>nonhispanic</td><td>white</td><td>107830</td><td>Hampden County</td><td>Massachusetts</td><td>01020</td><td>22</td><td>18–34</td></tr><tr><td>bff652a6-0d09-2c89-2642-976aad2ca872</td><td>F</td><td>1964-03-14</td><td>null</td><td>nonhispanic</td><td>white</td><td>112624</td><td>Bristol County</td><td>Massachusetts</td><td>02743</td><td>61</td><td>50–64</td></tr></tbody></table></div>"
      ]
     },
     "metadata": {
      "application/vnd.databricks.v1+output": {
       "addedWidgets": {},
       "aggData": [],
       "aggError": "",
       "aggOverflow": false,
       "aggSchema": [],
       "aggSeriesLimitReached": false,
       "aggType": "",
       "arguments": {},
       "columnCustomDisplayInfos": {},
       "data": [
        [
         "0e4068e0-4312-9a70-8f4d-46d1ddb9ae7c",
         "M",
         "2021-10-14",
         null,
         "nonhispanic",
         "white",
         466824,
         "Essex County",
         "Massachusetts",
         "01810",
         3,
         "0–17"
        ],
        [
         "8a4869c4-4545-219f-2c65-fc44f98f3edf",
         "F",
         "2013-12-20",
         null,
         "nonhispanic",
         "white",
         39521,
         "Middlesex County",
         "Massachusetts",
         "01702",
         11,
         "0–17"
        ],
        [
         "c0ec9264-5dda-fea6-ddea-edf27c0e846b",
         "M",
         "2001-04-04",
         null,
         "nonhispanic",
         "white",
         18695,
         "Hampden County",
         "Massachusetts",
         "01085",
         24,
         "18–34"
        ],
        [
         "44efb83f-e2f9-d51f-4c9c-f246c94a6836",
         "F",
         "2007-04-22",
         null,
         "nonhispanic",
         "white",
         169528,
         "Plymouth County",
         "Massachusetts",
         "02341",
         18,
         "18–34"
        ],
        [
         "4d14f82e-4161-579c-0229-4be23711676b",
         "M",
         "2010-07-07",
         null,
         "hispanic",
         "asian",
         534744,
         "Middlesex County",
         "Massachusetts",
         "01852",
         14,
         "0–17"
        ],
        [
         "9e8bdf4c-12c3-d7ed-7aa6-93ac1a9d8aba",
         "F",
         "1974-05-16",
         null,
         "nonhispanic",
         "white",
         83939,
         "Middlesex County",
         "Massachusetts",
         "00000",
         51,
         "50–64"
        ],
        [
         "347be68f-7625-f7cd-1171-a0031767dfe8",
         "F",
         "1964-01-19",
         null,
         "nonhispanic",
         "white",
         60987,
         "Hampden County",
         "Massachusetts",
         "01009",
         61,
         "50–64"
        ],
        [
         "eeb5567d-5663-1ba9-b028-32c50a6fb5ba",
         "M",
         "1962-04-14",
         "1997-05-26",
         "nonhispanic",
         "white",
         301,
         "Bristol County",
         "Massachusetts",
         "02723",
         35,
         "35–49"
        ],
        [
         "24746653-4b85-e66c-bfbe-b7f7e936e06d",
         "M",
         "2003-05-14",
         null,
         "nonhispanic",
         "white",
         107830,
         "Hampden County",
         "Massachusetts",
         "01020",
         22,
         "18–34"
        ],
        [
         "bff652a6-0d09-2c89-2642-976aad2ca872",
         "F",
         "1964-03-14",
         null,
         "nonhispanic",
         "white",
         112624,
         "Bristol County",
         "Massachusetts",
         "02743",
         61,
         "50–64"
        ]
       ],
       "datasetInfos": [],
       "dbfsResultPath": null,
       "isJsonSchema": true,
       "metadata": {},
       "overflow": false,
       "plotOptions": {
        "customPlotOptions": {},
        "displayType": "table",
        "pivotAggregation": null,
        "pivotColumns": null,
        "xColumns": null,
        "yColumns": null
       },
       "removedWidgets": [],
       "schema": [
        {
         "metadata": "{}",
         "name": "patient_id",
         "type": "\"string\""
        },
        {
         "metadata": "{}",
         "name": "gender",
         "type": "\"string\""
        },
        {
         "metadata": "{}",
         "name": "birthdate",
         "type": "\"date\""
        },
        {
         "metadata": "{}",
         "name": "deathdate",
         "type": "\"date\""
        },
        {
         "metadata": "{}",
         "name": "ethnicity",
         "type": "\"string\""
        },
        {
         "metadata": "{}",
         "name": "race",
         "type": "\"string\""
        },
        {
         "metadata": "{}",
         "name": "income",
         "type": "\"integer\""
        },
        {
         "metadata": "{}",
         "name": "county",
         "type": "\"string\""
        },
        {
         "metadata": "{}",
         "name": "state",
         "type": "\"string\""
        },
        {
         "metadata": "{}",
         "name": "zip",
         "type": "\"string\""
        },
        {
         "metadata": "{}",
         "name": "age",
         "type": "\"long\""
        },
        {
         "metadata": "{}",
         "name": "age_group",
         "type": "\"string\""
        }
       ],
       "type": "table"
      }
     },
     "output_type": "display_data"
    },
    {
     "output_type": "stream",
     "name": "stdout",
     "output_type": "stream",
     "text": [
      "💾 Writing to: /FileStore/gold/dim_patients\n✅ dim_patient_gold written! Row count: 2920\n"
     ]
    }
   ],
   "source": [
    "transform_dim_patient_gold(\n",
    "    patients_path= f\"{silver_base}/patients\",\n",
    "    output_path= f\"{gold_base}/dim_patients\"\n",
    ")"
   ]
  },
  {
   "cell_type": "code",
   "execution_count": 0,
   "metadata": {
    "application/vnd.databricks.v1+cell": {
     "cellMetadata": {
      "byteLimit": 2048000,
      "rowLimit": 10000
     },
     "inputWidgets": {},
     "nuid": "12cc8207-d7c0-4a59-9e53-d09ed4ae30cd",
     "showTitle": false,
     "tableResultSettingsMap": {},
     "title": ""
    }
   },
   "outputs": [],
   "source": [
    "def transform_dim_provider_gold(providers_path: str, output_path: str):\n",
    "    \"\"\"\n",
    "    Transforms the Silver provider table into a cleaned Gold dimension table.\n",
    "    \"\"\"\n",
    "    print(\"📥 Loading Silver providers table...\")\n",
    "    df = spark.read.format(\"delta\").load(providers_path)\n",
    "\n",
    "    print(\"🔄 Transforming provider dimension...\")\n",
    "\n",
    "    df = df.select(\n",
    "        col(\"id\").alias(\"provider_id\"),\n",
    "        trim(col(\"name\")).alias(\"provider_name\"),\n",
    "        trim(col(\"speciality\")).alias(\"specialty\"),\n",
    "        trim(col(\"address\")).alias(\"address\"),\n",
    "        trim(col(\"city\")).alias(\"city\"),\n",
    "        trim(col(\"state\")).alias(\"state\"),\n",
    "        col(\"zip_clean\").cast(\"string\").alias(\"zip\")\n",
    "    )\n",
    "\n",
    "    # Optional preview\n",
    "    display(df.limit(10))\n",
    "\n",
    "    # Uncomment to write to disk\n",
    "    print(f\"💾 Writing to: {output_path}\")\n",
    "    df.write.format(\"delta\").mode(\"overwrite\").save(output_path)\n",
    "\n",
    "    print(f\"✅ dim_provider_gold written! Row count: {df.count()}\")\n"
   ]
  },
  {
   "cell_type": "code",
   "execution_count": 0,
   "metadata": {
    "application/vnd.databricks.v1+cell": {
     "cellMetadata": {
      "byteLimit": 2048000,
      "rowLimit": 10000
     },
     "inputWidgets": {},
     "nuid": "a409753f-73a8-4b9f-8ef7-c1e3cc59e13e",
     "showTitle": false,
     "tableResultSettingsMap": {},
     "title": ""
    }
   },
   "outputs": [
    {
     "output_type": "stream",
     "name": "stdout",
     "output_type": "stream",
     "text": [
      "📥 Loading Silver providers table...\n🔄 Transforming provider dimension...\n"
     ]
    },
    {
     "output_type": "display_data",
     "data": {
      "text/html": [
       "<style scoped>\n",
       "  .table-result-container {\n",
       "    max-height: 300px;\n",
       "    overflow: auto;\n",
       "  }\n",
       "  table, th, td {\n",
       "    border: 1px solid black;\n",
       "    border-collapse: collapse;\n",
       "  }\n",
       "  th, td {\n",
       "    padding: 5px;\n",
       "  }\n",
       "  th {\n",
       "    text-align: left;\n",
       "  }\n",
       "</style><div class='table-result-container'><table class='table-result'><thead style='background-color: white'><tr><th>provider_id</th><th>provider_name</th><th>specialty</th><th>address</th><th>city</th><th>state</th><th>zip</th></tr></thead><tbody><tr><td>b4fddf7d-8270-3555-8b5e-0b2ebeeb522f</td><td>Ted Reilly</td><td>GENERAL PRACTICE</td><td>881 Main Street</td><td>Fitchburg</td><td>MA</td><td>01420</td></tr><tr><td>a62208fe-9bf8-3a29-82ad-2b9c40c2c87a</td><td>Tiffaney Brakus</td><td>GENERAL PRACTICE</td><td>461 WALNUT AVE</td><td>JAMAICA PLAIN</td><td>MA</td><td>21302</td></tr><tr><td>ecbbed09-e689-3f52-9f9e-a15ad70518a7</td><td>Aleen Lueilwitz</td><td>GENERAL PRACTICE</td><td>19 TACOMA ST</td><td>WORCESTER</td><td>MA</td><td>16053</td></tr><tr><td>32b5d003-3d81-3b92-9981-8b7847ede274</td><td>Gustavo Armstrong</td><td>GENERAL PRACTICE</td><td>66 WASHINGTON ST</td><td>STOUGHTON</td><td>MA</td><td>20722</td></tr><tr><td>070a18e5-869b-3232-8113-8ba49be6f77b</td><td>Olympia Ward</td><td>GENERAL PRACTICE</td><td>512 MAIN STREET  SUITE 211</td><td>SHREWSBURY</td><td>MA</td><td>15456</td></tr><tr><td>4c4ffa32-f352-3dfb-8a2c-0c95be7a4872</td><td>Ambrose Feeney</td><td>GENERAL PRACTICE</td><td>37 ROUTE 6A</td><td>SANDWICH</td><td>MA</td><td>25631</td></tr><tr><td>019d7b1f-8b17-3b65-bf49-8a12bd95835e</td><td>Ronald Emard</td><td>GENERAL PRACTICE</td><td>60 HOSPITAL RD</td><td>LEOMINSTER</td><td>MA</td><td>14533</td></tr><tr><td>d4a0701b-e6be-39b6-a5fc-b41eb2451061</td><td>Gisele Lehner</td><td>GENERAL PRACTICE</td><td>1400 VFW Parkway</td><td>West Roxbury</td><td>MA</td><td>02132</td></tr><tr><td>6eff0a54-349a-3125-8447-f1aa434fabda</td><td>Brittanie Krajcik</td><td>GENERAL PRACTICE</td><td>94 MAIN STREET</td><td>HYANNIS</td><td>MA</td><td>26013</td></tr><tr><td>aa4ffaf5-9b5f-3c08-8781-234a82ea41a4</td><td>Jerrod Harris</td><td>GENERAL PRACTICE</td><td>512 MAIN ST</td><td>HOLDEN</td><td>MA</td><td>15202</td></tr></tbody></table></div>"
      ]
     },
     "metadata": {
      "application/vnd.databricks.v1+output": {
       "addedWidgets": {},
       "aggData": [],
       "aggError": "",
       "aggOverflow": false,
       "aggSchema": [],
       "aggSeriesLimitReached": false,
       "aggType": "",
       "arguments": {},
       "columnCustomDisplayInfos": {},
       "data": [
        [
         "b4fddf7d-8270-3555-8b5e-0b2ebeeb522f",
         "Ted Reilly",
         "GENERAL PRACTICE",
         "881 Main Street",
         "Fitchburg",
         "MA",
         "01420"
        ],
        [
         "a62208fe-9bf8-3a29-82ad-2b9c40c2c87a",
         "Tiffaney Brakus",
         "GENERAL PRACTICE",
         "461 WALNUT AVE",
         "JAMAICA PLAIN",
         "MA",
         "21302"
        ],
        [
         "ecbbed09-e689-3f52-9f9e-a15ad70518a7",
         "Aleen Lueilwitz",
         "GENERAL PRACTICE",
         "19 TACOMA ST",
         "WORCESTER",
         "MA",
         "16053"
        ],
        [
         "32b5d003-3d81-3b92-9981-8b7847ede274",
         "Gustavo Armstrong",
         "GENERAL PRACTICE",
         "66 WASHINGTON ST",
         "STOUGHTON",
         "MA",
         "20722"
        ],
        [
         "070a18e5-869b-3232-8113-8ba49be6f77b",
         "Olympia Ward",
         "GENERAL PRACTICE",
         "512 MAIN STREET  SUITE 211",
         "SHREWSBURY",
         "MA",
         "15456"
        ],
        [
         "4c4ffa32-f352-3dfb-8a2c-0c95be7a4872",
         "Ambrose Feeney",
         "GENERAL PRACTICE",
         "37 ROUTE 6A",
         "SANDWICH",
         "MA",
         "25631"
        ],
        [
         "019d7b1f-8b17-3b65-bf49-8a12bd95835e",
         "Ronald Emard",
         "GENERAL PRACTICE",
         "60 HOSPITAL RD",
         "LEOMINSTER",
         "MA",
         "14533"
        ],
        [
         "d4a0701b-e6be-39b6-a5fc-b41eb2451061",
         "Gisele Lehner",
         "GENERAL PRACTICE",
         "1400 VFW Parkway",
         "West Roxbury",
         "MA",
         "02132"
        ],
        [
         "6eff0a54-349a-3125-8447-f1aa434fabda",
         "Brittanie Krajcik",
         "GENERAL PRACTICE",
         "94 MAIN STREET",
         "HYANNIS",
         "MA",
         "26013"
        ],
        [
         "aa4ffaf5-9b5f-3c08-8781-234a82ea41a4",
         "Jerrod Harris",
         "GENERAL PRACTICE",
         "512 MAIN ST",
         "HOLDEN",
         "MA",
         "15202"
        ]
       ],
       "datasetInfos": [],
       "dbfsResultPath": null,
       "isJsonSchema": true,
       "metadata": {},
       "overflow": false,
       "plotOptions": {
        "customPlotOptions": {},
        "displayType": "table",
        "pivotAggregation": null,
        "pivotColumns": null,
        "xColumns": null,
        "yColumns": null
       },
       "removedWidgets": [],
       "schema": [
        {
         "metadata": "{}",
         "name": "provider_id",
         "type": "\"string\""
        },
        {
         "metadata": "{}",
         "name": "provider_name",
         "type": "\"string\""
        },
        {
         "metadata": "{}",
         "name": "specialty",
         "type": "\"string\""
        },
        {
         "metadata": "{}",
         "name": "address",
         "type": "\"string\""
        },
        {
         "metadata": "{}",
         "name": "city",
         "type": "\"string\""
        },
        {
         "metadata": "{}",
         "name": "state",
         "type": "\"string\""
        },
        {
         "metadata": "{}",
         "name": "zip",
         "type": "\"string\""
        }
       ],
       "type": "table"
      }
     },
     "output_type": "display_data"
    },
    {
     "output_type": "stream",
     "name": "stdout",
     "output_type": "stream",
     "text": [
      "💾 Writing to: /FileStore/gold/dim_providers\n✅ dim_provider_gold written! Row count: 1012\n"
     ]
    }
   ],
   "source": [
    "transform_dim_provider_gold(\n",
    "    providers_path= f\"{silver_base}/providers\",\n",
    "    output_path= f\"{gold_base}/dim_providers\"\n",
    ")\n"
   ]
  },
  {
   "cell_type": "code",
   "execution_count": 0,
   "metadata": {
    "application/vnd.databricks.v1+cell": {
     "cellMetadata": {
      "byteLimit": 2048000,
      "rowLimit": 10000
     },
     "inputWidgets": {},
     "nuid": "2eba9008-4530-4354-b812-81a370b38652",
     "showTitle": false,
     "tableResultSettingsMap": {},
     "title": ""
    }
   },
   "outputs": [],
   "source": [
    "def transform_dim_organization_gold(organizations_path: str, output_path: str):\n",
    "    \"\"\"\n",
    "    Transforms the Silver organization table into a cleaned Gold dimension table.\n",
    "    \"\"\"\n",
    "    print(\"📥 Loading Silver organizations table...\")\n",
    "    df = spark.read.format(\"delta\").load(organizations_path)\n",
    "\n",
    "    print(\"🔄 Transforming organization dimension...\")\n",
    "\n",
    "    df = df.select(\n",
    "        col(\"id\").alias(\"organization_id\"),\n",
    "        trim(col(\"name\")).alias(\"organization_name\"),\n",
    "        trim(col(\"address\")).alias(\"address\"),\n",
    "        trim(col(\"city\")).alias(\"city\"),\n",
    "        trim(col(\"state\")).alias(\"state\"),\n",
    "        col(\"zip_cleaned\").cast(\"string\").alias(\"zip\")\n",
    "    )\n",
    "\n",
    "    # Optional preview\n",
    "    display(df.limit(10))\n",
    "\n",
    "    # Uncomment to write to disk\n",
    "    print(f\"💾 Writing to: {output_path}\")\n",
    "    df.write.format(\"delta\").mode(\"overwrite\").save(output_path)\n",
    "\n",
    "    print(f\"✅ dim_organization_gold written! Row count: {df.count()}\")\n"
   ]
  },
  {
   "cell_type": "code",
   "execution_count": 0,
   "metadata": {
    "application/vnd.databricks.v1+cell": {
     "cellMetadata": {
      "byteLimit": 2048000,
      "rowLimit": 10000
     },
     "inputWidgets": {},
     "nuid": "a334c5d8-6317-4999-8655-1f47b56ecddb",
     "showTitle": false,
     "tableResultSettingsMap": {},
     "title": ""
    }
   },
   "outputs": [
    {
     "output_type": "stream",
     "name": "stdout",
     "output_type": "stream",
     "text": [
      "📥 Loading Silver organizations table...\n🔄 Transforming organization dimension...\n"
     ]
    },
    {
     "output_type": "display_data",
     "data": {
      "text/html": [
       "<style scoped>\n",
       "  .table-result-container {\n",
       "    max-height: 300px;\n",
       "    overflow: auto;\n",
       "  }\n",
       "  table, th, td {\n",
       "    border: 1px solid black;\n",
       "    border-collapse: collapse;\n",
       "  }\n",
       "  th, td {\n",
       "    padding: 5px;\n",
       "  }\n",
       "  th {\n",
       "    text-align: left;\n",
       "  }\n",
       "</style><div class='table-result-container'><table class='table-result'><thead style='background-color: white'><tr><th>organization_id</th><th>organization_name</th><th>address</th><th>city</th><th>state</th><th>zip</th></tr></thead><tbody><tr><td>74ab949d-17ac-3309-83a0-13b4405c66aa</td><td>Fitchburg Outpatient Clinic</td><td>881 Main Street</td><td>Fitchburg</td><td>MA</td><td>01420</td></tr><tr><td>588f6ce6-b8db-3588-8189-29db2680a313</td><td>BOSTON HEALTH CARE FOR THE HOMELESS PROGRAM INC</td><td>461 WALNUT AVE</td><td>JAMAICA PLAIN</td><td>MA</td><td>21302</td></tr><tr><td>b6398e07-4967-31a5-807f-380039a1f303</td><td>EDWARD M KENNEDY COMMUNITY HEALTH CENTER INC</td><td>19 TACOMA ST</td><td>WORCESTER</td><td>MA</td><td>16053</td></tr><tr><td>faffaf6a-ee1a-3673-b0b0-421a9c249244</td><td>ACTIVATED BY WELLNESS LLC</td><td>66 WASHINGTON ST</td><td>STOUGHTON</td><td>MA</td><td>20722</td></tr><tr><td>17a4bae5-8b64-34d7-8144-b428be027bd0</td><td>NURSE ON CALL</td><td>512 MAIN STREET  SUITE 211</td><td>SHREWSBURY</td><td>MA</td><td>15456</td></tr><tr><td>4112b8b1-59df-3255-a7ca-f42ee0a4cb2e</td><td>CAPE HERITAGE REHABILITATION & HEALTH CARE CENTER</td><td>37 ROUTE 6A</td><td>SANDWICH</td><td>MA</td><td>25631</td></tr><tr><td>e09d4c49-c2ef-3b0f-9a46-3719d9219306</td><td>UMASS MEMORIAL HEALTHALLIANCE CLINTON HOSPITAL INC</td><td>60 HOSPITAL RD</td><td>LEOMINSTER</td><td>MA</td><td>14533</td></tr><tr><td>e76b5eb0-0c9d-3593-b5da-3c0e9a97bb96</td><td>VA Boston Healthcare System  West Roxbury Campus</td><td>1400 VFW Parkway</td><td>West Roxbury</td><td>MA</td><td>02132</td></tr><tr><td>c241b977-4131-32e4-9957-e0a00b2a1e5f</td><td>DUFFY HEALTH CENTER</td><td>94 MAIN STREET</td><td>HYANNIS</td><td>MA</td><td>26013</td></tr><tr><td>e33fbb39-3d48-356e-b719-6942a94c09d9</td><td>RHAPSODY HOME HEALTH AGENCY LLC</td><td>512 MAIN ST</td><td>HOLDEN</td><td>MA</td><td>15202</td></tr></tbody></table></div>"
      ]
     },
     "metadata": {
      "application/vnd.databricks.v1+output": {
       "addedWidgets": {},
       "aggData": [],
       "aggError": "",
       "aggOverflow": false,
       "aggSchema": [],
       "aggSeriesLimitReached": false,
       "aggType": "",
       "arguments": {},
       "columnCustomDisplayInfos": {},
       "data": [
        [
         "74ab949d-17ac-3309-83a0-13b4405c66aa",
         "Fitchburg Outpatient Clinic",
         "881 Main Street",
         "Fitchburg",
         "MA",
         "01420"
        ],
        [
         "588f6ce6-b8db-3588-8189-29db2680a313",
         "BOSTON HEALTH CARE FOR THE HOMELESS PROGRAM INC",
         "461 WALNUT AVE",
         "JAMAICA PLAIN",
         "MA",
         "21302"
        ],
        [
         "b6398e07-4967-31a5-807f-380039a1f303",
         "EDWARD M KENNEDY COMMUNITY HEALTH CENTER INC",
         "19 TACOMA ST",
         "WORCESTER",
         "MA",
         "16053"
        ],
        [
         "faffaf6a-ee1a-3673-b0b0-421a9c249244",
         "ACTIVATED BY WELLNESS LLC",
         "66 WASHINGTON ST",
         "STOUGHTON",
         "MA",
         "20722"
        ],
        [
         "17a4bae5-8b64-34d7-8144-b428be027bd0",
         "NURSE ON CALL",
         "512 MAIN STREET  SUITE 211",
         "SHREWSBURY",
         "MA",
         "15456"
        ],
        [
         "4112b8b1-59df-3255-a7ca-f42ee0a4cb2e",
         "CAPE HERITAGE REHABILITATION & HEALTH CARE CENTER",
         "37 ROUTE 6A",
         "SANDWICH",
         "MA",
         "25631"
        ],
        [
         "e09d4c49-c2ef-3b0f-9a46-3719d9219306",
         "UMASS MEMORIAL HEALTHALLIANCE CLINTON HOSPITAL INC",
         "60 HOSPITAL RD",
         "LEOMINSTER",
         "MA",
         "14533"
        ],
        [
         "e76b5eb0-0c9d-3593-b5da-3c0e9a97bb96",
         "VA Boston Healthcare System  West Roxbury Campus",
         "1400 VFW Parkway",
         "West Roxbury",
         "MA",
         "02132"
        ],
        [
         "c241b977-4131-32e4-9957-e0a00b2a1e5f",
         "DUFFY HEALTH CENTER",
         "94 MAIN STREET",
         "HYANNIS",
         "MA",
         "26013"
        ],
        [
         "e33fbb39-3d48-356e-b719-6942a94c09d9",
         "RHAPSODY HOME HEALTH AGENCY LLC",
         "512 MAIN ST",
         "HOLDEN",
         "MA",
         "15202"
        ]
       ],
       "datasetInfos": [],
       "dbfsResultPath": null,
       "isJsonSchema": true,
       "metadata": {},
       "overflow": false,
       "plotOptions": {
        "customPlotOptions": {},
        "displayType": "table",
        "pivotAggregation": null,
        "pivotColumns": null,
        "xColumns": null,
        "yColumns": null
       },
       "removedWidgets": [],
       "schema": [
        {
         "metadata": "{}",
         "name": "organization_id",
         "type": "\"string\""
        },
        {
         "metadata": "{}",
         "name": "organization_name",
         "type": "\"string\""
        },
        {
         "metadata": "{}",
         "name": "address",
         "type": "\"string\""
        },
        {
         "metadata": "{}",
         "name": "city",
         "type": "\"string\""
        },
        {
         "metadata": "{}",
         "name": "state",
         "type": "\"string\""
        },
        {
         "metadata": "{}",
         "name": "zip",
         "type": "\"string\""
        }
       ],
       "type": "table"
      }
     },
     "output_type": "display_data"
    },
    {
     "output_type": "stream",
     "name": "stdout",
     "output_type": "stream",
     "text": [
      "💾 Writing to: /FileStore/gold/dim_organizations\n✅ dim_organization_gold written! Row count: 1012\n"
     ]
    }
   ],
   "source": [
    "transform_dim_organization_gold(\n",
    "    organizations_path= f\"{silver_base}/organizations\",\n",
    "    output_path= f\"{gold_base}/dim_organizations\"\n",
    ")\n"
   ]
  },
  {
   "cell_type": "markdown",
   "metadata": {
    "application/vnd.databricks.v1+cell": {
     "cellMetadata": {
      "byteLimit": 2048000,
      "rowLimit": 10000
     },
     "inputWidgets": {},
     "nuid": "6a06ed19-1d00-49f0-85db-0765a2b20d07",
     "showTitle": false,
     "tableResultSettingsMap": {},
     "title": ""
    }
   },
   "source": [
    "Register tables to hive metastore"
   ]
  },
  {
   "cell_type": "code",
   "execution_count": 0,
   "metadata": {
    "application/vnd.databricks.v1+cell": {
     "cellMetadata": {
      "byteLimit": 2048000,
      "rowLimit": 10000
     },
     "inputWidgets": {},
     "nuid": "2cbdce73-66c1-4a53-8f92-25982d6904a1",
     "showTitle": false,
     "tableResultSettingsMap": {},
     "title": ""
    }
   },
   "outputs": [
    {
     "output_type": "stream",
     "name": "stdout",
     "output_type": "stream",
     "text": [
      "Registering fact_encounters at /FileStore/gold/fact_encounters\nRegistering fact_conditions at /FileStore/gold/fact_conditions\nRegistering fact_patient_summary at /FileStore/gold/fact_patient_summary\nRegistering dim_patients at /FileStore/gold/dim_patients\nRegistering dim_providers at /FileStore/gold/dim_providers\nRegistering dim_organizations at /FileStore/gold/dim_organizations\n"
     ]
    }
   ],
   "source": [
    "gold_base_path = \"/FileStore/gold\"\n",
    "\n",
    "tables_to_register = [\n",
    "    \"fact_encounters\",\n",
    "    \"fact_conditions\",\n",
    "    \"fact_patient_summary\",\n",
    "    \"dim_patients\",\n",
    "    \"dim_providers\",\n",
    "    \"dim_organizations\"\n",
    "]\n",
    "\n",
    "for table_name in tables_to_register:\n",
    "    path = f\"{gold_base_path}/{table_name}\"\n",
    "    print(f\"Registering {table_name} at {path}\")\n",
    "    \n",
    "    spark.sql(f\"DROP TABLE IF EXISTS {table_name}\")\n",
    "    \n",
    "    spark.sql(f\"\"\"\n",
    "        CREATE TABLE {table_name}\n",
    "        USING DELTA\n",
    "        LOCATION '{path}'\n",
    "    \"\"\")\n"
   ]
  },
  {
   "cell_type": "markdown",
   "metadata": {
    "application/vnd.databricks.v1+cell": {
     "cellMetadata": {
      "byteLimit": 2048000,
      "rowLimit": 10000
     },
     "inputWidgets": {},
     "nuid": "5f8435eb-28a8-4667-9ebf-e4a33ebe3547",
     "showTitle": false,
     "tableResultSettingsMap": {},
     "title": ""
    }
   },
   "source": [
    "Inspecting "
   ]
  },
  {
   "cell_type": "code",
   "execution_count": 0,
   "metadata": {
    "application/vnd.databricks.v1+cell": {
     "cellMetadata": {
      "byteLimit": 2048000,
      "rowLimit": 10000
     },
     "inputWidgets": {},
     "nuid": "2d90c61d-3ad2-4b19-9d1a-2ec87de68742",
     "showTitle": false,
     "tableResultSettingsMap": {},
     "title": ""
    }
   },
   "outputs": [
    {
     "output_type": "display_data",
     "data": {
      "text/html": [
       "<style scoped>\n",
       "  .table-result-container {\n",
       "    max-height: 300px;\n",
       "    overflow: auto;\n",
       "  }\n",
       "  table, th, td {\n",
       "    border: 1px solid black;\n",
       "    border-collapse: collapse;\n",
       "  }\n",
       "  th, td {\n",
       "    padding: 5px;\n",
       "  }\n",
       "  th {\n",
       "    text-align: left;\n",
       "  }\n",
       "</style><div class='table-result-container'><table class='table-result'><thead style='background-color: white'><tr><th>id</th><th>start</th><th>stop</th><th>patient</th><th>organization</th><th>provider</th><th>payer</th><th>encounterclass</th><th>code</th><th>description</th><th>base_encounter_cost</th><th>total_claim_cost</th><th>payer_coverage</th><th>reasoncode</th><th>reasondescription</th><th>ingestion_timestamp</th><th>source_file</th></tr></thead><tbody><tr><td>96c9dae7-5534-9b62-ff62-f9070d16cccc</td><td>2021-10-15T04:28:53.000+0000</td><td>2021-10-15T04:43:53.000+0000</td><td>0e4068e0-4312-9a70-8f4d-46d1ddb9ae7c</td><td>87f3b181-1c52-3161-a15a-ea2d9a04b35f</td><td>ade28ca4-9796-33b6-91d2-5656ecd6b2a5</td><td>26aab0cd-6aba-3e1b-ac5b-05c8867e762c</td><td>wellness</td><td>410620009</td><td>Well child visit (procedure)</td><td>136.8</td><td>347.38</td><td>0.0</td><td>null</td><td>null</td><td>2025-06-16T02:50:02.257+0000</td><td>/FileStore/tables/encounters.csv</td></tr><tr><td>4f7d84f3-8207-7c46-3291-3e5ed0bfe0df</td><td>2015-05-29T11:05:06.000+0000</td><td>2015-05-29T11:20:06.000+0000</td><td>8a4869c4-4545-219f-2c65-fc44f98f3edf</td><td>e7b77e8f-b607-3273-aef9-ad1bca48813f</td><td>5e4867ba-cd40-310b-bcc8-13320f4a81ed</td><td>e03e23c9-4df1-3eb6-a62d-f70f02301496</td><td>wellness</td><td>410620009</td><td>Well child visit (procedure)</td><td>136.8</td><td>272.8</td><td>0.0</td><td>null</td><td>null</td><td>2025-06-16T02:50:02.257+0000</td><td>/FileStore/tables/encounters.csv</td></tr><tr><td>b7d27489-fe6c-bd22-a90c-789c1aa2a7ce</td><td>2015-06-13T11:05:06.000+0000</td><td>2015-06-13T11:20:06.000+0000</td><td>8a4869c4-4545-219f-2c65-fc44f98f3edf</td><td>05fcf001-ab24-3d7d-85f7-f64942d82738</td><td>40f1fbee-320e-3a02-902f-bb55d650ac67</td><td>e03e23c9-4df1-3eb6-a62d-f70f02301496</td><td>outpatient</td><td>185345009</td><td>Encounter for symptom (procedure)</td><td>85.55</td><td>85.55</td><td>0.0</td><td>65363002</td><td>Otitis media (disorder)</td><td>2025-06-16T02:50:02.257+0000</td><td>/FileStore/tables/encounters.csv</td></tr><tr><td>92f15155-d985-4d86-caef-feeac8a22454</td><td>2015-11-27T11:05:06.000+0000</td><td>2015-11-27T11:20:06.000+0000</td><td>8a4869c4-4545-219f-2c65-fc44f98f3edf</td><td>e7b77e8f-b607-3273-aef9-ad1bca48813f</td><td>5e4867ba-cd40-310b-bcc8-13320f4a81ed</td><td>e03e23c9-4df1-3eb6-a62d-f70f02301496</td><td>wellness</td><td>410620009</td><td>Well child visit (procedure)</td><td>136.8</td><td>272.8</td><td>0.0</td><td>null</td><td>null</td><td>2025-06-16T02:50:02.257+0000</td><td>/FileStore/tables/encounters.csv</td></tr><tr><td>e8085e9a-5531-0fae-2d81-a3ee076fc878</td><td>2016-05-27T11:05:06.000+0000</td><td>2016-05-27T11:20:06.000+0000</td><td>8a4869c4-4545-219f-2c65-fc44f98f3edf</td><td>e7b77e8f-b607-3273-aef9-ad1bca48813f</td><td>5e4867ba-cd40-310b-bcc8-13320f4a81ed</td><td>e03e23c9-4df1-3eb6-a62d-f70f02301496</td><td>wellness</td><td>410620009</td><td>Well child visit (procedure)</td><td>136.8</td><td>1135.6</td><td>0.0</td><td>null</td><td>null</td><td>2025-06-16T02:50:02.257+0000</td><td>/FileStore/tables/encounters.csv</td></tr><tr><td>01d9dc5f-d51d-bf34-7198-dbf8f52e6052</td><td>2021-11-19T04:28:53.000+0000</td><td>2021-11-19T04:43:53.000+0000</td><td>0e4068e0-4312-9a70-8f4d-46d1ddb9ae7c</td><td>87f3b181-1c52-3161-a15a-ea2d9a04b35f</td><td>ade28ca4-9796-33b6-91d2-5656ecd6b2a5</td><td>26aab0cd-6aba-3e1b-ac5b-05c8867e762c</td><td>wellness</td><td>410620009</td><td>Well child visit (procedure)</td><td>136.8</td><td>1135.6</td><td>0.0</td><td>null</td><td>null</td><td>2025-06-16T02:50:02.257+0000</td><td>/FileStore/tables/encounters.csv</td></tr><tr><td>23998ffd-5bca-e28e-915c-42763fd6e7f0</td><td>2016-10-06T11:05:06.000+0000</td><td>2016-10-06T12:05:06.000+0000</td><td>8a4869c4-4545-219f-2c65-fc44f98f3edf</td><td>4887dc20-9ef6-3cc2-9c56-858388049a50</td><td>3d93c4aa-a703-3538-b7c9-1e9950006112</td><td>e03e23c9-4df1-3eb6-a62d-f70f02301496</td><td>emergency</td><td>50849002</td><td>Emergency room admission (procedure)</td><td>146.18</td><td>146.18</td><td>0.0</td><td>110030002</td><td>Concussion injury of brain (disorder)</td><td>2025-06-16T02:50:02.257+0000</td><td>/FileStore/tables/encounters.csv</td></tr><tr><td>1a82bcb4-4af2-1e09-5d17-1b9de6e50323</td><td>2016-11-25T11:05:06.000+0000</td><td>2016-11-25T11:20:06.000+0000</td><td>8a4869c4-4545-219f-2c65-fc44f98f3edf</td><td>e7b77e8f-b607-3273-aef9-ad1bca48813f</td><td>5e4867ba-cd40-310b-bcc8-13320f4a81ed</td><td>e03e23c9-4df1-3eb6-a62d-f70f02301496</td><td>wellness</td><td>410620009</td><td>Well child visit (procedure)</td><td>136.8</td><td>272.8</td><td>0.0</td><td>null</td><td>null</td><td>2025-06-16T02:50:02.257+0000</td><td>/FileStore/tables/encounters.csv</td></tr><tr><td>d88400c9-90d5-5244-a5e8-beef337c655c</td><td>2016-12-05T11:05:06.000+0000</td><td>2016-12-05T11:20:06.000+0000</td><td>8a4869c4-4545-219f-2c65-fc44f98f3edf</td><td>05fcf001-ab24-3d7d-85f7-f64942d82738</td><td>40f1fbee-320e-3a02-902f-bb55d650ac67</td><td>e03e23c9-4df1-3eb6-a62d-f70f02301496</td><td>ambulatory</td><td>185349003</td><td>Encounter for check up (procedure)</td><td>85.55</td><td>85.55</td><td>0.0</td><td>62106007</td><td>Concussion with no loss of consciousness (disorder)</td><td>2025-06-16T02:50:02.257+0000</td><td>/FileStore/tables/encounters.csv</td></tr><tr><td>b31c0b80-b8bc-8dad-7361-fefb4cf784d3</td><td>2017-05-26T11:05:06.000+0000</td><td>2017-05-26T11:20:06.000+0000</td><td>8a4869c4-4545-219f-2c65-fc44f98f3edf</td><td>e7b77e8f-b607-3273-aef9-ad1bca48813f</td><td>5e4867ba-cd40-310b-bcc8-13320f4a81ed</td><td>e03e23c9-4df1-3eb6-a62d-f70f02301496</td><td>wellness</td><td>410620009</td><td>Well child visit (procedure)</td><td>136.8</td><td>136.8</td><td>0.0</td><td>null</td><td>null</td><td>2025-06-16T02:50:02.257+0000</td><td>/FileStore/tables/encounters.csv</td></tr></tbody></table></div>"
      ]
     },
     "metadata": {
      "application/vnd.databricks.v1+output": {
       "addedWidgets": {},
       "aggData": [],
       "aggError": "",
       "aggOverflow": false,
       "aggSchema": [],
       "aggSeriesLimitReached": false,
       "aggType": "",
       "arguments": {},
       "columnCustomDisplayInfos": {},
       "data": [
        [
         "96c9dae7-5534-9b62-ff62-f9070d16cccc",
         "2021-10-15T04:28:53.000+0000",
         "2021-10-15T04:43:53.000+0000",
         "0e4068e0-4312-9a70-8f4d-46d1ddb9ae7c",
         "87f3b181-1c52-3161-a15a-ea2d9a04b35f",
         "ade28ca4-9796-33b6-91d2-5656ecd6b2a5",
         "26aab0cd-6aba-3e1b-ac5b-05c8867e762c",
         "wellness",
         410620009,
         "Well child visit (procedure)",
         136.8,
         347.38,
         0.0,
         null,
         null,
         "2025-06-16T02:50:02.257+0000",
         "/FileStore/tables/encounters.csv"
        ],
        [
         "4f7d84f3-8207-7c46-3291-3e5ed0bfe0df",
         "2015-05-29T11:05:06.000+0000",
         "2015-05-29T11:20:06.000+0000",
         "8a4869c4-4545-219f-2c65-fc44f98f3edf",
         "e7b77e8f-b607-3273-aef9-ad1bca48813f",
         "5e4867ba-cd40-310b-bcc8-13320f4a81ed",
         "e03e23c9-4df1-3eb6-a62d-f70f02301496",
         "wellness",
         410620009,
         "Well child visit (procedure)",
         136.8,
         272.8,
         0.0,
         null,
         null,
         "2025-06-16T02:50:02.257+0000",
         "/FileStore/tables/encounters.csv"
        ],
        [
         "b7d27489-fe6c-bd22-a90c-789c1aa2a7ce",
         "2015-06-13T11:05:06.000+0000",
         "2015-06-13T11:20:06.000+0000",
         "8a4869c4-4545-219f-2c65-fc44f98f3edf",
         "05fcf001-ab24-3d7d-85f7-f64942d82738",
         "40f1fbee-320e-3a02-902f-bb55d650ac67",
         "e03e23c9-4df1-3eb6-a62d-f70f02301496",
         "outpatient",
         185345009,
         "Encounter for symptom (procedure)",
         85.55,
         85.55,
         0.0,
         65363002,
         "Otitis media (disorder)",
         "2025-06-16T02:50:02.257+0000",
         "/FileStore/tables/encounters.csv"
        ],
        [
         "92f15155-d985-4d86-caef-feeac8a22454",
         "2015-11-27T11:05:06.000+0000",
         "2015-11-27T11:20:06.000+0000",
         "8a4869c4-4545-219f-2c65-fc44f98f3edf",
         "e7b77e8f-b607-3273-aef9-ad1bca48813f",
         "5e4867ba-cd40-310b-bcc8-13320f4a81ed",
         "e03e23c9-4df1-3eb6-a62d-f70f02301496",
         "wellness",
         410620009,
         "Well child visit (procedure)",
         136.8,
         272.8,
         0.0,
         null,
         null,
         "2025-06-16T02:50:02.257+0000",
         "/FileStore/tables/encounters.csv"
        ],
        [
         "e8085e9a-5531-0fae-2d81-a3ee076fc878",
         "2016-05-27T11:05:06.000+0000",
         "2016-05-27T11:20:06.000+0000",
         "8a4869c4-4545-219f-2c65-fc44f98f3edf",
         "e7b77e8f-b607-3273-aef9-ad1bca48813f",
         "5e4867ba-cd40-310b-bcc8-13320f4a81ed",
         "e03e23c9-4df1-3eb6-a62d-f70f02301496",
         "wellness",
         410620009,
         "Well child visit (procedure)",
         136.8,
         1135.6,
         0.0,
         null,
         null,
         "2025-06-16T02:50:02.257+0000",
         "/FileStore/tables/encounters.csv"
        ],
        [
         "01d9dc5f-d51d-bf34-7198-dbf8f52e6052",
         "2021-11-19T04:28:53.000+0000",
         "2021-11-19T04:43:53.000+0000",
         "0e4068e0-4312-9a70-8f4d-46d1ddb9ae7c",
         "87f3b181-1c52-3161-a15a-ea2d9a04b35f",
         "ade28ca4-9796-33b6-91d2-5656ecd6b2a5",
         "26aab0cd-6aba-3e1b-ac5b-05c8867e762c",
         "wellness",
         410620009,
         "Well child visit (procedure)",
         136.8,
         1135.6,
         0.0,
         null,
         null,
         "2025-06-16T02:50:02.257+0000",
         "/FileStore/tables/encounters.csv"
        ],
        [
         "23998ffd-5bca-e28e-915c-42763fd6e7f0",
         "2016-10-06T11:05:06.000+0000",
         "2016-10-06T12:05:06.000+0000",
         "8a4869c4-4545-219f-2c65-fc44f98f3edf",
         "4887dc20-9ef6-3cc2-9c56-858388049a50",
         "3d93c4aa-a703-3538-b7c9-1e9950006112",
         "e03e23c9-4df1-3eb6-a62d-f70f02301496",
         "emergency",
         50849002,
         "Emergency room admission (procedure)",
         146.18,
         146.18,
         0.0,
         110030002,
         "Concussion injury of brain (disorder)",
         "2025-06-16T02:50:02.257+0000",
         "/FileStore/tables/encounters.csv"
        ],
        [
         "1a82bcb4-4af2-1e09-5d17-1b9de6e50323",
         "2016-11-25T11:05:06.000+0000",
         "2016-11-25T11:20:06.000+0000",
         "8a4869c4-4545-219f-2c65-fc44f98f3edf",
         "e7b77e8f-b607-3273-aef9-ad1bca48813f",
         "5e4867ba-cd40-310b-bcc8-13320f4a81ed",
         "e03e23c9-4df1-3eb6-a62d-f70f02301496",
         "wellness",
         410620009,
         "Well child visit (procedure)",
         136.8,
         272.8,
         0.0,
         null,
         null,
         "2025-06-16T02:50:02.257+0000",
         "/FileStore/tables/encounters.csv"
        ],
        [
         "d88400c9-90d5-5244-a5e8-beef337c655c",
         "2016-12-05T11:05:06.000+0000",
         "2016-12-05T11:20:06.000+0000",
         "8a4869c4-4545-219f-2c65-fc44f98f3edf",
         "05fcf001-ab24-3d7d-85f7-f64942d82738",
         "40f1fbee-320e-3a02-902f-bb55d650ac67",
         "e03e23c9-4df1-3eb6-a62d-f70f02301496",
         "ambulatory",
         185349003,
         "Encounter for check up (procedure)",
         85.55,
         85.55,
         0.0,
         62106007,
         "Concussion with no loss of consciousness (disorder)",
         "2025-06-16T02:50:02.257+0000",
         "/FileStore/tables/encounters.csv"
        ],
        [
         "b31c0b80-b8bc-8dad-7361-fefb4cf784d3",
         "2017-05-26T11:05:06.000+0000",
         "2017-05-26T11:20:06.000+0000",
         "8a4869c4-4545-219f-2c65-fc44f98f3edf",
         "e7b77e8f-b607-3273-aef9-ad1bca48813f",
         "5e4867ba-cd40-310b-bcc8-13320f4a81ed",
         "e03e23c9-4df1-3eb6-a62d-f70f02301496",
         "wellness",
         410620009,
         "Well child visit (procedure)",
         136.8,
         136.8,
         0.0,
         null,
         null,
         "2025-06-16T02:50:02.257+0000",
         "/FileStore/tables/encounters.csv"
        ]
       ],
       "datasetInfos": [],
       "dbfsResultPath": null,
       "isJsonSchema": true,
       "metadata": {},
       "overflow": false,
       "plotOptions": {
        "customPlotOptions": {},
        "displayType": "table",
        "pivotAggregation": null,
        "pivotColumns": null,
        "xColumns": null,
        "yColumns": null
       },
       "removedWidgets": [],
       "schema": [
        {
         "metadata": "{}",
         "name": "id",
         "type": "\"string\""
        },
        {
         "metadata": "{}",
         "name": "start",
         "type": "\"timestamp\""
        },
        {
         "metadata": "{}",
         "name": "stop",
         "type": "\"timestamp\""
        },
        {
         "metadata": "{}",
         "name": "patient",
         "type": "\"string\""
        },
        {
         "metadata": "{}",
         "name": "organization",
         "type": "\"string\""
        },
        {
         "metadata": "{}",
         "name": "provider",
         "type": "\"string\""
        },
        {
         "metadata": "{}",
         "name": "payer",
         "type": "\"string\""
        },
        {
         "metadata": "{}",
         "name": "encounterclass",
         "type": "\"string\""
        },
        {
         "metadata": "{}",
         "name": "code",
         "type": "\"long\""
        },
        {
         "metadata": "{}",
         "name": "description",
         "type": "\"string\""
        },
        {
         "metadata": "{}",
         "name": "base_encounter_cost",
         "type": "\"double\""
        },
        {
         "metadata": "{}",
         "name": "total_claim_cost",
         "type": "\"double\""
        },
        {
         "metadata": "{}",
         "name": "payer_coverage",
         "type": "\"double\""
        },
        {
         "metadata": "{}",
         "name": "reasoncode",
         "type": "\"long\""
        },
        {
         "metadata": "{}",
         "name": "reasondescription",
         "type": "\"string\""
        },
        {
         "metadata": "{}",
         "name": "ingestion_timestamp",
         "type": "\"timestamp\""
        },
        {
         "metadata": "{}",
         "name": "source_file",
         "type": "\"string\""
        }
       ],
       "type": "table"
      }
     },
     "output_type": "display_data"
    },
    {
     "output_type": "stream",
     "name": "stdout",
     "output_type": "stream",
     "text": [
      "root\n |-- id: string (nullable = true)\n |-- start: timestamp (nullable = true)\n |-- stop: timestamp (nullable = true)\n |-- patient: string (nullable = true)\n |-- organization: string (nullable = true)\n |-- provider: string (nullable = true)\n |-- payer: string (nullable = true)\n |-- encounterclass: string (nullable = true)\n |-- code: long (nullable = true)\n |-- description: string (nullable = true)\n |-- base_encounter_cost: double (nullable = true)\n |-- total_claim_cost: double (nullable = true)\n |-- payer_coverage: double (nullable = true)\n |-- reasoncode: long (nullable = true)\n |-- reasondescription: string (nullable = true)\n |-- ingestion_timestamp: timestamp (nullable = true)\n |-- source_file: string (nullable = true)\n\n"
     ]
    }
   ],
   "source": [
    "silver_enc_df = spark.read.format(\"delta\").load(f\"{silver_base}/encounters\")\n",
    "display(silver_enc_df.limit(10))\n",
    "\n",
    "silver_enc_df.printSchema()"
   ]
  },
  {
   "cell_type": "code",
   "execution_count": 0,
   "metadata": {
    "application/vnd.databricks.v1+cell": {
     "cellMetadata": {
      "byteLimit": 2048000,
      "rowLimit": 10000
     },
     "inputWidgets": {},
     "nuid": "fcc5f9d3-17e5-42dc-9ff6-55d80cf96304",
     "showTitle": false,
     "tableResultSettingsMap": {},
     "title": ""
    }
   },
   "outputs": [
    {
     "output_type": "display_data",
     "data": {
      "text/html": [
       "<style scoped>\n",
       "  .table-result-container {\n",
       "    max-height: 300px;\n",
       "    overflow: auto;\n",
       "  }\n",
       "  table, th, td {\n",
       "    border: 1px solid black;\n",
       "    border-collapse: collapse;\n",
       "  }\n",
       "  th, td {\n",
       "    padding: 5px;\n",
       "  }\n",
       "  th {\n",
       "    text-align: left;\n",
       "  }\n",
       "</style><div class='table-result-container'><table class='table-result'><thead style='background-color: white'><tr><th>id</th><th>birthdate</th><th>deathdate</th><th>ssn</th><th>drivers</th><th>passport</th><th>prefix</th><th>first</th><th>middle</th><th>last</th><th>suffix</th><th>maiden</th><th>marital</th><th>race</th><th>ethnicity</th><th>gender</th><th>birthplace</th><th>address</th><th>city</th><th>state</th><th>county</th><th>fips</th><th>zip</th><th>lat</th><th>lon</th><th>healthcare_expenses</th><th>healthcare_coverage</th><th>income</th><th>ingestion_timestamp</th><th>source_file</th><th>zip_clean</th></tr></thead><tbody><tr><td>0e4068e0-4312-9a70-8f4d-46d1ddb9ae7c</td><td>2021-10-14</td><td>null</td><td>999-38-2519</td><td>null</td><td>null</td><td>null</td><td>Raymundo</td><td>null</td><td>Heidenreich</td><td>null</td><td>null</td><td>null</td><td>white</td><td>nonhispanic</td><td>M</td><td>Pembroke  Massachusetts  US</td><td>420 Considine Junction Apt 72</td><td>Andover</td><td>Massachusetts</td><td>Essex County</td><td>25009</td><td>1810</td><td>42.64495575427654</td><td>-71.13183416887576</td><td>8850.9</td><td>0.0</td><td>466824</td><td>2025-06-16T02:49:34.548+0000</td><td>/FileStore/tables/patients.csv</td><td>01810</td></tr><tr><td>8a4869c4-4545-219f-2c65-fc44f98f3edf</td><td>2013-12-20</td><td>null</td><td>999-94-6872</td><td>null</td><td>null</td><td>null</td><td>Nereida</td><td>null</td><td>Kuhic</td><td>null</td><td>null</td><td>null</td><td>white</td><td>nonhispanic</td><td>F</td><td>Boston  Massachusetts  US</td><td>123 Roob Village Apt 40</td><td>Framingham</td><td>Massachusetts</td><td>Middlesex County</td><td>25017</td><td>1702</td><td>42.24606356195159</td><td>-71.38883115932856</td><td>33253.86</td><td>0.0</td><td>39521</td><td>2025-06-16T02:49:34.548+0000</td><td>/FileStore/tables/patients.csv</td><td>01702</td></tr><tr><td>c0ec9264-5dda-fea6-ddea-edf27c0e846b</td><td>2001-04-04</td><td>null</td><td>999-76-8765</td><td>S99954162</td><td>X49765874X</td><td>Mr.</td><td>Raleigh</td><td>Judson</td><td>Bahringer</td><td>null</td><td>null</td><td>null</td><td>white</td><td>nonhispanic</td><td>M</td><td>Boston  Massachusetts  US</td><td>131 Hammes Center Unit 42</td><td>Westfield</td><td>Massachusetts</td><td>Hampden County</td><td>25013</td><td>1085</td><td>42.093468849128016</td><td>-72.71562215086846</td><td>7914.49</td><td>678786.52</td><td>18695</td><td>2025-06-16T02:49:34.548+0000</td><td>/FileStore/tables/patients.csv</td><td>01085</td></tr><tr><td>44efb83f-e2f9-d51f-4c9c-f246c94a6836</td><td>2007-04-22</td><td>null</td><td>999-95-2157</td><td>S99940739</td><td>null</td><td>Ms.</td><td>Aileen</td><td>Jo</td><td>Kshlerin</td><td>null</td><td>null</td><td>null</td><td>white</td><td>nonhispanic</td><td>F</td><td>Arlington  Massachusetts  US</td><td>1039 Welch Wall Suite 24</td><td>Hanson</td><td>Massachusetts</td><td>Plymouth County</td><td>25023</td><td>2341</td><td>42.04757746473025</td><td>-70.83745414282974</td><td>47809.73</td><td>126196.68</td><td>169528</td><td>2025-06-16T02:49:34.548+0000</td><td>/FileStore/tables/patients.csv</td><td>02341</td></tr><tr><td>4d14f82e-4161-579c-0229-4be23711676b</td><td>2010-07-07</td><td>null</td><td>999-11-2103</td><td>null</td><td>null</td><td>null</td><td>Benton</td><td>Man</td><td>Gibson</td><td>null</td><td>null</td><td>null</td><td>asian</td><td>hispanic</td><td>M</td><td>Stoughton  Massachusetts  US</td><td>336 Crona Extension Apt 15</td><td>Lowell</td><td>Massachusetts</td><td>Middlesex County</td><td>25017</td><td>1852</td><td>42.69448876805488</td><td>-71.30703702120817</td><td>49504.87</td><td>1558.4</td><td>534744</td><td>2025-06-16T02:49:34.548+0000</td><td>/FileStore/tables/patients.csv</td><td>01852</td></tr><tr><td>9e8bdf4c-12c3-d7ed-7aa6-93ac1a9d8aba</td><td>1974-05-16</td><td>null</td><td>999-15-2255</td><td>S99918620</td><td>X5436800X</td><td>Mrs.</td><td>Ciera</td><td>Chandra</td><td>Rau</td><td>null</td><td>Runolfsson</td><td>M</td><td>white</td><td>nonhispanic</td><td>F</td><td>Boston  Massachusetts  US</td><td>295 Schumm Avenue Unit 81</td><td>Concord</td><td>Massachusetts</td><td>Middlesex County</td><td>null</td><td>0</td><td>42.42278423424035</td><td>-71.35563481371928</td><td>812193.47</td><td>95005.26</td><td>83939</td><td>2025-06-16T02:49:34.548+0000</td><td>/FileStore/tables/patients.csv</td><td>00000</td></tr><tr><td>347be68f-7625-f7cd-1171-a0031767dfe8</td><td>1964-01-19</td><td>null</td><td>999-60-3550</td><td>S99938509</td><td>X60693692X</td><td>Ms.</td><td>Na</td><td>Ivette</td><td>Wisoky</td><td>null</td><td>null</td><td>S</td><td>white</td><td>nonhispanic</td><td>F</td><td>Barnstable  Massachusetts  US</td><td>395 Wintheiser Fork</td><td>Palmer</td><td>Massachusetts</td><td>Hampden County</td><td>25013</td><td>1009</td><td>42.17226735420984</td><td>-72.29717698800074</td><td>774948.39</td><td>281585.66</td><td>60987</td><td>2025-06-16T02:49:34.548+0000</td><td>/FileStore/tables/patients.csv</td><td>01009</td></tr><tr><td>eeb5567d-5663-1ba9-b028-32c50a6fb5ba</td><td>1962-04-14</td><td>1997-05-26</td><td>999-68-1934</td><td>S99964118</td><td>X28983285X</td><td>Mr.</td><td>Alejandro</td><td>Vincent</td><td>Barton</td><td>null</td><td>null</td><td>M</td><td>white</td><td>nonhispanic</td><td>M</td><td>West Concord  Massachusetts  US</td><td>300 Adams Well</td><td>Fall River</td><td>Massachusetts</td><td>Bristol County</td><td>25005</td><td>2723</td><td>41.629837233869424</td><td>-71.19027877578944</td><td>52836.71</td><td>126104.55</td><td>301</td><td>2025-06-16T02:49:34.548+0000</td><td>/FileStore/tables/patients.csv</td><td>02723</td></tr><tr><td>24746653-4b85-e66c-bfbe-b7f7e936e06d</td><td>2003-05-14</td><td>null</td><td>999-36-9949</td><td>S99955117</td><td>X27536353X</td><td>Mr.</td><td>Lyndon</td><td>null</td><td>Schulist</td><td>null</td><td>null</td><td>null</td><td>white</td><td>nonhispanic</td><td>M</td><td>Quincy  Massachusetts  US</td><td>307 Bahringer Underpass Apt 43</td><td>Chicopee</td><td>Massachusetts</td><td>Hampden County</td><td>25013</td><td>1020</td><td>42.133299812845074</td><td>-72.5481968912779</td><td>37442.28</td><td>25155.05</td><td>107830</td><td>2025-06-16T02:49:34.548+0000</td><td>/FileStore/tables/patients.csv</td><td>01020</td></tr><tr><td>bff652a6-0d09-2c89-2642-976aad2ca872</td><td>1964-03-14</td><td>null</td><td>999-69-6955</td><td>S99969654</td><td>X70893291X</td><td>Mrs.</td><td>Ema</td><td>Georgetta</td><td>Pollich</td><td>null</td><td>Reynolds</td><td>D</td><td>white</td><td>nonhispanic</td><td>F</td><td>Framingham  Massachusetts  US</td><td>708 Waters Rue</td><td>New Bedford</td><td>Massachusetts</td><td>Bristol County</td><td>25005</td><td>2743</td><td>41.76299959526842</td><td>-70.85718820215224</td><td>1040250.98</td><td>254657.62</td><td>112624</td><td>2025-06-16T02:49:34.548+0000</td><td>/FileStore/tables/patients.csv</td><td>02743</td></tr></tbody></table></div>"
      ]
     },
     "metadata": {
      "application/vnd.databricks.v1+output": {
       "addedWidgets": {},
       "aggData": [],
       "aggError": "",
       "aggOverflow": false,
       "aggSchema": [],
       "aggSeriesLimitReached": false,
       "aggType": "",
       "arguments": {},
       "columnCustomDisplayInfos": {},
       "data": [
        [
         "0e4068e0-4312-9a70-8f4d-46d1ddb9ae7c",
         "2021-10-14",
         null,
         "999-38-2519",
         null,
         null,
         null,
         "Raymundo",
         null,
         "Heidenreich",
         null,
         null,
         null,
         "white",
         "nonhispanic",
         "M",
         "Pembroke  Massachusetts  US",
         "420 Considine Junction Apt 72",
         "Andover",
         "Massachusetts",
         "Essex County",
         25009,
         1810,
         42.64495575427654,
         -71.13183416887576,
         8850.9,
         0.0,
         466824,
         "2025-06-16T02:49:34.548+0000",
         "/FileStore/tables/patients.csv",
         "01810"
        ],
        [
         "8a4869c4-4545-219f-2c65-fc44f98f3edf",
         "2013-12-20",
         null,
         "999-94-6872",
         null,
         null,
         null,
         "Nereida",
         null,
         "Kuhic",
         null,
         null,
         null,
         "white",
         "nonhispanic",
         "F",
         "Boston  Massachusetts  US",
         "123 Roob Village Apt 40",
         "Framingham",
         "Massachusetts",
         "Middlesex County",
         25017,
         1702,
         42.24606356195159,
         -71.38883115932856,
         33253.86,
         0.0,
         39521,
         "2025-06-16T02:49:34.548+0000",
         "/FileStore/tables/patients.csv",
         "01702"
        ],
        [
         "c0ec9264-5dda-fea6-ddea-edf27c0e846b",
         "2001-04-04",
         null,
         "999-76-8765",
         "S99954162",
         "X49765874X",
         "Mr.",
         "Raleigh",
         "Judson",
         "Bahringer",
         null,
         null,
         null,
         "white",
         "nonhispanic",
         "M",
         "Boston  Massachusetts  US",
         "131 Hammes Center Unit 42",
         "Westfield",
         "Massachusetts",
         "Hampden County",
         25013,
         1085,
         42.093468849128016,
         -72.71562215086846,
         7914.49,
         678786.52,
         18695,
         "2025-06-16T02:49:34.548+0000",
         "/FileStore/tables/patients.csv",
         "01085"
        ],
        [
         "44efb83f-e2f9-d51f-4c9c-f246c94a6836",
         "2007-04-22",
         null,
         "999-95-2157",
         "S99940739",
         null,
         "Ms.",
         "Aileen",
         "Jo",
         "Kshlerin",
         null,
         null,
         null,
         "white",
         "nonhispanic",
         "F",
         "Arlington  Massachusetts  US",
         "1039 Welch Wall Suite 24",
         "Hanson",
         "Massachusetts",
         "Plymouth County",
         25023,
         2341,
         42.04757746473025,
         -70.83745414282974,
         47809.73,
         126196.68,
         169528,
         "2025-06-16T02:49:34.548+0000",
         "/FileStore/tables/patients.csv",
         "02341"
        ],
        [
         "4d14f82e-4161-579c-0229-4be23711676b",
         "2010-07-07",
         null,
         "999-11-2103",
         null,
         null,
         null,
         "Benton",
         "Man",
         "Gibson",
         null,
         null,
         null,
         "asian",
         "hispanic",
         "M",
         "Stoughton  Massachusetts  US",
         "336 Crona Extension Apt 15",
         "Lowell",
         "Massachusetts",
         "Middlesex County",
         25017,
         1852,
         42.69448876805488,
         -71.30703702120817,
         49504.87,
         1558.4,
         534744,
         "2025-06-16T02:49:34.548+0000",
         "/FileStore/tables/patients.csv",
         "01852"
        ],
        [
         "9e8bdf4c-12c3-d7ed-7aa6-93ac1a9d8aba",
         "1974-05-16",
         null,
         "999-15-2255",
         "S99918620",
         "X5436800X",
         "Mrs.",
         "Ciera",
         "Chandra",
         "Rau",
         null,
         "Runolfsson",
         "M",
         "white",
         "nonhispanic",
         "F",
         "Boston  Massachusetts  US",
         "295 Schumm Avenue Unit 81",
         "Concord",
         "Massachusetts",
         "Middlesex County",
         null,
         0,
         42.42278423424035,
         -71.35563481371928,
         812193.47,
         95005.26,
         83939,
         "2025-06-16T02:49:34.548+0000",
         "/FileStore/tables/patients.csv",
         "00000"
        ],
        [
         "347be68f-7625-f7cd-1171-a0031767dfe8",
         "1964-01-19",
         null,
         "999-60-3550",
         "S99938509",
         "X60693692X",
         "Ms.",
         "Na",
         "Ivette",
         "Wisoky",
         null,
         null,
         "S",
         "white",
         "nonhispanic",
         "F",
         "Barnstable  Massachusetts  US",
         "395 Wintheiser Fork",
         "Palmer",
         "Massachusetts",
         "Hampden County",
         25013,
         1009,
         42.17226735420984,
         -72.29717698800074,
         774948.39,
         281585.66,
         60987,
         "2025-06-16T02:49:34.548+0000",
         "/FileStore/tables/patients.csv",
         "01009"
        ],
        [
         "eeb5567d-5663-1ba9-b028-32c50a6fb5ba",
         "1962-04-14",
         "1997-05-26",
         "999-68-1934",
         "S99964118",
         "X28983285X",
         "Mr.",
         "Alejandro",
         "Vincent",
         "Barton",
         null,
         null,
         "M",
         "white",
         "nonhispanic",
         "M",
         "West Concord  Massachusetts  US",
         "300 Adams Well",
         "Fall River",
         "Massachusetts",
         "Bristol County",
         25005,
         2723,
         41.629837233869424,
         -71.19027877578944,
         52836.71,
         126104.55,
         301,
         "2025-06-16T02:49:34.548+0000",
         "/FileStore/tables/patients.csv",
         "02723"
        ],
        [
         "24746653-4b85-e66c-bfbe-b7f7e936e06d",
         "2003-05-14",
         null,
         "999-36-9949",
         "S99955117",
         "X27536353X",
         "Mr.",
         "Lyndon",
         null,
         "Schulist",
         null,
         null,
         null,
         "white",
         "nonhispanic",
         "M",
         "Quincy  Massachusetts  US",
         "307 Bahringer Underpass Apt 43",
         "Chicopee",
         "Massachusetts",
         "Hampden County",
         25013,
         1020,
         42.133299812845074,
         -72.5481968912779,
         37442.28,
         25155.05,
         107830,
         "2025-06-16T02:49:34.548+0000",
         "/FileStore/tables/patients.csv",
         "01020"
        ],
        [
         "bff652a6-0d09-2c89-2642-976aad2ca872",
         "1964-03-14",
         null,
         "999-69-6955",
         "S99969654",
         "X70893291X",
         "Mrs.",
         "Ema",
         "Georgetta",
         "Pollich",
         null,
         "Reynolds",
         "D",
         "white",
         "nonhispanic",
         "F",
         "Framingham  Massachusetts  US",
         "708 Waters Rue",
         "New Bedford",
         "Massachusetts",
         "Bristol County",
         25005,
         2743,
         41.76299959526842,
         -70.85718820215224,
         1040250.98,
         254657.62,
         112624,
         "2025-06-16T02:49:34.548+0000",
         "/FileStore/tables/patients.csv",
         "02743"
        ]
       ],
       "datasetInfos": [],
       "dbfsResultPath": null,
       "isJsonSchema": true,
       "metadata": {},
       "overflow": false,
       "plotOptions": {
        "customPlotOptions": {},
        "displayType": "table",
        "pivotAggregation": null,
        "pivotColumns": null,
        "xColumns": null,
        "yColumns": null
       },
       "removedWidgets": [],
       "schema": [
        {
         "metadata": "{}",
         "name": "id",
         "type": "\"string\""
        },
        {
         "metadata": "{}",
         "name": "birthdate",
         "type": "\"date\""
        },
        {
         "metadata": "{}",
         "name": "deathdate",
         "type": "\"date\""
        },
        {
         "metadata": "{}",
         "name": "ssn",
         "type": "\"string\""
        },
        {
         "metadata": "{}",
         "name": "drivers",
         "type": "\"string\""
        },
        {
         "metadata": "{}",
         "name": "passport",
         "type": "\"string\""
        },
        {
         "metadata": "{}",
         "name": "prefix",
         "type": "\"string\""
        },
        {
         "metadata": "{}",
         "name": "first",
         "type": "\"string\""
        },
        {
         "metadata": "{}",
         "name": "middle",
         "type": "\"string\""
        },
        {
         "metadata": "{}",
         "name": "last",
         "type": "\"string\""
        },
        {
         "metadata": "{}",
         "name": "suffix",
         "type": "\"string\""
        },
        {
         "metadata": "{}",
         "name": "maiden",
         "type": "\"string\""
        },
        {
         "metadata": "{}",
         "name": "marital",
         "type": "\"string\""
        },
        {
         "metadata": "{}",
         "name": "race",
         "type": "\"string\""
        },
        {
         "metadata": "{}",
         "name": "ethnicity",
         "type": "\"string\""
        },
        {
         "metadata": "{}",
         "name": "gender",
         "type": "\"string\""
        },
        {
         "metadata": "{}",
         "name": "birthplace",
         "type": "\"string\""
        },
        {
         "metadata": "{}",
         "name": "address",
         "type": "\"string\""
        },
        {
         "metadata": "{}",
         "name": "city",
         "type": "\"string\""
        },
        {
         "metadata": "{}",
         "name": "state",
         "type": "\"string\""
        },
        {
         "metadata": "{}",
         "name": "county",
         "type": "\"string\""
        },
        {
         "metadata": "{}",
         "name": "fips",
         "type": "\"integer\""
        },
        {
         "metadata": "{}",
         "name": "zip",
         "type": "\"integer\""
        },
        {
         "metadata": "{}",
         "name": "lat",
         "type": "\"double\""
        },
        {
         "metadata": "{}",
         "name": "lon",
         "type": "\"double\""
        },
        {
         "metadata": "{}",
         "name": "healthcare_expenses",
         "type": "\"double\""
        },
        {
         "metadata": "{}",
         "name": "healthcare_coverage",
         "type": "\"double\""
        },
        {
         "metadata": "{}",
         "name": "income",
         "type": "\"integer\""
        },
        {
         "metadata": "{}",
         "name": "ingestion_timestamp",
         "type": "\"timestamp\""
        },
        {
         "metadata": "{}",
         "name": "source_file",
         "type": "\"string\""
        },
        {
         "metadata": "{}",
         "name": "zip_clean",
         "type": "\"string\""
        }
       ],
       "type": "table"
      }
     },
     "output_type": "display_data"
    },
    {
     "output_type": "stream",
     "name": "stdout",
     "output_type": "stream",
     "text": [
      "root\n |-- id: string (nullable = true)\n |-- birthdate: date (nullable = true)\n |-- deathdate: date (nullable = true)\n |-- ssn: string (nullable = true)\n |-- drivers: string (nullable = true)\n |-- passport: string (nullable = true)\n |-- prefix: string (nullable = true)\n |-- first: string (nullable = true)\n |-- middle: string (nullable = true)\n |-- last: string (nullable = true)\n |-- suffix: string (nullable = true)\n |-- maiden: string (nullable = true)\n |-- marital: string (nullable = true)\n |-- race: string (nullable = true)\n |-- ethnicity: string (nullable = true)\n |-- gender: string (nullable = true)\n |-- birthplace: string (nullable = true)\n |-- address: string (nullable = true)\n |-- city: string (nullable = true)\n |-- state: string (nullable = true)\n |-- county: string (nullable = true)\n |-- fips: integer (nullable = true)\n |-- zip: integer (nullable = true)\n |-- lat: double (nullable = true)\n |-- lon: double (nullable = true)\n |-- healthcare_expenses: double (nullable = true)\n |-- healthcare_coverage: double (nullable = true)\n |-- income: integer (nullable = true)\n |-- ingestion_timestamp: timestamp (nullable = true)\n |-- source_file: string (nullable = true)\n |-- zip_clean: string (nullable = true)\n\n"
     ]
    }
   ],
   "source": [
    "silver_pt_df = spark.read.format(\"delta\").load(f\"{silver_base}/patients\")\n",
    "display(silver_pt_df.limit(10))\n",
    "\n",
    "silver_pt_df.printSchema()"
   ]
  },
  {
   "cell_type": "code",
   "execution_count": 0,
   "metadata": {
    "application/vnd.databricks.v1+cell": {
     "cellMetadata": {
      "byteLimit": 2048000,
      "rowLimit": 10000
     },
     "inputWidgets": {},
     "nuid": "9cd75a93-2d84-4d91-8c71-39d54a969ec2",
     "showTitle": false,
     "tableResultSettingsMap": {},
     "title": ""
    }
   },
   "outputs": [
    {
     "output_type": "display_data",
     "data": {
      "text/html": [
       "<style scoped>\n",
       "  .table-result-container {\n",
       "    max-height: 300px;\n",
       "    overflow: auto;\n",
       "  }\n",
       "  table, th, td {\n",
       "    border: 1px solid black;\n",
       "    border-collapse: collapse;\n",
       "  }\n",
       "  th, td {\n",
       "    padding: 5px;\n",
       "  }\n",
       "  th {\n",
       "    text-align: left;\n",
       "  }\n",
       "</style><div class='table-result-container'><table class='table-result'><thead style='background-color: white'><tr><th>id</th><th>organization</th><th>name</th><th>gender</th><th>speciality</th><th>address</th><th>city</th><th>state</th><th>zip</th><th>lat</th><th>lon</th><th>encounters</th><th>procedures</th><th>ingestion_timestamp</th><th>source_file</th><th>zip_clean</th></tr></thead><tbody><tr><td>b4fddf7d-8270-3555-8b5e-0b2ebeeb522f</td><td>74ab949d-17ac-3309-83a0-13b4405c66aa</td><td>Ted Reilly</td><td>M</td><td>GENERAL PRACTICE</td><td>881 Main Street</td><td>Fitchburg</td><td>MA</td><td>1420</td><td>42.586487</td><td>-71.80521</td><td>5687</td><td>0</td><td>2025-06-16T02:50:21.619+0000</td><td>/FileStore/tables/providers.csv</td><td>01420</td></tr><tr><td>a62208fe-9bf8-3a29-82ad-2b9c40c2c87a</td><td>588f6ce6-b8db-3588-8189-29db2680a313</td><td>Tiffaney Brakus</td><td>F</td><td>GENERAL PRACTICE</td><td>461 WALNUT AVE</td><td>JAMAICA PLAIN</td><td>MA</td><td>21302331</td><td>42.311587599999996</td><td>-71.09800136347226</td><td>161</td><td>0</td><td>2025-06-16T02:50:21.619+0000</td><td>/FileStore/tables/providers.csv</td><td>21302</td></tr><tr><td>ecbbed09-e689-3f52-9f9e-a15ad70518a7</td><td>b6398e07-4967-31a5-807f-380039a1f303</td><td>Aleen Lueilwitz</td><td>F</td><td>GENERAL PRACTICE</td><td>19 TACOMA ST</td><td>WORCESTER</td><td>MA</td><td>16053516</td><td>42.30230485</td><td>-71.76614692511056</td><td>94</td><td>0</td><td>2025-06-16T02:50:21.619+0000</td><td>/FileStore/tables/providers.csv</td><td>16053</td></tr><tr><td>32b5d003-3d81-3b92-9981-8b7847ede274</td><td>faffaf6a-ee1a-3673-b0b0-421a9c249244</td><td>Gustavo Armstrong</td><td>M</td><td>GENERAL PRACTICE</td><td>66 WASHINGTON ST</td><td>STOUGHTON</td><td>MA</td><td>20722571</td><td>42.14415820061801</td><td>-71.10378319512402</td><td>372</td><td>0</td><td>2025-06-16T02:50:21.619+0000</td><td>/FileStore/tables/providers.csv</td><td>20722</td></tr><tr><td>070a18e5-869b-3232-8113-8ba49be6f77b</td><td>17a4bae5-8b64-34d7-8144-b428be027bd0</td><td>Olympia Ward</td><td>F</td><td>GENERAL PRACTICE</td><td>512 MAIN STREET  SUITE 211</td><td>SHREWSBURY</td><td>MA</td><td>15456406</td><td>42.295109499999995</td><td>-71.71808471110307</td><td>86</td><td>0</td><td>2025-06-16T02:50:21.619+0000</td><td>/FileStore/tables/providers.csv</td><td>15456</td></tr><tr><td>4c4ffa32-f352-3dfb-8a2c-0c95be7a4872</td><td>4112b8b1-59df-3255-a7ca-f42ee0a4cb2e</td><td>Ambrose Feeney</td><td>M</td><td>GENERAL PRACTICE</td><td>37 ROUTE 6A</td><td>SANDWICH</td><td>MA</td><td>25631801</td><td>41.766329400000004</td><td>-70.5147600346998</td><td>11</td><td>0</td><td>2025-06-16T02:50:21.619+0000</td><td>/FileStore/tables/providers.csv</td><td>25631</td></tr><tr><td>019d7b1f-8b17-3b65-bf49-8a12bd95835e</td><td>e09d4c49-c2ef-3b0f-9a46-3719d9219306</td><td>Ronald Emard</td><td>F</td><td>GENERAL PRACTICE</td><td>60 HOSPITAL RD</td><td>LEOMINSTER</td><td>MA</td><td>14533290</td><td>42.54031915</td><td>-71.76312990486304</td><td>7508</td><td>0</td><td>2025-06-16T02:50:21.619+0000</td><td>/FileStore/tables/providers.csv</td><td>14533</td></tr><tr><td>d4a0701b-e6be-39b6-a5fc-b41eb2451061</td><td>e76b5eb0-0c9d-3593-b5da-3c0e9a97bb96</td><td>Gisele Lehner</td><td>F</td><td>GENERAL PRACTICE</td><td>1400 VFW Parkway</td><td>West Roxbury</td><td>MA</td><td>2132</td><td>42.2793</td><td>-71.1657</td><td>953</td><td>0</td><td>2025-06-16T02:50:21.619+0000</td><td>/FileStore/tables/providers.csv</td><td>02132</td></tr><tr><td>6eff0a54-349a-3125-8447-f1aa434fabda</td><td>c241b977-4131-32e4-9957-e0a00b2a1e5f</td><td>Brittanie Krajcik</td><td>F</td><td>GENERAL PRACTICE</td><td>94 MAIN STREET</td><td>HYANNIS</td><td>MA</td><td>26013146</td><td>41.6562802</td><td>-70.27448000204822</td><td>163</td><td>0</td><td>2025-06-16T02:50:21.619+0000</td><td>/FileStore/tables/providers.csv</td><td>26013</td></tr><tr><td>aa4ffaf5-9b5f-3c08-8781-234a82ea41a4</td><td>e33fbb39-3d48-356e-b719-6942a94c09d9</td><td>Jerrod Harris</td><td>M</td><td>GENERAL PRACTICE</td><td>512 MAIN ST</td><td>HOLDEN</td><td>MA</td><td>15202039</td><td>42.33457565</td><td>-71.83651795564862</td><td>7</td><td>0</td><td>2025-06-16T02:50:21.619+0000</td><td>/FileStore/tables/providers.csv</td><td>15202</td></tr></tbody></table></div>"
      ]
     },
     "metadata": {
      "application/vnd.databricks.v1+output": {
       "addedWidgets": {},
       "aggData": [],
       "aggError": "",
       "aggOverflow": false,
       "aggSchema": [],
       "aggSeriesLimitReached": false,
       "aggType": "",
       "arguments": {},
       "columnCustomDisplayInfos": {},
       "data": [
        [
         "b4fddf7d-8270-3555-8b5e-0b2ebeeb522f",
         "74ab949d-17ac-3309-83a0-13b4405c66aa",
         "Ted Reilly",
         "M",
         "GENERAL PRACTICE",
         "881 Main Street",
         "Fitchburg",
         "MA",
         1420,
         42.586487,
         -71.80521,
         5687,
         0,
         "2025-06-16T02:50:21.619+0000",
         "/FileStore/tables/providers.csv",
         "01420"
        ],
        [
         "a62208fe-9bf8-3a29-82ad-2b9c40c2c87a",
         "588f6ce6-b8db-3588-8189-29db2680a313",
         "Tiffaney Brakus",
         "F",
         "GENERAL PRACTICE",
         "461 WALNUT AVE",
         "JAMAICA PLAIN",
         "MA",
         21302331,
         42.311587599999996,
         -71.09800136347226,
         161,
         0,
         "2025-06-16T02:50:21.619+0000",
         "/FileStore/tables/providers.csv",
         "21302"
        ],
        [
         "ecbbed09-e689-3f52-9f9e-a15ad70518a7",
         "b6398e07-4967-31a5-807f-380039a1f303",
         "Aleen Lueilwitz",
         "F",
         "GENERAL PRACTICE",
         "19 TACOMA ST",
         "WORCESTER",
         "MA",
         16053516,
         42.30230485,
         -71.76614692511056,
         94,
         0,
         "2025-06-16T02:50:21.619+0000",
         "/FileStore/tables/providers.csv",
         "16053"
        ],
        [
         "32b5d003-3d81-3b92-9981-8b7847ede274",
         "faffaf6a-ee1a-3673-b0b0-421a9c249244",
         "Gustavo Armstrong",
         "M",
         "GENERAL PRACTICE",
         "66 WASHINGTON ST",
         "STOUGHTON",
         "MA",
         20722571,
         42.14415820061801,
         -71.10378319512402,
         372,
         0,
         "2025-06-16T02:50:21.619+0000",
         "/FileStore/tables/providers.csv",
         "20722"
        ],
        [
         "070a18e5-869b-3232-8113-8ba49be6f77b",
         "17a4bae5-8b64-34d7-8144-b428be027bd0",
         "Olympia Ward",
         "F",
         "GENERAL PRACTICE",
         "512 MAIN STREET  SUITE 211",
         "SHREWSBURY",
         "MA",
         15456406,
         42.295109499999995,
         -71.71808471110307,
         86,
         0,
         "2025-06-16T02:50:21.619+0000",
         "/FileStore/tables/providers.csv",
         "15456"
        ],
        [
         "4c4ffa32-f352-3dfb-8a2c-0c95be7a4872",
         "4112b8b1-59df-3255-a7ca-f42ee0a4cb2e",
         "Ambrose Feeney",
         "M",
         "GENERAL PRACTICE",
         "37 ROUTE 6A",
         "SANDWICH",
         "MA",
         25631801,
         41.766329400000004,
         -70.5147600346998,
         11,
         0,
         "2025-06-16T02:50:21.619+0000",
         "/FileStore/tables/providers.csv",
         "25631"
        ],
        [
         "019d7b1f-8b17-3b65-bf49-8a12bd95835e",
         "e09d4c49-c2ef-3b0f-9a46-3719d9219306",
         "Ronald Emard",
         "F",
         "GENERAL PRACTICE",
         "60 HOSPITAL RD",
         "LEOMINSTER",
         "MA",
         14533290,
         42.54031915,
         -71.76312990486304,
         7508,
         0,
         "2025-06-16T02:50:21.619+0000",
         "/FileStore/tables/providers.csv",
         "14533"
        ],
        [
         "d4a0701b-e6be-39b6-a5fc-b41eb2451061",
         "e76b5eb0-0c9d-3593-b5da-3c0e9a97bb96",
         "Gisele Lehner",
         "F",
         "GENERAL PRACTICE",
         "1400 VFW Parkway",
         "West Roxbury",
         "MA",
         2132,
         42.2793,
         -71.1657,
         953,
         0,
         "2025-06-16T02:50:21.619+0000",
         "/FileStore/tables/providers.csv",
         "02132"
        ],
        [
         "6eff0a54-349a-3125-8447-f1aa434fabda",
         "c241b977-4131-32e4-9957-e0a00b2a1e5f",
         "Brittanie Krajcik",
         "F",
         "GENERAL PRACTICE",
         "94 MAIN STREET",
         "HYANNIS",
         "MA",
         26013146,
         41.6562802,
         -70.27448000204822,
         163,
         0,
         "2025-06-16T02:50:21.619+0000",
         "/FileStore/tables/providers.csv",
         "26013"
        ],
        [
         "aa4ffaf5-9b5f-3c08-8781-234a82ea41a4",
         "e33fbb39-3d48-356e-b719-6942a94c09d9",
         "Jerrod Harris",
         "M",
         "GENERAL PRACTICE",
         "512 MAIN ST",
         "HOLDEN",
         "MA",
         15202039,
         42.33457565,
         -71.83651795564862,
         7,
         0,
         "2025-06-16T02:50:21.619+0000",
         "/FileStore/tables/providers.csv",
         "15202"
        ]
       ],
       "datasetInfos": [],
       "dbfsResultPath": null,
       "isJsonSchema": true,
       "metadata": {},
       "overflow": false,
       "plotOptions": {
        "customPlotOptions": {},
        "displayType": "table",
        "pivotAggregation": null,
        "pivotColumns": null,
        "xColumns": null,
        "yColumns": null
       },
       "removedWidgets": [],
       "schema": [
        {
         "metadata": "{}",
         "name": "id",
         "type": "\"string\""
        },
        {
         "metadata": "{}",
         "name": "organization",
         "type": "\"string\""
        },
        {
         "metadata": "{}",
         "name": "name",
         "type": "\"string\""
        },
        {
         "metadata": "{}",
         "name": "gender",
         "type": "\"string\""
        },
        {
         "metadata": "{}",
         "name": "speciality",
         "type": "\"string\""
        },
        {
         "metadata": "{}",
         "name": "address",
         "type": "\"string\""
        },
        {
         "metadata": "{}",
         "name": "city",
         "type": "\"string\""
        },
        {
         "metadata": "{}",
         "name": "state",
         "type": "\"string\""
        },
        {
         "metadata": "{}",
         "name": "zip",
         "type": "\"integer\""
        },
        {
         "metadata": "{}",
         "name": "lat",
         "type": "\"double\""
        },
        {
         "metadata": "{}",
         "name": "lon",
         "type": "\"double\""
        },
        {
         "metadata": "{}",
         "name": "encounters",
         "type": "\"integer\""
        },
        {
         "metadata": "{}",
         "name": "procedures",
         "type": "\"integer\""
        },
        {
         "metadata": "{}",
         "name": "ingestion_timestamp",
         "type": "\"timestamp\""
        },
        {
         "metadata": "{}",
         "name": "source_file",
         "type": "\"string\""
        },
        {
         "metadata": "{}",
         "name": "zip_clean",
         "type": "\"string\""
        }
       ],
       "type": "table"
      }
     },
     "output_type": "display_data"
    },
    {
     "output_type": "stream",
     "name": "stdout",
     "output_type": "stream",
     "text": [
      "root\n |-- id: string (nullable = true)\n |-- organization: string (nullable = true)\n |-- name: string (nullable = true)\n |-- gender: string (nullable = true)\n |-- speciality: string (nullable = true)\n |-- address: string (nullable = true)\n |-- city: string (nullable = true)\n |-- state: string (nullable = true)\n |-- zip: integer (nullable = true)\n |-- lat: double (nullable = true)\n |-- lon: double (nullable = true)\n |-- encounters: integer (nullable = true)\n |-- procedures: integer (nullable = true)\n |-- ingestion_timestamp: timestamp (nullable = true)\n |-- source_file: string (nullable = true)\n |-- zip_clean: string (nullable = true)\n\n"
     ]
    }
   ],
   "source": [
    "silver_prv_df = spark.read.format(\"delta\").load(f\"{silver_base}/providers\")\n",
    "display(silver_prv_df.limit(10))\n",
    "\n",
    "silver_prv_df.printSchema()"
   ]
  },
  {
   "cell_type": "code",
   "execution_count": 0,
   "metadata": {
    "application/vnd.databricks.v1+cell": {
     "cellMetadata": {
      "byteLimit": 2048000,
      "rowLimit": 10000
     },
     "inputWidgets": {},
     "nuid": "22f7d9c1-4933-4fb4-b786-7a1517b105f8",
     "showTitle": false,
     "tableResultSettingsMap": {},
     "title": ""
    }
   },
   "outputs": [],
   "source": []
  }
 ],
 "metadata": {
  "application/vnd.databricks.v1+notebook": {
   "computePreferences": null,
   "dashboards": [],
   "environmentMetadata": {
    "base_environment": "",
    "environment_version": "1"
   },
   "inputWidgetPreferences": null,
   "language": "python",
   "notebookMetadata": {
    "pythonIndentUnit": 4
   },
   "notebookName": "synthea_gold_transform",
   "widgets": {
    "gold_base_path": {
     "currentValue": "/FileStore/gold",
     "nuid": "f94cd55a-b1ad-4c47-8f17-5d3bf0a405f0",
     "typedWidgetInfo": {
      "autoCreated": false,
      "defaultValue": "/FileStore/gold",
      "label": null,
      "name": "gold_base_path",
      "options": {
       "widgetDisplayType": "Text",
       "validationRegex": null
      },
      "parameterDataType": "String"
     },
     "widgetInfo": {
      "widgetType": "text",
      "defaultValue": "/FileStore/gold",
      "label": null,
      "name": "gold_base_path",
      "options": {
       "widgetType": "text",
       "autoCreated": null,
       "validationRegex": null
      }
     }
    },
    "silver_base_path": {
     "currentValue": "/FileStore/silver",
     "nuid": "d60e2843-8289-4f43-a7a5-babb8ec09c2a",
     "typedWidgetInfo": {
      "autoCreated": false,
      "defaultValue": "/FileStore/silver",
      "label": null,
      "name": "silver_base_path",
      "options": {
       "widgetDisplayType": "Text",
       "validationRegex": null
      },
      "parameterDataType": "String"
     },
     "widgetInfo": {
      "widgetType": "text",
      "defaultValue": "/FileStore/silver",
      "label": null,
      "name": "silver_base_path",
      "options": {
       "widgetType": "text",
       "autoCreated": null,
       "validationRegex": null
      }
     }
    }
   }
  }
 },
 "nbformat": 4,
 "nbformat_minor": 0
}