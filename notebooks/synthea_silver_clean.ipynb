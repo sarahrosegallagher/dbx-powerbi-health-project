{
 "cells": [
  {
   "cell_type": "code",
   "execution_count": 0,
   "metadata": {
    "application/vnd.databricks.v1+cell": {
     "cellMetadata": {
      "byteLimit": 2048000,
      "rowLimit": 10000
     },
     "inputWidgets": {},
     "nuid": "2c3d8b8b-83d9-43b7-8bbe-fa7d8fe0b851",
     "showTitle": false,
     "tableResultSettingsMap": {},
     "title": ""
    }
   },
   "outputs": [],
   "source": [
    "# Imports\n",
    "from pyspark.sql.types import *\n",
    "from pyspark.sql.functions import (\n",
    "    col,\n",
    "    length,\n",
    "    trim,\n",
    "    regexp_replace,\n",
    "    regexp_extract,\n",
    "    to_date,\n",
    "    to_timestamp,\n",
    "    when,\n",
    "    lpad\n",
    ")\n",
    "from pyspark.sql import DataFrame\n"
   ]
  },
  {
   "cell_type": "code",
   "execution_count": 0,
   "metadata": {
    "application/vnd.databricks.v1+cell": {
     "cellMetadata": {
      "byteLimit": 2048000,
      "rowLimit": 10000
     },
     "inputWidgets": {},
     "nuid": "f0aa124a-7d2e-4838-8b57-6cda01241637",
     "showTitle": false,
     "tableResultSettingsMap": {},
     "title": ""
    }
   },
   "outputs": [],
   "source": [
    "# Set widgets for use in a Databricks job\n",
    "dbutils.widgets.text(\"source\", \"\")  # Leave blank for manual multi-table mode\n",
    "dbutils.widgets.text(\"bronze_base_path\", \"/FileStore/bronze\")\n",
    "dbutils.widgets.text(\"silver_base_path\", \"/FileStore/silver\")\n",
    "\n",
    "# Retrieve widget values\n",
    "source = dbutils.widgets.get(\"source\")\n",
    "bronze_base_path = dbutils.widgets.get(\"bronze_base_path\")\n",
    "silver_base_path = dbutils.widgets.get(\"silver_base_path\")\n",
    "\n",
    "# Default to all tables if source is blank\n",
    "if source:\n",
    "    sources_to_process = [source]\n",
    "else:\n",
    "    sources_to_process = [\"patients\", \"encounters\", \"providers\", \"organizations\", \"conditions\"]"
   ]
  },
  {
   "cell_type": "code",
   "execution_count": 0,
   "metadata": {
    "application/vnd.databricks.v1+cell": {
     "cellMetadata": {
      "byteLimit": 2048000,
      "rowLimit": 10000
     },
     "inputWidgets": {},
     "nuid": "9b44973c-c8d8-4f09-b155-29bea1ffb994",
     "showTitle": false,
     "tableResultSettingsMap": {},
     "title": ""
    }
   },
   "outputs": [],
   "source": [
    "def silver_transform(df: DataFrame, source: str) -> DataFrame:\n",
    "    \"\"\"\n",
    "    Applies source-specific transformation logic for Silver layer.\n",
    "    \n",
    "    Parameters:\n",
    "        df (DataFrame): Input DataFrame from Bronze layer\n",
    "        source (str): Source name (e.g., 'patients', 'encounters', etc.)\n",
    "        \n",
    "    Returns:\n",
    "        DataFrame: Transformed DataFrame ready for Silver layer\n",
    "    \"\"\"\n",
    "    \n",
    "    if source == \"patients\":\n",
    "        # Synthea adds digits to end of names — regex to trim\n",
    "        df = df.withColumn(\"first\", regexp_replace(trim(col(\"first\")), r\"\\d+$\", \"\")) \\\n",
    "               .withColumn(\"middle\", regexp_replace(trim(col(\"middle\")), r\"\\d+$\", \"\")) \\\n",
    "               .withColumn(\"last\", regexp_replace(trim(col(\"last\")), r\"\\d+$\", \"\")) \\\n",
    "               .withColumn(\"maiden\", regexp_replace(trim(col(\"maiden\")), r\"\\d+$\", \"\")) \\\n",
    "               .withColumn(\"suffix\", regexp_replace(trim(col(\"suffix\")), r\"\\d+$\", \"\")) \\\n",
    "               .withColumn(\"birthdate\", to_date(\"birthdate\")) \\\n",
    "               .withColumn(\"deathdate\", to_date(\"deathdate\"))\n",
    "\n",
    "    elif source == \"encounters\":\n",
    "        # Timestamp cast and text field cleanup\n",
    "        df = df.withColumn(\"start\", to_timestamp(\"start\")) \\\n",
    "               .withColumn(\"stop\", to_timestamp(\"stop\")) \\\n",
    "               .withColumn(\"encounterclass\", trim(col(\"encounterclass\"))) \\\n",
    "               .withColumn(\"description\", trim(col(\"description\"))) \\\n",
    "               .withColumn(\"reasondescription\", trim(col(\"reasondescription\"))) \\\n",
    "               .withColumn(\"base_encounter_cost\", col(\"base_encounter_cost\").cast(\"double\")) \\\n",
    "               .withColumn(\"total_claim_cost\", col(\"total_claim_cost\").cast(\"double\")) \\\n",
    "               .withColumn(\"payer_coverage\", col(\"payer_coverage\").cast(\"double\"))\n",
    "\n",
    "    elif source == \"providers\":\n",
    "        # Trim digits from names and clean location fields\n",
    "        df = df.withColumn(\"name\", regexp_replace(trim(col(\"name\")), r\"(\\D+)\\d+\\s+(\\D+)\\d+\", r\"\\1 \\2\")) \\\n",
    "               .withColumn(\"speciality\", trim(col(\"speciality\"))) \\\n",
    "               .withColumn(\"address\", trim(col(\"address\"))) \\\n",
    "               .withColumn(\"city\", trim(col(\"city\"))) \\\n",
    "               .withColumn(\"state\", trim(col(\"state\"))) \\\n",
    "               .withColumn(\"zip_clean\",\n",
    "                    when(length(col(\"zip\")) < 5, lpad(col(\"zip\").cast(\"string\"), 5, \"0\"))\n",
    "                    .otherwise(col(\"zip\").cast(\"string\").substr(1, 5)))\n",
    "\n",
    "    elif source == \"organizations\":\n",
    "        # Clean contact and location info, fix ZIPs and phone format\n",
    "        df = df.withColumn(\"name\", trim(col(\"name\"))) \\\n",
    "               .withColumn(\"address\", trim(col(\"address\"))) \\\n",
    "               .withColumn(\"city\", trim(col(\"city\"))) \\\n",
    "               .withColumn(\"state\", trim(col(\"state\"))) \\\n",
    "               .withColumn(\"phone\", trim(col(\"phone\"))) \\\n",
    "               .withColumn(\"zip_cleaned\",\n",
    "                    when(length(col(\"zip\")) < 5, lpad(col(\"zip\").cast(\"string\"), 5, \"0\"))\n",
    "                    .otherwise(col(\"zip\").cast(\"string\").substr(1, 5))) \\\n",
    "               .withColumn(\"phone\",\n",
    "                    regexp_replace(col(\"phone\"), r\"[^0-9]\", \"\").substr(1, 10)) \\\n",
    "               .withColumn(\"revenue\", col(\"revenue\").cast(\"double\")) \\\n",
    "               .withColumn(\"utilization\", col(\"utilization\").cast(\"int\"))\n",
    "\n",
    "    elif source == \"conditions\":\n",
    "        # Cast dates and extract condition type from description\n",
    "        df = df.withColumn(\"start\", to_date(\"start\")) \\\n",
    "               .withColumn(\"stop\", to_date(\"stop\")) \\\n",
    "               .withColumn(\"description\", trim(col(\"description\"))) \\\n",
    "               .withColumn(\"condition_type\", regexp_extract(col(\"description\"), r\"\\((.*?)\\)\", 1))\n",
    "\n",
    "    else:\n",
    "        raise ValueError(f\"Unknown source: {source}\")\n",
    "\n",
    "    return df\n"
   ]
  },
  {
   "cell_type": "code",
   "execution_count": 0,
   "metadata": {
    "application/vnd.databricks.v1+cell": {
     "cellMetadata": {
      "byteLimit": 2048000,
      "rowLimit": 10000
     },
     "inputWidgets": {},
     "nuid": "a89f4303-9919-439e-bd33-75d2556d7c3f",
     "showTitle": false,
     "tableResultSettingsMap": {},
     "title": ""
    }
   },
   "outputs": [
    {
     "output_type": "stream",
     "name": "stdout",
     "output_type": "stream",
     "text": [
      "🔄 Processing patients from /FileStore/bronze/patients → /FileStore/silver/patients\n✅ Successfully wrote Silver table: patients\n🔄 Processing encounters from /FileStore/bronze/encounters → /FileStore/silver/encounters\n✅ Successfully wrote Silver table: encounters\n🔄 Processing providers from /FileStore/bronze/providers → /FileStore/silver/providers\n✅ Successfully wrote Silver table: providers\n🔄 Processing organizations from /FileStore/bronze/organizations → /FileStore/silver/organizations\n✅ Successfully wrote Silver table: organizations\n🔄 Processing conditions from /FileStore/bronze/conditions → /FileStore/silver/conditions\n✅ Successfully wrote Silver table: conditions\n"
     ]
    }
   ],
   "source": [
    "for src in sources_to_process:\n",
    "    input_path = f\"{bronze_base_path}/{src}\"\n",
    "    output_path = f\"{silver_base_path}/{src}\"\n",
    "    \n",
    "    print(f\"🔄 Processing {src} from {input_path} -> {output_path}\")\n",
    "    \n",
    "    try:\n",
    "        df_bronze = spark.read.format(\"delta\").load(input_path)\n",
    "        df_silver = silver_transform(df_bronze, src)\n",
    "        df_silver.write.format(\"delta\").mode(\"overwrite\").save(output_path)\n",
    "        print(f\"✅ Successfully wrote Silver table: {src}\")\n",
    "    except Exception as e:\n",
    "        print(f\"❌ Error processing {src}: {e}\")\n"
   ]
  },
  {
   "cell_type": "code",
   "execution_count": 0,
   "metadata": {
    "application/vnd.databricks.v1+cell": {
     "cellMetadata": {},
     "inputWidgets": {},
     "nuid": "a98a588d-1013-43b2-bdce-c99679d634c3",
     "showTitle": false,
     "tableResultSettingsMap": {},
     "title": ""
    }
   },
   "outputs": [],
   "source": []
  }
 ],
 "metadata": {
  "application/vnd.databricks.v1+notebook": {
   "computePreferences": null,
   "dashboards": [],
   "environmentMetadata": {
    "base_environment": "",
    "environment_version": "1"
   },
   "inputWidgetPreferences": null,
   "language": "python",
   "notebookMetadata": {
    "pythonIndentUnit": 4
   },
   "notebookName": "synthea_silver_clean",
   "widgets": {
    "bronze_base_path": {
     "currentValue": "/FileStore/bronze",
     "nuid": "46051baa-10e4-47fd-95ac-b54349d7f8c5",
     "typedWidgetInfo": {
      "autoCreated": false,
      "defaultValue": "/FileStore/bronze",
      "label": null,
      "name": "bronze_base_path",
      "options": {
       "widgetDisplayType": "Text",
       "validationRegex": null
      },
      "parameterDataType": "String"
     },
     "widgetInfo": {
      "widgetType": "text",
      "defaultValue": "/FileStore/bronze",
      "label": null,
      "name": "bronze_base_path",
      "options": {
       "widgetType": "text",
       "autoCreated": false,
       "validationRegex": null
      }
     }
    },
    "silver_base_path": {
     "currentValue": "/FileStore/silver",
     "nuid": "0c61bb87-7ad6-4ccb-9b78-0964f1d8afc7",
     "typedWidgetInfo": {
      "autoCreated": false,
      "defaultValue": "/FileStore/silver",
      "label": null,
      "name": "silver_base_path",
      "options": {
       "widgetDisplayType": "Text",
       "validationRegex": null
      },
      "parameterDataType": "String"
     },
     "widgetInfo": {
      "widgetType": "text",
      "defaultValue": "/FileStore/silver",
      "label": null,
      "name": "silver_base_path",
      "options": {
       "widgetType": "text",
       "autoCreated": false,
       "validationRegex": null
      }
     }
    },
    "source": {
     "currentValue": "",
     "nuid": "000db22e-b2f9-4aae-bcfe-fd3892b7bc09",
     "typedWidgetInfo": {
      "autoCreated": false,
      "defaultValue": "",
      "label": null,
      "name": "source",
      "options": {
       "widgetDisplayType": "Text",
       "validationRegex": null
      },
      "parameterDataType": "String"
     },
     "widgetInfo": {
      "widgetType": "text",
      "defaultValue": "",
      "label": null,
      "name": "source",
      "options": {
       "widgetType": "text",
       "autoCreated": false,
       "validationRegex": null
      }
     }
    }
   }
  }
 },
 "nbformat": 4,
 "nbformat_minor": 0
}